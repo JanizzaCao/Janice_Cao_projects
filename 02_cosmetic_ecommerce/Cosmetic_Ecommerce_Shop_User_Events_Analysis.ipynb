{
 "cells": [
  {
   "cell_type": "markdown",
   "metadata": {},
   "source": [
    "# understanding information"
   ]
  },
  {
   "cell_type": "code",
   "execution_count": 1,
   "metadata": {},
   "outputs": [
    {
     "data": {
      "text/html": [
       "<div>\n",
       "<style scoped>\n",
       "    .dataframe tbody tr th:only-of-type {\n",
       "        vertical-align: middle;\n",
       "    }\n",
       "\n",
       "    .dataframe tbody tr th {\n",
       "        vertical-align: top;\n",
       "    }\n",
       "\n",
       "    .dataframe thead th {\n",
       "        text-align: right;\n",
       "    }\n",
       "</style>\n",
       "<table border=\"1\" class=\"dataframe\">\n",
       "  <thead>\n",
       "    <tr style=\"text-align: right;\">\n",
       "      <th></th>\n",
       "      <th>event_time</th>\n",
       "      <th>event_type</th>\n",
       "      <th>product_id</th>\n",
       "      <th>category_id</th>\n",
       "      <th>category_code</th>\n",
       "      <th>brand</th>\n",
       "      <th>price</th>\n",
       "      <th>user_id</th>\n",
       "      <th>user_session</th>\n",
       "    </tr>\n",
       "  </thead>\n",
       "  <tbody>\n",
       "    <tr>\n",
       "      <th>0</th>\n",
       "      <td>2019-10-01 00:00:00 UTC</td>\n",
       "      <td>cart</td>\n",
       "      <td>5773203</td>\n",
       "      <td>1487580005134238553</td>\n",
       "      <td>NaN</td>\n",
       "      <td>runail</td>\n",
       "      <td>0.42</td>\n",
       "      <td>463240011</td>\n",
       "      <td>26dd6e6e-4dac-4778-8d2c-92e149dab885</td>\n",
       "    </tr>\n",
       "    <tr>\n",
       "      <th>1</th>\n",
       "      <td>2019-10-01 00:00:03 UTC</td>\n",
       "      <td>cart</td>\n",
       "      <td>5773353</td>\n",
       "      <td>1487580005134238553</td>\n",
       "      <td>NaN</td>\n",
       "      <td>runail</td>\n",
       "      <td>0.42</td>\n",
       "      <td>463240011</td>\n",
       "      <td>26dd6e6e-4dac-4778-8d2c-92e149dab885</td>\n",
       "    </tr>\n",
       "    <tr>\n",
       "      <th>2</th>\n",
       "      <td>2019-10-01 00:00:07 UTC</td>\n",
       "      <td>cart</td>\n",
       "      <td>5881589</td>\n",
       "      <td>2151191071051219817</td>\n",
       "      <td>NaN</td>\n",
       "      <td>lovely</td>\n",
       "      <td>2.19</td>\n",
       "      <td>429681830</td>\n",
       "      <td>49e8d843-adf3-428b-a2c3-fe8bc6a307c9</td>\n",
       "    </tr>\n",
       "    <tr>\n",
       "      <th>3</th>\n",
       "      <td>2019-10-01 00:00:07 UTC</td>\n",
       "      <td>cart</td>\n",
       "      <td>5723490</td>\n",
       "      <td>1487580005134238553</td>\n",
       "      <td>NaN</td>\n",
       "      <td>runail</td>\n",
       "      <td>0.42</td>\n",
       "      <td>463240011</td>\n",
       "      <td>26dd6e6e-4dac-4778-8d2c-92e149dab885</td>\n",
       "    </tr>\n",
       "    <tr>\n",
       "      <th>4</th>\n",
       "      <td>2019-10-01 00:00:15 UTC</td>\n",
       "      <td>cart</td>\n",
       "      <td>5881449</td>\n",
       "      <td>1487580013522845895</td>\n",
       "      <td>NaN</td>\n",
       "      <td>lovely</td>\n",
       "      <td>0.09</td>\n",
       "      <td>429681830</td>\n",
       "      <td>49e8d843-adf3-428b-a2c3-fe8bc6a307c9</td>\n",
       "    </tr>\n",
       "  </tbody>\n",
       "</table>\n",
       "</div>"
      ],
      "text/plain": [
       "                event_time event_type  product_id          category_id  \\\n",
       "0  2019-10-01 00:00:00 UTC       cart     5773203  1487580005134238553   \n",
       "1  2019-10-01 00:00:03 UTC       cart     5773353  1487580005134238553   \n",
       "2  2019-10-01 00:00:07 UTC       cart     5881589  2151191071051219817   \n",
       "3  2019-10-01 00:00:07 UTC       cart     5723490  1487580005134238553   \n",
       "4  2019-10-01 00:00:15 UTC       cart     5881449  1487580013522845895   \n",
       "\n",
       "  category_code   brand  price    user_id  \\\n",
       "0           NaN  runail   0.42  463240011   \n",
       "1           NaN  runail   0.42  463240011   \n",
       "2           NaN  lovely   2.19  429681830   \n",
       "3           NaN  runail   0.42  463240011   \n",
       "4           NaN  lovely   0.09  429681830   \n",
       "\n",
       "                           user_session  \n",
       "0  26dd6e6e-4dac-4778-8d2c-92e149dab885  \n",
       "1  26dd6e6e-4dac-4778-8d2c-92e149dab885  \n",
       "2  49e8d843-adf3-428b-a2c3-fe8bc6a307c9  \n",
       "3  26dd6e6e-4dac-4778-8d2c-92e149dab885  \n",
       "4  49e8d843-adf3-428b-a2c3-fe8bc6a307c9  "
      ]
     },
     "execution_count": 1,
     "metadata": {},
     "output_type": "execute_result"
    }
   ],
   "source": [
    "import pandas as pd\n",
    "import numpy as np\n",
    "import matplotlib.pyplot as plt\n",
    "import seaborn as sns\n",
    "from scipy import stats\n",
    "path = '2019-Oct.csv'\n",
    "df = pd.read_csv(path)\n",
    "df.head()"
   ]
  },
  {
   "cell_type": "code",
   "execution_count": 2,
   "metadata": {},
   "outputs": [
    {
     "name": "stdout",
     "output_type": "stream",
     "text": [
      "<class 'pandas.core.frame.DataFrame'>\n",
      "RangeIndex: 4102052 entries, 0 to 4102051\n",
      "Data columns (total 9 columns):\n",
      "event_time       object\n",
      "event_type       object\n",
      "product_id       int64\n",
      "category_id      int64\n",
      "category_code    object\n",
      "brand            object\n",
      "price            float64\n",
      "user_id          int64\n",
      "user_session     object\n",
      "dtypes: float64(1), int64(3), object(5)\n",
      "memory usage: 281.7+ MB\n"
     ]
    }
   ],
   "source": [
    "df.info()"
   ]
  },
  {
   "cell_type": "code",
   "execution_count": 3,
   "metadata": {},
   "outputs": [
    {
     "data": {
      "text/plain": [
       "runail       306239\n",
       "irisk        226589\n",
       "masura       195170\n",
       "grattol      132130\n",
       "bpw.style    114192\n",
       "              ...  \n",
       "gena              2\n",
       "dessata           2\n",
       "ikoo              1\n",
       "pueen             1\n",
       "shifei            1\n",
       "Name: brand, Length: 240, dtype: int64"
      ]
     },
     "execution_count": 3,
     "metadata": {},
     "output_type": "execute_result"
    }
   ],
   "source": [
    "df.brand.value_counts()"
   ]
  },
  {
   "cell_type": "code",
   "execution_count": 4,
   "metadata": {},
   "outputs": [
    {
     "data": {
      "text/plain": [
       "view                1861933\n",
       "cart                1232385\n",
       "remove_from_cart     762110\n",
       "purchase             245624\n",
       "Name: event_type, dtype: int64"
      ]
     },
     "execution_count": 4,
     "metadata": {},
     "output_type": "execute_result"
    }
   ],
   "source": [
    "df.event_type.value_counts()"
   ]
  },
  {
   "cell_type": "code",
   "execution_count": 5,
   "metadata": {},
   "outputs": [
    {
     "data": {
      "text/plain": [
       "399615"
      ]
     },
     "execution_count": 5,
     "metadata": {},
     "output_type": "execute_result"
    }
   ],
   "source": [
    "df.user_id.nunique()"
   ]
  },
  {
   "cell_type": "code",
   "execution_count": 6,
   "metadata": {},
   "outputs": [
    {
     "data": {
      "text/plain": [
       "event_time             0\n",
       "event_type             0\n",
       "product_id             0\n",
       "category_id            0\n",
       "category_code    4042523\n",
       "brand            1659030\n",
       "price                  0\n",
       "user_id                0\n",
       "user_session         637\n",
       "dtype: int64"
      ]
     },
     "execution_count": 6,
     "metadata": {},
     "output_type": "execute_result"
    }
   ],
   "source": [
    "df.isnull().sum()"
   ]
  },
  {
   "cell_type": "markdown",
   "metadata": {},
   "source": [
    "category_code, brand列有大量缺失数值，后续对产品类目进行分析时要处理"
   ]
  },
  {
   "cell_type": "markdown",
   "metadata": {},
   "source": [
    "## transfer event_time to datetime"
   ]
  },
  {
   "cell_type": "code",
   "execution_count": 7,
   "metadata": {},
   "outputs": [],
   "source": [
    "import re\n",
    "#split date and time\n",
    "df['time_zoneless'] = df.event_time.str[:-3]\n",
    "df['date'] = df.time_zoneless.map(lambda x: re.compile(' ').split(x)[0])\n",
    "df['time'] = df.time_zoneless.map(lambda x: re.compile(' ').split(x)[1])\n",
    "df.time_zoneless = pd.to_datetime(df['time_zoneless'])\n",
    "df.date = pd.to_datetime(df['date'])"
   ]
  },
  {
   "cell_type": "code",
   "execution_count": 8,
   "metadata": {
    "scrolled": true
   },
   "outputs": [
    {
     "data": {
      "text/html": [
       "<div>\n",
       "<style scoped>\n",
       "    .dataframe tbody tr th:only-of-type {\n",
       "        vertical-align: middle;\n",
       "    }\n",
       "\n",
       "    .dataframe tbody tr th {\n",
       "        vertical-align: top;\n",
       "    }\n",
       "\n",
       "    .dataframe thead th {\n",
       "        text-align: right;\n",
       "    }\n",
       "</style>\n",
       "<table border=\"1\" class=\"dataframe\">\n",
       "  <thead>\n",
       "    <tr style=\"text-align: right;\">\n",
       "      <th></th>\n",
       "      <th>event_time</th>\n",
       "      <th>event_type</th>\n",
       "      <th>product_id</th>\n",
       "      <th>category_id</th>\n",
       "      <th>category_code</th>\n",
       "      <th>brand</th>\n",
       "      <th>price</th>\n",
       "      <th>user_id</th>\n",
       "      <th>user_session</th>\n",
       "      <th>time_zoneless</th>\n",
       "      <th>date</th>\n",
       "      <th>time</th>\n",
       "      <th>hour</th>\n",
       "      <th>minute</th>\n",
       "      <th>second</th>\n",
       "    </tr>\n",
       "  </thead>\n",
       "  <tbody>\n",
       "    <tr>\n",
       "      <th>0</th>\n",
       "      <td>2019-10-01 00:00:00 UTC</td>\n",
       "      <td>cart</td>\n",
       "      <td>5773203</td>\n",
       "      <td>1487580005134238553</td>\n",
       "      <td>NaN</td>\n",
       "      <td>runail</td>\n",
       "      <td>0.42</td>\n",
       "      <td>463240011</td>\n",
       "      <td>26dd6e6e-4dac-4778-8d2c-92e149dab885</td>\n",
       "      <td>2019-10-01 00:00:00</td>\n",
       "      <td>2019-10-01</td>\n",
       "      <td>00:00:00</td>\n",
       "      <td>0</td>\n",
       "      <td>0</td>\n",
       "      <td>0</td>\n",
       "    </tr>\n",
       "    <tr>\n",
       "      <th>1</th>\n",
       "      <td>2019-10-01 00:00:03 UTC</td>\n",
       "      <td>cart</td>\n",
       "      <td>5773353</td>\n",
       "      <td>1487580005134238553</td>\n",
       "      <td>NaN</td>\n",
       "      <td>runail</td>\n",
       "      <td>0.42</td>\n",
       "      <td>463240011</td>\n",
       "      <td>26dd6e6e-4dac-4778-8d2c-92e149dab885</td>\n",
       "      <td>2019-10-01 00:00:03</td>\n",
       "      <td>2019-10-01</td>\n",
       "      <td>00:00:03</td>\n",
       "      <td>0</td>\n",
       "      <td>0</td>\n",
       "      <td>3</td>\n",
       "    </tr>\n",
       "    <tr>\n",
       "      <th>2</th>\n",
       "      <td>2019-10-01 00:00:07 UTC</td>\n",
       "      <td>cart</td>\n",
       "      <td>5881589</td>\n",
       "      <td>2151191071051219817</td>\n",
       "      <td>NaN</td>\n",
       "      <td>lovely</td>\n",
       "      <td>2.19</td>\n",
       "      <td>429681830</td>\n",
       "      <td>49e8d843-adf3-428b-a2c3-fe8bc6a307c9</td>\n",
       "      <td>2019-10-01 00:00:07</td>\n",
       "      <td>2019-10-01</td>\n",
       "      <td>00:00:07</td>\n",
       "      <td>0</td>\n",
       "      <td>0</td>\n",
       "      <td>7</td>\n",
       "    </tr>\n",
       "    <tr>\n",
       "      <th>3</th>\n",
       "      <td>2019-10-01 00:00:07 UTC</td>\n",
       "      <td>cart</td>\n",
       "      <td>5723490</td>\n",
       "      <td>1487580005134238553</td>\n",
       "      <td>NaN</td>\n",
       "      <td>runail</td>\n",
       "      <td>0.42</td>\n",
       "      <td>463240011</td>\n",
       "      <td>26dd6e6e-4dac-4778-8d2c-92e149dab885</td>\n",
       "      <td>2019-10-01 00:00:07</td>\n",
       "      <td>2019-10-01</td>\n",
       "      <td>00:00:07</td>\n",
       "      <td>0</td>\n",
       "      <td>0</td>\n",
       "      <td>7</td>\n",
       "    </tr>\n",
       "    <tr>\n",
       "      <th>4</th>\n",
       "      <td>2019-10-01 00:00:15 UTC</td>\n",
       "      <td>cart</td>\n",
       "      <td>5881449</td>\n",
       "      <td>1487580013522845895</td>\n",
       "      <td>NaN</td>\n",
       "      <td>lovely</td>\n",
       "      <td>0.09</td>\n",
       "      <td>429681830</td>\n",
       "      <td>49e8d843-adf3-428b-a2c3-fe8bc6a307c9</td>\n",
       "      <td>2019-10-01 00:00:15</td>\n",
       "      <td>2019-10-01</td>\n",
       "      <td>00:00:15</td>\n",
       "      <td>0</td>\n",
       "      <td>0</td>\n",
       "      <td>15</td>\n",
       "    </tr>\n",
       "  </tbody>\n",
       "</table>\n",
       "</div>"
      ],
      "text/plain": [
       "                event_time event_type  product_id          category_id  \\\n",
       "0  2019-10-01 00:00:00 UTC       cart     5773203  1487580005134238553   \n",
       "1  2019-10-01 00:00:03 UTC       cart     5773353  1487580005134238553   \n",
       "2  2019-10-01 00:00:07 UTC       cart     5881589  2151191071051219817   \n",
       "3  2019-10-01 00:00:07 UTC       cart     5723490  1487580005134238553   \n",
       "4  2019-10-01 00:00:15 UTC       cart     5881449  1487580013522845895   \n",
       "\n",
       "  category_code   brand  price    user_id  \\\n",
       "0           NaN  runail   0.42  463240011   \n",
       "1           NaN  runail   0.42  463240011   \n",
       "2           NaN  lovely   2.19  429681830   \n",
       "3           NaN  runail   0.42  463240011   \n",
       "4           NaN  lovely   0.09  429681830   \n",
       "\n",
       "                           user_session       time_zoneless       date  \\\n",
       "0  26dd6e6e-4dac-4778-8d2c-92e149dab885 2019-10-01 00:00:00 2019-10-01   \n",
       "1  26dd6e6e-4dac-4778-8d2c-92e149dab885 2019-10-01 00:00:03 2019-10-01   \n",
       "2  49e8d843-adf3-428b-a2c3-fe8bc6a307c9 2019-10-01 00:00:07 2019-10-01   \n",
       "3  26dd6e6e-4dac-4778-8d2c-92e149dab885 2019-10-01 00:00:07 2019-10-01   \n",
       "4  49e8d843-adf3-428b-a2c3-fe8bc6a307c9 2019-10-01 00:00:15 2019-10-01   \n",
       "\n",
       "       time  hour  minute  second  \n",
       "0  00:00:00     0       0       0  \n",
       "1  00:00:03     0       0       3  \n",
       "2  00:00:07     0       0       7  \n",
       "3  00:00:07     0       0       7  \n",
       "4  00:00:15     0       0      15  "
      ]
     },
     "execution_count": 8,
     "metadata": {},
     "output_type": "execute_result"
    }
   ],
   "source": [
    "df['hour'] = df.time_zoneless.dt.hour\n",
    "df['minute'] = df.time_zoneless.dt.minute\n",
    "df['second'] = df.time_zoneless.dt.second\n",
    "df.head()"
   ]
  },
  {
   "cell_type": "code",
   "execution_count": 9,
   "metadata": {},
   "outputs": [
    {
     "name": "stdout",
     "output_type": "stream",
     "text": [
      "<class 'pandas.core.frame.DataFrame'>\n",
      "RangeIndex: 4102052 entries, 0 to 4102051\n",
      "Data columns (total 15 columns):\n",
      "event_time       object\n",
      "event_type       object\n",
      "product_id       int64\n",
      "category_id      int64\n",
      "category_code    object\n",
      "brand            object\n",
      "price            float64\n",
      "user_id          int64\n",
      "user_session     object\n",
      "time_zoneless    datetime64[ns]\n",
      "date             datetime64[ns]\n",
      "time             object\n",
      "hour             int64\n",
      "minute           int64\n",
      "second           int64\n",
      "dtypes: datetime64[ns](2), float64(1), int64(6), object(6)\n",
      "memory usage: 469.4+ MB\n"
     ]
    }
   ],
   "source": [
    "df.info()"
   ]
  },
  {
   "cell_type": "markdown",
   "metadata": {},
   "source": [
    "## if a single customer have same event to same product"
   ]
  },
  {
   "cell_type": "code",
   "execution_count": 10,
   "metadata": {},
   "outputs": [],
   "source": [
    "cutomer_event_multiple_times = df.groupby(['user_id','product_id']).event_type.value_counts()"
   ]
  },
  {
   "cell_type": "code",
   "execution_count": 11,
   "metadata": {
    "scrolled": true
   },
   "outputs": [
    {
     "data": {
      "text/html": [
       "<div>\n",
       "<style scoped>\n",
       "    .dataframe tbody tr th:only-of-type {\n",
       "        vertical-align: middle;\n",
       "    }\n",
       "\n",
       "    .dataframe tbody tr th {\n",
       "        vertical-align: top;\n",
       "    }\n",
       "\n",
       "    .dataframe thead th {\n",
       "        text-align: right;\n",
       "    }\n",
       "</style>\n",
       "<table border=\"1\" class=\"dataframe\">\n",
       "  <thead>\n",
       "    <tr style=\"text-align: right;\">\n",
       "      <th></th>\n",
       "      <th>event_type</th>\n",
       "      <th>cart</th>\n",
       "      <th>purchase</th>\n",
       "      <th>remove_from_cart</th>\n",
       "      <th>view</th>\n",
       "    </tr>\n",
       "    <tr>\n",
       "      <th>user_id</th>\n",
       "      <th>product_id</th>\n",
       "      <th></th>\n",
       "      <th></th>\n",
       "      <th></th>\n",
       "      <th></th>\n",
       "    </tr>\n",
       "  </thead>\n",
       "  <tbody>\n",
       "    <tr>\n",
       "      <th rowspan=\"5\" valign=\"top\">4103071</th>\n",
       "      <th>5563536</th>\n",
       "      <td>NaN</td>\n",
       "      <td>NaN</td>\n",
       "      <td>NaN</td>\n",
       "      <td>1.0</td>\n",
       "    </tr>\n",
       "    <tr>\n",
       "      <th>5670334</th>\n",
       "      <td>NaN</td>\n",
       "      <td>NaN</td>\n",
       "      <td>NaN</td>\n",
       "      <td>1.0</td>\n",
       "    </tr>\n",
       "    <tr>\n",
       "      <th>5735272</th>\n",
       "      <td>NaN</td>\n",
       "      <td>NaN</td>\n",
       "      <td>NaN</td>\n",
       "      <td>1.0</td>\n",
       "    </tr>\n",
       "    <tr>\n",
       "      <th>5784982</th>\n",
       "      <td>NaN</td>\n",
       "      <td>NaN</td>\n",
       "      <td>NaN</td>\n",
       "      <td>2.0</td>\n",
       "    </tr>\n",
       "    <tr>\n",
       "      <th>5795273</th>\n",
       "      <td>NaN</td>\n",
       "      <td>NaN</td>\n",
       "      <td>NaN</td>\n",
       "      <td>1.0</td>\n",
       "    </tr>\n",
       "  </tbody>\n",
       "</table>\n",
       "</div>"
      ],
      "text/plain": [
       "event_type          cart  purchase  remove_from_cart  view\n",
       "user_id product_id                                        \n",
       "4103071 5563536      NaN       NaN               NaN   1.0\n",
       "        5670334      NaN       NaN               NaN   1.0\n",
       "        5735272      NaN       NaN               NaN   1.0\n",
       "        5784982      NaN       NaN               NaN   2.0\n",
       "        5795273      NaN       NaN               NaN   1.0"
      ]
     },
     "execution_count": 11,
     "metadata": {},
     "output_type": "execute_result"
    }
   ],
   "source": [
    "cutomer_event_multiple_times.unstack().head()"
   ]
  },
  {
   "cell_type": "markdown",
   "metadata": {},
   "source": [
    "# customer behavior analysis\n",
    "## PV and UV\n",
    "### daily\n",
    "Use group by to calculate the page view and unique visitor in each day:"
   ]
  },
  {
   "cell_type": "code",
   "execution_count": 12,
   "metadata": {},
   "outputs": [
    {
     "data": {
      "text/html": [
       "<div>\n",
       "<style scoped>\n",
       "    .dataframe tbody tr th:only-of-type {\n",
       "        vertical-align: middle;\n",
       "    }\n",
       "\n",
       "    .dataframe tbody tr th {\n",
       "        vertical-align: top;\n",
       "    }\n",
       "\n",
       "    .dataframe thead th {\n",
       "        text-align: right;\n",
       "    }\n",
       "</style>\n",
       "<table border=\"1\" class=\"dataframe\">\n",
       "  <thead>\n",
       "    <tr style=\"text-align: right;\">\n",
       "      <th></th>\n",
       "      <th>date</th>\n",
       "      <th>pv</th>\n",
       "    </tr>\n",
       "  </thead>\n",
       "  <tbody>\n",
       "    <tr>\n",
       "      <th>0</th>\n",
       "      <td>2019-10-01</td>\n",
       "      <td>142414</td>\n",
       "    </tr>\n",
       "    <tr>\n",
       "      <th>1</th>\n",
       "      <td>2019-10-02</td>\n",
       "      <td>201068</td>\n",
       "    </tr>\n",
       "    <tr>\n",
       "      <th>2</th>\n",
       "      <td>2019-10-03</td>\n",
       "      <td>124847</td>\n",
       "    </tr>\n",
       "    <tr>\n",
       "      <th>3</th>\n",
       "      <td>2019-10-04</td>\n",
       "      <td>115610</td>\n",
       "    </tr>\n",
       "    <tr>\n",
       "      <th>4</th>\n",
       "      <td>2019-10-05</td>\n",
       "      <td>106342</td>\n",
       "    </tr>\n",
       "  </tbody>\n",
       "</table>\n",
       "</div>"
      ],
      "text/plain": [
       "        date      pv\n",
       "0 2019-10-01  142414\n",
       "1 2019-10-02  201068\n",
       "2 2019-10-03  124847\n",
       "3 2019-10-04  115610\n",
       "4 2019-10-05  106342"
      ]
     },
     "execution_count": 12,
     "metadata": {},
     "output_type": "execute_result"
    }
   ],
   "source": [
    "pv_d = df.groupby('date').user_id.count().reset_index()\n",
    "pv_d.rename(columns = {'user_id':'pv'}, inplace = True)\n",
    "uv_d = df.groupby('date').user_id.nunique().reset_index()\n",
    "uv_d.rename(columns = {'user_id':'uv'}, inplace = True)\n",
    "pv_d.head()"
   ]
  },
  {
   "cell_type": "code",
   "execution_count": 13,
   "metadata": {},
   "outputs": [
    {
     "data": {
      "text/html": [
       "<div>\n",
       "<style scoped>\n",
       "    .dataframe tbody tr th:only-of-type {\n",
       "        vertical-align: middle;\n",
       "    }\n",
       "\n",
       "    .dataframe tbody tr th {\n",
       "        vertical-align: top;\n",
       "    }\n",
       "\n",
       "    .dataframe thead th {\n",
       "        text-align: right;\n",
       "    }\n",
       "</style>\n",
       "<table border=\"1\" class=\"dataframe\">\n",
       "  <thead>\n",
       "    <tr style=\"text-align: right;\">\n",
       "      <th></th>\n",
       "      <th>pv</th>\n",
       "    </tr>\n",
       "  </thead>\n",
       "  <tbody>\n",
       "    <tr>\n",
       "      <th>count</th>\n",
       "      <td>31.000000</td>\n",
       "    </tr>\n",
       "    <tr>\n",
       "      <th>mean</th>\n",
       "      <td>132324.258065</td>\n",
       "    </tr>\n",
       "    <tr>\n",
       "      <th>std</th>\n",
       "      <td>22344.687255</td>\n",
       "    </tr>\n",
       "    <tr>\n",
       "      <th>min</th>\n",
       "      <td>104292.000000</td>\n",
       "    </tr>\n",
       "    <tr>\n",
       "      <th>25%</th>\n",
       "      <td>117907.000000</td>\n",
       "    </tr>\n",
       "    <tr>\n",
       "      <th>50%</th>\n",
       "      <td>130023.000000</td>\n",
       "    </tr>\n",
       "    <tr>\n",
       "      <th>75%</th>\n",
       "      <td>136202.000000</td>\n",
       "    </tr>\n",
       "    <tr>\n",
       "      <th>max</th>\n",
       "      <td>201068.000000</td>\n",
       "    </tr>\n",
       "  </tbody>\n",
       "</table>\n",
       "</div>"
      ],
      "text/plain": [
       "                  pv\n",
       "count      31.000000\n",
       "mean   132324.258065\n",
       "std     22344.687255\n",
       "min    104292.000000\n",
       "25%    117907.000000\n",
       "50%    130023.000000\n",
       "75%    136202.000000\n",
       "max    201068.000000"
      ]
     },
     "execution_count": 13,
     "metadata": {},
     "output_type": "execute_result"
    }
   ],
   "source": [
    "pv_d.describe()"
   ]
  },
  {
   "cell_type": "code",
   "execution_count": 14,
   "metadata": {},
   "outputs": [
    {
     "data": {
      "text/html": [
       "<div>\n",
       "<style scoped>\n",
       "    .dataframe tbody tr th:only-of-type {\n",
       "        vertical-align: middle;\n",
       "    }\n",
       "\n",
       "    .dataframe tbody tr th {\n",
       "        vertical-align: top;\n",
       "    }\n",
       "\n",
       "    .dataframe thead th {\n",
       "        text-align: right;\n",
       "    }\n",
       "</style>\n",
       "<table border=\"1\" class=\"dataframe\">\n",
       "  <thead>\n",
       "    <tr style=\"text-align: right;\">\n",
       "      <th></th>\n",
       "      <th>uv</th>\n",
       "    </tr>\n",
       "  </thead>\n",
       "  <tbody>\n",
       "    <tr>\n",
       "      <th>count</th>\n",
       "      <td>31.000000</td>\n",
       "    </tr>\n",
       "    <tr>\n",
       "      <th>mean</th>\n",
       "      <td>17950.741935</td>\n",
       "    </tr>\n",
       "    <tr>\n",
       "      <th>std</th>\n",
       "      <td>4490.955600</td>\n",
       "    </tr>\n",
       "    <tr>\n",
       "      <th>min</th>\n",
       "      <td>14532.000000</td>\n",
       "    </tr>\n",
       "    <tr>\n",
       "      <th>25%</th>\n",
       "      <td>15672.000000</td>\n",
       "    </tr>\n",
       "    <tr>\n",
       "      <th>50%</th>\n",
       "      <td>16942.000000</td>\n",
       "    </tr>\n",
       "    <tr>\n",
       "      <th>75%</th>\n",
       "      <td>17432.000000</td>\n",
       "    </tr>\n",
       "    <tr>\n",
       "      <th>max</th>\n",
       "      <td>33859.000000</td>\n",
       "    </tr>\n",
       "  </tbody>\n",
       "</table>\n",
       "</div>"
      ],
      "text/plain": [
       "                 uv\n",
       "count     31.000000\n",
       "mean   17950.741935\n",
       "std     4490.955600\n",
       "min    14532.000000\n",
       "25%    15672.000000\n",
       "50%    16942.000000\n",
       "75%    17432.000000\n",
       "max    33859.000000"
      ]
     },
     "execution_count": 14,
     "metadata": {},
     "output_type": "execute_result"
    }
   ],
   "source": [
    "uv_d.describe()"
   ]
  },
  {
   "cell_type": "markdown",
   "metadata": {},
   "source": [
    "To draw on the x axis, add one column 'day' and store the day from the date to this column:"
   ]
  },
  {
   "cell_type": "code",
   "execution_count": 15,
   "metadata": {},
   "outputs": [],
   "source": [
    "pv_d['day'] = pv_d.date.dt.strftime(\"%d\")\n",
    "pv_d.head()\n",
    "uv_d['day'] = uv_d.date.dt.strftime('%d')"
   ]
  },
  {
   "cell_type": "code",
   "execution_count": 16,
   "metadata": {},
   "outputs": [
    {
     "data": {
      "text/html": [
       "<div>\n",
       "<style scoped>\n",
       "    .dataframe tbody tr th:only-of-type {\n",
       "        vertical-align: middle;\n",
       "    }\n",
       "\n",
       "    .dataframe tbody tr th {\n",
       "        vertical-align: top;\n",
       "    }\n",
       "\n",
       "    .dataframe thead th {\n",
       "        text-align: right;\n",
       "    }\n",
       "</style>\n",
       "<table border=\"1\" class=\"dataframe\">\n",
       "  <thead>\n",
       "    <tr style=\"text-align: right;\">\n",
       "      <th></th>\n",
       "      <th>date</th>\n",
       "      <th>pv</th>\n",
       "      <th>day</th>\n",
       "    </tr>\n",
       "  </thead>\n",
       "  <tbody>\n",
       "    <tr>\n",
       "      <th>1</th>\n",
       "      <td>2019-10-02</td>\n",
       "      <td>201068</td>\n",
       "      <td>02</td>\n",
       "    </tr>\n",
       "  </tbody>\n",
       "</table>\n",
       "</div>"
      ],
      "text/plain": [
       "        date      pv day\n",
       "1 2019-10-02  201068  02"
      ]
     },
     "execution_count": 16,
     "metadata": {},
     "output_type": "execute_result"
    }
   ],
   "source": [
    "pv_d_max = pv_d[pv_d.pv == pv_d.pv.max()]\n",
    "pv_d_max"
   ]
  },
  {
   "cell_type": "code",
   "execution_count": 17,
   "metadata": {},
   "outputs": [
    {
     "data": {
      "text/html": [
       "<div>\n",
       "<style scoped>\n",
       "    .dataframe tbody tr th:only-of-type {\n",
       "        vertical-align: middle;\n",
       "    }\n",
       "\n",
       "    .dataframe tbody tr th {\n",
       "        vertical-align: top;\n",
       "    }\n",
       "\n",
       "    .dataframe thead th {\n",
       "        text-align: right;\n",
       "    }\n",
       "</style>\n",
       "<table border=\"1\" class=\"dataframe\">\n",
       "  <thead>\n",
       "    <tr style=\"text-align: right;\">\n",
       "      <th></th>\n",
       "      <th>date</th>\n",
       "      <th>uv</th>\n",
       "      <th>day</th>\n",
       "    </tr>\n",
       "  </thead>\n",
       "  <tbody>\n",
       "    <tr>\n",
       "      <th>1</th>\n",
       "      <td>2019-10-02</td>\n",
       "      <td>33859</td>\n",
       "      <td>02</td>\n",
       "    </tr>\n",
       "  </tbody>\n",
       "</table>\n",
       "</div>"
      ],
      "text/plain": [
       "        date     uv day\n",
       "1 2019-10-02  33859  02"
      ]
     },
     "execution_count": 17,
     "metadata": {},
     "output_type": "execute_result"
    }
   ],
   "source": [
    "uv_d_max = uv_d[uv_d.uv == uv_d.uv.max()]\n",
    "uv_d_max "
   ]
  },
  {
   "cell_type": "markdown",
   "metadata": {},
   "source": [
    "Draw the line plot for daily PV and daily UV:"
   ]
  },
  {
   "cell_type": "code",
   "execution_count": 18,
   "metadata": {},
   "outputs": [
    {
     "data": {
      "image/png": "[encoded data removed]",
      "text/plain": [
       "<Figure size 720x432 with 1 Axes>"
      ]
     },
     "metadata": {
      "needs_background": "light"
     },
     "output_type": "display_data"
    }
   ],
   "source": [
    "%matplotlib inline\n",
    "xlabel = range(1,32,2)\n",
    "fig = plt.figure(figsize = (10,6))\n",
    "sns.set(style = 'white', palette = 'bright')\n",
    "ax = fig.add_subplot()\n",
    "plt.plot(pv_d.day, pv_d.pv)\n",
    "plt.plot(pv_d_max.day, pv_d_max.pv, marker = '*', markersize = 15)\n",
    "maxdate = pv_d_max.iloc[0,2]\n",
    "maxpv_d = pv_d_max.iloc[0,1]\n",
    "#plt.text(pv_d_max.day, pv_d_max.pv, \n",
    "#         \"   {} times in {}/10\".format(maxpv_d, maxdate))\n",
    "plt.title('Daily PV', fontsize = 18)\n",
    "plt.xlabel('Day in Oct 2019',fontsize = 15)\n",
    "ax.set_yticks(range(100000,200001,20000))\n",
    "ax.set_yticklabels(['100k','120k','140k','160k','180k','200k'])\n",
    "ax.set_xticks(['01','04','07','10','13','16','19','22','25','28','31'])\n",
    "plt.grid(linestyle = \"--\", alpha = 0.5)\n",
    "ax.spines['top'].set_visible(False)\n",
    "ax.spines['right'].set_visible(False)\n",
    "\n",
    "#plt.savefig('2.11 daily PV.png')"
   ]
  },
  {
   "cell_type": "code",
   "execution_count": 19,
   "metadata": {},
   "outputs": [
    {
     "data": {
      "image/png": "[encoded data removed]",
      "text/plain": [
       "<Figure size 720x432 with 1 Axes>"
      ]
     },
     "metadata": {},
     "output_type": "display_data"
    }
   ],
   "source": [
    "xlabel = range(1,32,2)\n",
    "\n",
    "fig = plt.figure(figsize = (10,6))\n",
    "sns.set(style = 'white', palette = 'bright')\n",
    "ax = fig.add_subplot()\n",
    "plt.plot(uv_d.day, uv_d.uv)\n",
    "plt.plot(uv_d_max.day, uv_d_max.uv, marker = '*', markersize = 15)\n",
    "\n",
    "plt.title('Daily UV', fontsize = 18)\n",
    "plt.grid(linestyle = \"--\", alpha = 0.5)\n",
    "plt.xlabel('Day in Oct 2019',fontsize = 15)\n",
    "ax.set_yticks(range(15000,34000,3000))\n",
    "ax.set_yticklabels(['15k','18k','21k','24k','27k','30k','33k'])\n",
    "ax.set_xticks(['01','04','07','10','13','16','19','22','25','28','31'])\n",
    "plt.grid(linestyle = \"--\", alpha = 0.5)\n",
    "ax.spines['top'].set_visible(False)\n",
    "ax.spines['right'].set_visible(False)\n",
    "\n",
    "#plt.savefig('2.11 daily UV.png')"
   ]
  },
  {
   "cell_type": "markdown",
   "metadata": {},
   "source": [
    "### hourly\n",
    "Use groupby to extract PV and UV data in different hours.  \n",
    "For the hour is set from 0 to 23, add one row for 24 and set the data in this row the same as the data from 0."
   ]
  },
  {
   "cell_type": "code",
   "execution_count": 20,
   "metadata": {},
   "outputs": [],
   "source": [
    "pv_hour = df.groupby('hour').user_id.count().reset_index().rename(columns = {'user_id':'pv'})\n",
    "#add 24 value equal to 0\n",
    "pv_hour.loc['24'] = [24,43015]"
   ]
  },
  {
   "cell_type": "code",
   "execution_count": 21,
   "metadata": {},
   "outputs": [],
   "source": [
    "uv_hour = df.groupby('hour').user_id.nunique().reset_index().rename(columns = {'user_id':'uv'})\n",
    "uv_hour\n",
    "uv_hour.loc['24'] = [24,6860]"
   ]
  },
  {
   "cell_type": "code",
   "execution_count": 22,
   "metadata": {},
   "outputs": [
    {
     "data": {
      "text/html": [
       "<div>\n",
       "<style scoped>\n",
       "    .dataframe tbody tr th:only-of-type {\n",
       "        vertical-align: middle;\n",
       "    }\n",
       "\n",
       "    .dataframe tbody tr th {\n",
       "        vertical-align: top;\n",
       "    }\n",
       "\n",
       "    .dataframe thead th {\n",
       "        text-align: right;\n",
       "    }\n",
       "</style>\n",
       "<table border=\"1\" class=\"dataframe\">\n",
       "  <thead>\n",
       "    <tr style=\"text-align: right;\">\n",
       "      <th></th>\n",
       "      <th>hour</th>\n",
       "      <th>pv</th>\n",
       "    </tr>\n",
       "  </thead>\n",
       "  <tbody>\n",
       "    <tr>\n",
       "      <th>19</th>\n",
       "      <td>19</td>\n",
       "      <td>264289</td>\n",
       "    </tr>\n",
       "  </tbody>\n",
       "</table>\n",
       "</div>"
      ],
      "text/plain": [
       "    hour      pv\n",
       "19    19  264289"
      ]
     },
     "execution_count": 22,
     "metadata": {},
     "output_type": "execute_result"
    }
   ],
   "source": [
    "pv_h_max = pv_hour[pv_hour.pv == pv_hour.pv.max()]\n",
    "pv_h_max"
   ]
  },
  {
   "cell_type": "code",
   "execution_count": 23,
   "metadata": {},
   "outputs": [
    {
     "data": {
      "text/html": [
       "<div>\n",
       "<style scoped>\n",
       "    .dataframe tbody tr th:only-of-type {\n",
       "        vertical-align: middle;\n",
       "    }\n",
       "\n",
       "    .dataframe tbody tr th {\n",
       "        vertical-align: top;\n",
       "    }\n",
       "\n",
       "    .dataframe thead th {\n",
       "        text-align: right;\n",
       "    }\n",
       "</style>\n",
       "<table border=\"1\" class=\"dataframe\">\n",
       "  <thead>\n",
       "    <tr style=\"text-align: right;\">\n",
       "      <th></th>\n",
       "      <th>hour</th>\n",
       "      <th>uv</th>\n",
       "    </tr>\n",
       "  </thead>\n",
       "  <tbody>\n",
       "    <tr>\n",
       "      <th>12</th>\n",
       "      <td>12</td>\n",
       "      <td>39572</td>\n",
       "    </tr>\n",
       "  </tbody>\n",
       "</table>\n",
       "</div>"
      ],
      "text/plain": [
       "    hour     uv\n",
       "12    12  39572"
      ]
     },
     "execution_count": 23,
     "metadata": {},
     "output_type": "execute_result"
    }
   ],
   "source": [
    "uv_h_max = uv_hour[uv_hour.uv == uv_hour.uv.max()]\n",
    "uv_h_max"
   ]
  },
  {
   "cell_type": "markdown",
   "metadata": {},
   "source": [
    "Draw the line plot for PV and UV in different hours:  \n",
    "Use plt.plot to add marker for the highest data"
   ]
  },
  {
   "cell_type": "code",
   "execution_count": 24,
   "metadata": {},
   "outputs": [
    {
     "data": {
      "image/png": "[encoded data removed]",
      "text/plain": [
       "<Figure size 576x324 with 1 Axes>"
      ]
     },
     "metadata": {},
     "output_type": "display_data"
    }
   ],
   "source": [
    "fig = plt.figure(figsize = (8,4.5))\n",
    "sns.set(style = 'white', palette = 'bright')\n",
    "ax = fig.add_subplot()\n",
    "ax.plot(pv_hour.hour, pv_hour.pv)\n",
    "plt.title('PV in Different Hours', fontsize = 18)\n",
    "plt.plot(pv_h_max.hour,pv_h_max.pv, marker = '*', markersize = 15)\n",
    "ax.set_xticks(range(0,25,4))\n",
    "plt.xlim(0,24)\n",
    "ax.set_yticks(range(50000,250001, 50000))\n",
    "ax.set_yticklabels(['50k','100k','150k','200k','250k'])\n",
    "plt.xlabel('hour in a day', fontsize = 15)\n",
    "plt.grid(linestyle = '--', alpha = 0.5)\n",
    "ax.spines['top'].set_visible(False)\n",
    "ax.spines['right'].set_visible(False)\n",
    "\n",
    "#plt.savefig('2.11 hourly pv.png')"
   ]
  },
  {
   "cell_type": "code",
   "execution_count": 25,
   "metadata": {},
   "outputs": [
    {
     "data": {
      "image/png": "[encoded data removed]",
      "text/plain": [
       "<Figure size 576x324 with 1 Axes>"
      ]
     },
     "metadata": {},
     "output_type": "display_data"
    }
   ],
   "source": [
    "fig = plt.figure(figsize = (8,4.5))\n",
    "sns.set(style = 'white', palette = 'bright')\n",
    "ax = fig.add_subplot()\n",
    "ax.plot(uv_hour.hour, uv_hour.uv)\n",
    "plt.title('UV in Different Hours', fontsize = 18)\n",
    "plt.plot(uv_h_max.hour,uv_h_max.uv, marker = '*', markersize = 15)\n",
    "ax.set_xticks(range(0,25,4))\n",
    "plt.xlim(0,24)\n",
    "ax.set_yticks(range(10000,40001,6000))\n",
    "ax.set_yticklabels(['10k','16k','22k','28k','34k','40k'])\n",
    "plt.xlabel('hour in a day', fontsize = 15)\n",
    "plt.grid(linestyle = '--', alpha = 0.5)\n",
    "ax.spines['top'].set_visible(False)\n",
    "ax.spines['right'].set_visible(False)\n",
    "\n",
    "#plt.savefig('2.11 hourly uv.png')"
   ]
  },
  {
   "cell_type": "markdown",
   "metadata": {},
   "source": [
    "### pv based on event type\n",
    "Extract PV data for four different event types in every day:  \n",
    "Using the groupby method or pivor table method:"
   ]
  },
  {
   "cell_type": "code",
   "execution_count": 26,
   "metadata": {},
   "outputs": [
    {
     "data": {
      "text/html": [
       "<div>\n",
       "<style scoped>\n",
       "    .dataframe tbody tr th:only-of-type {\n",
       "        vertical-align: middle;\n",
       "    }\n",
       "\n",
       "    .dataframe tbody tr th {\n",
       "        vertical-align: top;\n",
       "    }\n",
       "\n",
       "    .dataframe thead th {\n",
       "        text-align: right;\n",
       "    }\n",
       "</style>\n",
       "<table border=\"1\" class=\"dataframe\">\n",
       "  <thead>\n",
       "    <tr style=\"text-align: right;\">\n",
       "      <th></th>\n",
       "      <th>event_type</th>\n",
       "      <th>date</th>\n",
       "      <th>pv</th>\n",
       "    </tr>\n",
       "  </thead>\n",
       "  <tbody>\n",
       "    <tr>\n",
       "      <th>0</th>\n",
       "      <td>cart</td>\n",
       "      <td>2019-10-01</td>\n",
       "      <td>46916</td>\n",
       "    </tr>\n",
       "    <tr>\n",
       "      <th>1</th>\n",
       "      <td>cart</td>\n",
       "      <td>2019-10-02</td>\n",
       "      <td>89124</td>\n",
       "    </tr>\n",
       "    <tr>\n",
       "      <th>2</th>\n",
       "      <td>cart</td>\n",
       "      <td>2019-10-03</td>\n",
       "      <td>35745</td>\n",
       "    </tr>\n",
       "    <tr>\n",
       "      <th>3</th>\n",
       "      <td>cart</td>\n",
       "      <td>2019-10-04</td>\n",
       "      <td>31347</td>\n",
       "    </tr>\n",
       "    <tr>\n",
       "      <th>4</th>\n",
       "      <td>cart</td>\n",
       "      <td>2019-10-05</td>\n",
       "      <td>31201</td>\n",
       "    </tr>\n",
       "  </tbody>\n",
       "</table>\n",
       "</div>"
      ],
      "text/plain": [
       "  event_type       date     pv\n",
       "0       cart 2019-10-01  46916\n",
       "1       cart 2019-10-02  89124\n",
       "2       cart 2019-10-03  35745\n",
       "3       cart 2019-10-04  31347\n",
       "4       cart 2019-10-05  31201"
      ]
     },
     "execution_count": 26,
     "metadata": {},
     "output_type": "execute_result"
    }
   ],
   "source": [
    "#daily\n",
    "pv_event = df.groupby(['event_type','date']).user_id.count().reset_index().rename(columns = {'user_id':\"pv\"})\n",
    "pv_event.head()"
   ]
  },
  {
   "cell_type": "code",
   "execution_count": 27,
   "metadata": {},
   "outputs": [
    {
     "data": {
      "text/html": [
       "<div>\n",
       "<style scoped>\n",
       "    .dataframe tbody tr th:only-of-type {\n",
       "        vertical-align: middle;\n",
       "    }\n",
       "\n",
       "    .dataframe tbody tr th {\n",
       "        vertical-align: top;\n",
       "    }\n",
       "\n",
       "    .dataframe thead th {\n",
       "        text-align: right;\n",
       "    }\n",
       "</style>\n",
       "<table border=\"1\" class=\"dataframe\">\n",
       "  <thead>\n",
       "    <tr style=\"text-align: right;\">\n",
       "      <th>event_type</th>\n",
       "      <th>cart</th>\n",
       "      <th>purchase</th>\n",
       "      <th>remove_from_cart</th>\n",
       "      <th>view</th>\n",
       "    </tr>\n",
       "    <tr>\n",
       "      <th>date</th>\n",
       "      <th></th>\n",
       "      <th></th>\n",
       "      <th></th>\n",
       "      <th></th>\n",
       "    </tr>\n",
       "  </thead>\n",
       "  <tbody>\n",
       "    <tr>\n",
       "      <th>2019-10-01</th>\n",
       "      <td>46916</td>\n",
       "      <td>8476</td>\n",
       "      <td>25813</td>\n",
       "      <td>61209</td>\n",
       "    </tr>\n",
       "    <tr>\n",
       "      <th>2019-10-02</th>\n",
       "      <td>89124</td>\n",
       "      <td>9100</td>\n",
       "      <td>26347</td>\n",
       "      <td>76497</td>\n",
       "    </tr>\n",
       "    <tr>\n",
       "      <th>2019-10-03</th>\n",
       "      <td>35745</td>\n",
       "      <td>8865</td>\n",
       "      <td>23303</td>\n",
       "      <td>56934</td>\n",
       "    </tr>\n",
       "    <tr>\n",
       "      <th>2019-10-04</th>\n",
       "      <td>31347</td>\n",
       "      <td>7562</td>\n",
       "      <td>23029</td>\n",
       "      <td>53672</td>\n",
       "    </tr>\n",
       "    <tr>\n",
       "      <th>2019-10-05</th>\n",
       "      <td>31201</td>\n",
       "      <td>5940</td>\n",
       "      <td>19791</td>\n",
       "      <td>49410</td>\n",
       "    </tr>\n",
       "    <tr>\n",
       "      <th>2019-10-06</th>\n",
       "      <td>81376</td>\n",
       "      <td>7265</td>\n",
       "      <td>25826</td>\n",
       "      <td>72911</td>\n",
       "    </tr>\n",
       "    <tr>\n",
       "      <th>2019-10-07</th>\n",
       "      <td>66954</td>\n",
       "      <td>9376</td>\n",
       "      <td>29222</td>\n",
       "      <td>75897</td>\n",
       "    </tr>\n",
       "    <tr>\n",
       "      <th>2019-10-08</th>\n",
       "      <td>47364</td>\n",
       "      <td>8604</td>\n",
       "      <td>28028</td>\n",
       "      <td>64944</td>\n",
       "    </tr>\n",
       "    <tr>\n",
       "      <th>2019-10-09</th>\n",
       "      <td>37991</td>\n",
       "      <td>8464</td>\n",
       "      <td>28013</td>\n",
       "      <td>65432</td>\n",
       "    </tr>\n",
       "    <tr>\n",
       "      <th>2019-10-10</th>\n",
       "      <td>36620</td>\n",
       "      <td>8117</td>\n",
       "      <td>26948</td>\n",
       "      <td>60948</td>\n",
       "    </tr>\n",
       "    <tr>\n",
       "      <th>2019-10-11</th>\n",
       "      <td>31451</td>\n",
       "      <td>6922</td>\n",
       "      <td>23718</td>\n",
       "      <td>57101</td>\n",
       "    </tr>\n",
       "    <tr>\n",
       "      <th>2019-10-12</th>\n",
       "      <td>30480</td>\n",
       "      <td>6431</td>\n",
       "      <td>21618</td>\n",
       "      <td>52636</td>\n",
       "    </tr>\n",
       "    <tr>\n",
       "      <th>2019-10-13</th>\n",
       "      <td>33367</td>\n",
       "      <td>7088</td>\n",
       "      <td>22362</td>\n",
       "      <td>53935</td>\n",
       "    </tr>\n",
       "    <tr>\n",
       "      <th>2019-10-14</th>\n",
       "      <td>37722</td>\n",
       "      <td>8004</td>\n",
       "      <td>25344</td>\n",
       "      <td>62187</td>\n",
       "    </tr>\n",
       "    <tr>\n",
       "      <th>2019-10-15</th>\n",
       "      <td>37521</td>\n",
       "      <td>8299</td>\n",
       "      <td>24349</td>\n",
       "      <td>59854</td>\n",
       "    </tr>\n",
       "    <tr>\n",
       "      <th>2019-10-16</th>\n",
       "      <td>38408</td>\n",
       "      <td>9096</td>\n",
       "      <td>25535</td>\n",
       "      <td>63002</td>\n",
       "    </tr>\n",
       "    <tr>\n",
       "      <th>2019-10-17</th>\n",
       "      <td>37136</td>\n",
       "      <td>9236</td>\n",
       "      <td>25523</td>\n",
       "      <td>61965</td>\n",
       "    </tr>\n",
       "    <tr>\n",
       "      <th>2019-10-18</th>\n",
       "      <td>31044</td>\n",
       "      <td>7920</td>\n",
       "      <td>22589</td>\n",
       "      <td>57509</td>\n",
       "    </tr>\n",
       "    <tr>\n",
       "      <th>2019-10-19</th>\n",
       "      <td>27626</td>\n",
       "      <td>6064</td>\n",
       "      <td>20923</td>\n",
       "      <td>49679</td>\n",
       "    </tr>\n",
       "    <tr>\n",
       "      <th>2019-10-20</th>\n",
       "      <td>31843</td>\n",
       "      <td>6836</td>\n",
       "      <td>23275</td>\n",
       "      <td>52718</td>\n",
       "    </tr>\n",
       "    <tr>\n",
       "      <th>2019-10-21</th>\n",
       "      <td>39921</td>\n",
       "      <td>8872</td>\n",
       "      <td>26987</td>\n",
       "      <td>63873</td>\n",
       "    </tr>\n",
       "    <tr>\n",
       "      <th>2019-10-22</th>\n",
       "      <td>37443</td>\n",
       "      <td>8643</td>\n",
       "      <td>27837</td>\n",
       "      <td>62440</td>\n",
       "    </tr>\n",
       "    <tr>\n",
       "      <th>2019-10-23</th>\n",
       "      <td>37351</td>\n",
       "      <td>8714</td>\n",
       "      <td>26105</td>\n",
       "      <td>61582</td>\n",
       "    </tr>\n",
       "    <tr>\n",
       "      <th>2019-10-24</th>\n",
       "      <td>35715</td>\n",
       "      <td>8779</td>\n",
       "      <td>25679</td>\n",
       "      <td>59658</td>\n",
       "    </tr>\n",
       "    <tr>\n",
       "      <th>2019-10-25</th>\n",
       "      <td>31214</td>\n",
       "      <td>7024</td>\n",
       "      <td>20595</td>\n",
       "      <td>52930</td>\n",
       "    </tr>\n",
       "    <tr>\n",
       "      <th>2019-10-26</th>\n",
       "      <td>30590</td>\n",
       "      <td>5295</td>\n",
       "      <td>21884</td>\n",
       "      <td>51347</td>\n",
       "    </tr>\n",
       "    <tr>\n",
       "      <th>2019-10-27</th>\n",
       "      <td>36209</td>\n",
       "      <td>7816</td>\n",
       "      <td>25885</td>\n",
       "      <td>57390</td>\n",
       "    </tr>\n",
       "    <tr>\n",
       "      <th>2019-10-28</th>\n",
       "      <td>36515</td>\n",
       "      <td>8366</td>\n",
       "      <td>24054</td>\n",
       "      <td>63185</td>\n",
       "    </tr>\n",
       "    <tr>\n",
       "      <th>2019-10-29</th>\n",
       "      <td>37444</td>\n",
       "      <td>8472</td>\n",
       "      <td>24849</td>\n",
       "      <td>63990</td>\n",
       "    </tr>\n",
       "    <tr>\n",
       "      <th>2019-10-30</th>\n",
       "      <td>35289</td>\n",
       "      <td>7935</td>\n",
       "      <td>22708</td>\n",
       "      <td>59633</td>\n",
       "    </tr>\n",
       "    <tr>\n",
       "      <th>2019-10-31</th>\n",
       "      <td>33458</td>\n",
       "      <td>8043</td>\n",
       "      <td>23971</td>\n",
       "      <td>57465</td>\n",
       "    </tr>\n",
       "  </tbody>\n",
       "</table>\n",
       "</div>"
      ],
      "text/plain": [
       "event_type   cart  purchase  remove_from_cart   view\n",
       "date                                                \n",
       "2019-10-01  46916      8476             25813  61209\n",
       "2019-10-02  89124      9100             26347  76497\n",
       "2019-10-03  35745      8865             23303  56934\n",
       "2019-10-04  31347      7562             23029  53672\n",
       "2019-10-05  31201      5940             19791  49410\n",
       "2019-10-06  81376      7265             25826  72911\n",
       "2019-10-07  66954      9376             29222  75897\n",
       "2019-10-08  47364      8604             28028  64944\n",
       "2019-10-09  37991      8464             28013  65432\n",
       "2019-10-10  36620      8117             26948  60948\n",
       "2019-10-11  31451      6922             23718  57101\n",
       "2019-10-12  30480      6431             21618  52636\n",
       "2019-10-13  33367      7088             22362  53935\n",
       "2019-10-14  37722      8004             25344  62187\n",
       "2019-10-15  37521      8299             24349  59854\n",
       "2019-10-16  38408      9096             25535  63002\n",
       "2019-10-17  37136      9236             25523  61965\n",
       "2019-10-18  31044      7920             22589  57509\n",
       "2019-10-19  27626      6064             20923  49679\n",
       "2019-10-20  31843      6836             23275  52718\n",
       "2019-10-21  39921      8872             26987  63873\n",
       "2019-10-22  37443      8643             27837  62440\n",
       "2019-10-23  37351      8714             26105  61582\n",
       "2019-10-24  35715      8779             25679  59658\n",
       "2019-10-25  31214      7024             20595  52930\n",
       "2019-10-26  30590      5295             21884  51347\n",
       "2019-10-27  36209      7816             25885  57390\n",
       "2019-10-28  36515      8366             24054  63185\n",
       "2019-10-29  37444      8472             24849  63990\n",
       "2019-10-30  35289      7935             22708  59633\n",
       "2019-10-31  33458      8043             23971  57465"
      ]
     },
     "execution_count": 27,
     "metadata": {},
     "output_type": "execute_result"
    }
   ],
   "source": [
    "#use pivot table\n",
    "pd.pivot_table(pv_event, values = 'pv', index = 'date', \n",
    "               columns = 'event_type')"
   ]
  },
  {
   "cell_type": "markdown",
   "metadata": {},
   "source": [
    "Using sns.pointplot to draw the line plot with markers for each day data:"
   ]
  },
  {
   "cell_type": "code",
   "execution_count": 28,
   "metadata": {},
   "outputs": [
    {
     "data": {
      "text/plain": [
       "Text(0, 0.5, 'PV')"
      ]
     },
     "execution_count": 28,
     "metadata": {},
     "output_type": "execute_result"
    },
    {
     "data": {
      "image/png": "[encoded data removed]",
      "text/plain": [
       "<Figure size 800x480 with 1 Axes>"
      ]
     },
     "metadata": {},
     "output_type": "display_data"
    }
   ],
   "source": [
    "fig = plt.figure(figsize = (10, 6), dpi = 80)\n",
    "sns.set(style = 'whitegrid', palette = 'bright')\n",
    "ax = fig.add_subplot()\n",
    "sns.pointplot(data = pv_event, x = 'date', y = 'pv', hue = 'event_type')\n",
    "ax.set_xticks(range(0,pv_event.date.nunique()+1,4))\n",
    "ax.set_xticklabels(range(1,pv_event.date.nunique()+1,4))\n",
    "ax.set_yticks(range(10000,90001,20000))\n",
    "ax.set_yticklabels(['10k','30k','50k','70k','90k'])\n",
    "plt.title('daily page view for each event type'.title(), fontsize = 18)\n",
    "plt.xlabel('Day in October 2019', fontsize = 15)\n",
    "plt.ylabel('PV', fontsize = 15)\n",
    "#plt.savefig('2.12 daily page view for each event type.png')"
   ]
  },
  {
   "cell_type": "markdown",
   "metadata": {},
   "source": [
    "Extract hourly PV data for different event types  \n",
    "add four rows for 24th hour in each event type, which equals to the data in at 0 a.m."
   ]
  },
  {
   "cell_type": "code",
   "execution_count": 29,
   "metadata": {},
   "outputs": [
    {
     "data": {
      "text/plain": [
       "event_type     view\n",
       "hour              0\n",
       "pv            16743\n",
       "Name: 72, dtype: object"
      ]
     },
     "execution_count": 29,
     "metadata": {},
     "output_type": "execute_result"
    }
   ],
   "source": [
    "#hourly\n",
    "pv_event_h = df.groupby(['event_type','hour']).user_id.count().reset_index().rename(columns = {'user_id':'pv'})\n",
    "pv_event_h.iloc[72,:]"
   ]
  },
  {
   "cell_type": "code",
   "execution_count": 30,
   "metadata": {},
   "outputs": [
    {
     "data": {
      "text/html": [
       "<div>\n",
       "<style scoped>\n",
       "    .dataframe tbody tr th:only-of-type {\n",
       "        vertical-align: middle;\n",
       "    }\n",
       "\n",
       "    .dataframe tbody tr th {\n",
       "        vertical-align: top;\n",
       "    }\n",
       "\n",
       "    .dataframe thead th {\n",
       "        text-align: right;\n",
       "    }\n",
       "</style>\n",
       "<table border=\"1\" class=\"dataframe\">\n",
       "  <thead>\n",
       "    <tr style=\"text-align: right;\">\n",
       "      <th></th>\n",
       "      <th>event_type</th>\n",
       "      <th>hour</th>\n",
       "      <th>pv</th>\n",
       "    </tr>\n",
       "  </thead>\n",
       "  <tbody>\n",
       "    <tr>\n",
       "      <th>95</th>\n",
       "      <td>view</td>\n",
       "      <td>23</td>\n",
       "      <td>21924</td>\n",
       "    </tr>\n",
       "    <tr>\n",
       "      <th>96</th>\n",
       "      <td>cart</td>\n",
       "      <td>24</td>\n",
       "      <td>17080</td>\n",
       "    </tr>\n",
       "    <tr>\n",
       "      <th>97</th>\n",
       "      <td>purchase</td>\n",
       "      <td>24</td>\n",
       "      <td>2082</td>\n",
       "    </tr>\n",
       "    <tr>\n",
       "      <th>98</th>\n",
       "      <td>remove_from_cart</td>\n",
       "      <td>24</td>\n",
       "      <td>7110</td>\n",
       "    </tr>\n",
       "    <tr>\n",
       "      <th>99</th>\n",
       "      <td>view</td>\n",
       "      <td>24</td>\n",
       "      <td>16743</td>\n",
       "    </tr>\n",
       "  </tbody>\n",
       "</table>\n",
       "</div>"
      ],
      "text/plain": [
       "          event_type  hour     pv\n",
       "95              view    23  21924\n",
       "96              cart    24  17080\n",
       "97          purchase    24   2082\n",
       "98  remove_from_cart    24   7110\n",
       "99              view    24  16743"
      ]
     },
     "execution_count": 30,
     "metadata": {},
     "output_type": "execute_result"
    }
   ],
   "source": [
    "#set 24 = 0\n",
    "pv_event_h.loc['96'] = ['cart',24,pv_event_h.iloc[0,2]]\n",
    "pv_event_h.loc['97'] = ['purchase',24,pv_event_h.iloc[24,2]]\n",
    "pv_event_h.loc['98'] = ['remove_from_cart',24,pv_event_h.iloc[48,2]]\n",
    "pv_event_h.loc['99'] = ['view',24,pv_event_h.iloc[72,2]]\n",
    "pv_event_h.tail()"
   ]
  },
  {
   "cell_type": "markdown",
   "metadata": {},
   "source": [
    "Use sns.pointplot draw the line plot with markers:"
   ]
  },
  {
   "cell_type": "code",
   "execution_count": 31,
   "metadata": {},
   "outputs": [
    {
     "data": {
      "text/plain": [
       "Text(0, 0.5, 'PV')"
      ]
     },
     "execution_count": 31,
     "metadata": {},
     "output_type": "execute_result"
    },
    {
     "data": {
      "image/png": "[encoded data removed]",
      "text/plain": [
       "<Figure size 800x480 with 1 Axes>"
      ]
     },
     "metadata": {},
     "output_type": "display_data"
    }
   ],
   "source": [
    "fig = plt.figure(figsize = (10,6), dpi = 80)\n",
    "sns.set(style = 'whitegrid', palette = 'bright')\n",
    "ax = fig.add_subplot()\n",
    "sns.pointplot(data = pv_event_h,\n",
    "             x = 'hour',\n",
    "             y = 'pv',\n",
    "             hue = 'event_type')\n",
    "ax.set_xticks(range(0,25,4))\n",
    "ax.set_xticklabels(range(0,25,4),fontsize = 13.5)\n",
    "ax.set_yticks(range(0,120001, 20000))\n",
    "ax.set_yticklabels([\"0k\",\"20k\",\"40k\",\"60k\",'80k','100k','120k'])\n",
    "plt.title('hourly page view for different event type'.title(), fontsize = 18)\n",
    "plt.xlabel('hour',fontsize = 15)\n",
    "plt.ylabel('PV', fontsize = 15)\n",
    "#plt.savefig('2.13 hourly page view for different event type.png')"
   ]
  },
  {
   "cell_type": "markdown",
   "metadata": {},
   "source": [
    "## customer purchase behavior analysis\n",
    "### customer buying frequency analysis\n",
    "Calculate that how many times totally one user has purchased in this month."
   ]
  },
  {
   "cell_type": "code",
   "execution_count": 32,
   "metadata": {},
   "outputs": [
    {
     "data": {
      "text/plain": [
       "count    25762.000000\n",
       "mean         9.534353\n",
       "std         11.341405\n",
       "min          1.000000\n",
       "25%          3.000000\n",
       "50%          6.000000\n",
       "75%         12.000000\n",
       "max        329.000000\n",
       "Name: event_type, dtype: float64"
      ]
     },
     "execution_count": 32,
     "metadata": {},
     "output_type": "execute_result"
    }
   ],
   "source": [
    "daily_purchase_user = df[df.event_type == 'purchase'].groupby('user_id').event_type.count()\n",
    "daily_purchase_user.describe()"
   ]
  },
  {
   "cell_type": "markdown",
   "metadata": {},
   "source": [
    "In total, 25,762 users has purchase event in October. The average purchase times is 9.5 and the median of purchase times is 6. 75% of purchased users purchase less than 12 times in October.   \n",
    "Draw the histgram for total purchase time:"
   ]
  },
  {
   "cell_type": "code",
   "execution_count": 33,
   "metadata": {},
   "outputs": [
    {
     "data": {
      "text/plain": [
       "[<matplotlib.axis.YTick at 0x1ca0a25ef08>,\n",
       " <matplotlib.axis.YTick at 0x1ca0a2612c8>,\n",
       " <matplotlib.axis.YTick at 0x1ca50b36508>,\n",
       " <matplotlib.axis.YTick at 0x1ca6eb9dc48>]"
      ]
     },
     "execution_count": 33,
     "metadata": {},
     "output_type": "execute_result"
    },
    {
     "data": {
      "image/png": "[encoded data removed]",
      "text/plain": [
       "<Figure size 720x320 with 1 Axes>"
      ]
     },
     "metadata": {},
     "output_type": "display_data"
    }
   ],
   "source": [
    "fig = plt.figure(figsize = (9,4), dpi = 80)\n",
    "ax = fig.add_subplot()\n",
    "sns.set(style = 'white', palette = 'bright')\n",
    "sns.distplot(daily_purchase_user, kde = False)\n",
    "plt.grid(linestyle = '--', alpha = 0.5)\n",
    "ax.spines['top'].set_visible(False)\n",
    "ax.spines['right'].set_visible(False)\n",
    "plt.title('user total purchase time in Oct 2019'.title(), fontsize = 18)\n",
    "plt.xlabel('Purchase Times',fontsize = 15)\n",
    "plt.ylabel('User Amount', fontsize = 15)\n",
    "ax.set_yticks(range(0,15001,5000))\n",
    "#plt.savefig('2.21 user total purchase time in oct.png')"
   ]
  },
  {
   "cell_type": "markdown",
   "metadata": {},
   "source": [
    "### daily ARPPU(average revenue per paying user)\n",
    "Extract the total revenue for each day and the number of unique purchased users.  \n",
    "Calculate the ARPPU = daily total revenue / daily total unique purchaser:"
   ]
  },
  {
   "cell_type": "code",
   "execution_count": 34,
   "metadata": {},
   "outputs": [],
   "source": [
    "daily_revenue = df[df.event_type == 'purchase'].groupby('date').price.sum().reset_index()\n",
    "daily_pay_user = df[df.event_type == 'purchase'].groupby('date').user_id.nunique().reset_index()"
   ]
  },
  {
   "cell_type": "code",
   "execution_count": 35,
   "metadata": {},
   "outputs": [
    {
     "data": {
      "text/html": [
       "<div>\n",
       "<style scoped>\n",
       "    .dataframe tbody tr th:only-of-type {\n",
       "        vertical-align: middle;\n",
       "    }\n",
       "\n",
       "    .dataframe tbody tr th {\n",
       "        vertical-align: top;\n",
       "    }\n",
       "\n",
       "    .dataframe thead th {\n",
       "        text-align: right;\n",
       "    }\n",
       "</style>\n",
       "<table border=\"1\" class=\"dataframe\">\n",
       "  <thead>\n",
       "    <tr style=\"text-align: right;\">\n",
       "      <th></th>\n",
       "      <th>date</th>\n",
       "      <th>price</th>\n",
       "      <th>user_id</th>\n",
       "    </tr>\n",
       "  </thead>\n",
       "  <tbody>\n",
       "    <tr>\n",
       "      <th>0</th>\n",
       "      <td>2019-10-01</td>\n",
       "      <td>7049.08</td>\n",
       "      <td>1001</td>\n",
       "    </tr>\n",
       "    <tr>\n",
       "      <th>1</th>\n",
       "      <td>2019-10-02</td>\n",
       "      <td>7414.33</td>\n",
       "      <td>1045</td>\n",
       "    </tr>\n",
       "    <tr>\n",
       "      <th>2</th>\n",
       "      <td>2019-10-03</td>\n",
       "      <td>7031.45</td>\n",
       "      <td>1048</td>\n",
       "    </tr>\n",
       "    <tr>\n",
       "      <th>3</th>\n",
       "      <td>2019-10-04</td>\n",
       "      <td>5816.20</td>\n",
       "      <td>892</td>\n",
       "    </tr>\n",
       "    <tr>\n",
       "      <th>4</th>\n",
       "      <td>2019-10-05</td>\n",
       "      <td>4737.14</td>\n",
       "      <td>708</td>\n",
       "    </tr>\n",
       "  </tbody>\n",
       "</table>\n",
       "</div>"
      ],
      "text/plain": [
       "        date    price  user_id\n",
       "0 2019-10-01  7049.08     1001\n",
       "1 2019-10-02  7414.33     1045\n",
       "2 2019-10-03  7031.45     1048\n",
       "3 2019-10-04  5816.20      892\n",
       "4 2019-10-05  4737.14      708"
      ]
     },
     "execution_count": 35,
     "metadata": {},
     "output_type": "execute_result"
    }
   ],
   "source": [
    "daily_arppu = pd.merge(daily_revenue,daily_pay_user, on = 'date')\n",
    "daily_arppu.head()"
   ]
  },
  {
   "cell_type": "code",
   "execution_count": 36,
   "metadata": {},
   "outputs": [
    {
     "data": {
      "text/html": [
       "<div>\n",
       "<style scoped>\n",
       "    .dataframe tbody tr th:only-of-type {\n",
       "        vertical-align: middle;\n",
       "    }\n",
       "\n",
       "    .dataframe tbody tr th {\n",
       "        vertical-align: top;\n",
       "    }\n",
       "\n",
       "    .dataframe thead th {\n",
       "        text-align: right;\n",
       "    }\n",
       "</style>\n",
       "<table border=\"1\" class=\"dataframe\">\n",
       "  <thead>\n",
       "    <tr style=\"text-align: right;\">\n",
       "      <th></th>\n",
       "      <th>date</th>\n",
       "      <th>price</th>\n",
       "      <th>user_id</th>\n",
       "      <th>arppu</th>\n",
       "      <th>day</th>\n",
       "    </tr>\n",
       "  </thead>\n",
       "  <tbody>\n",
       "    <tr>\n",
       "      <th>0</th>\n",
       "      <td>2019-10-01</td>\n",
       "      <td>7049.08</td>\n",
       "      <td>1001</td>\n",
       "      <td>7.042038</td>\n",
       "      <td>01</td>\n",
       "    </tr>\n",
       "    <tr>\n",
       "      <th>1</th>\n",
       "      <td>2019-10-02</td>\n",
       "      <td>7414.33</td>\n",
       "      <td>1045</td>\n",
       "      <td>7.095053</td>\n",
       "      <td>02</td>\n",
       "    </tr>\n",
       "    <tr>\n",
       "      <th>2</th>\n",
       "      <td>2019-10-03</td>\n",
       "      <td>7031.45</td>\n",
       "      <td>1048</td>\n",
       "      <td>6.709399</td>\n",
       "      <td>03</td>\n",
       "    </tr>\n",
       "    <tr>\n",
       "      <th>3</th>\n",
       "      <td>2019-10-04</td>\n",
       "      <td>5816.20</td>\n",
       "      <td>892</td>\n",
       "      <td>6.520404</td>\n",
       "      <td>04</td>\n",
       "    </tr>\n",
       "    <tr>\n",
       "      <th>4</th>\n",
       "      <td>2019-10-05</td>\n",
       "      <td>4737.14</td>\n",
       "      <td>708</td>\n",
       "      <td>6.690876</td>\n",
       "      <td>05</td>\n",
       "    </tr>\n",
       "  </tbody>\n",
       "</table>\n",
       "</div>"
      ],
      "text/plain": [
       "        date    price  user_id     arppu day\n",
       "0 2019-10-01  7049.08     1001  7.042038  01\n",
       "1 2019-10-02  7414.33     1045  7.095053  02\n",
       "2 2019-10-03  7031.45     1048  6.709399  03\n",
       "3 2019-10-04  5816.20      892  6.520404  04\n",
       "4 2019-10-05  4737.14      708  6.690876  05"
      ]
     },
     "execution_count": 36,
     "metadata": {},
     "output_type": "execute_result"
    }
   ],
   "source": [
    "daily_arppu['arppu'] = daily_arppu.price/daily_arppu.user_id\n",
    "daily_arppu['day'] = daily_arppu.date.dt.strftime('%d')\n",
    "daily_arppu.head()"
   ]
  },
  {
   "cell_type": "code",
   "execution_count": 37,
   "metadata": {},
   "outputs": [
    {
     "data": {
      "text/plain": [
       "count    31.000000\n",
       "mean      6.775778\n",
       "std       0.249620\n",
       "min       6.162714\n",
       "25%       6.651915\n",
       "50%       6.757758\n",
       "75%       6.969013\n",
       "max       7.194442\n",
       "Name: arppu, dtype: float64"
      ]
     },
     "execution_count": 37,
     "metadata": {},
     "output_type": "execute_result"
    }
   ],
   "source": [
    "daily_arppu.arppu.describe()"
   ]
  },
  {
   "cell_type": "code",
   "execution_count": 38,
   "metadata": {},
   "outputs": [
    {
     "data": {
      "text/plain": [
       "Text(0, 0.5, 'ARPPU')"
      ]
     },
     "execution_count": 38,
     "metadata": {},
     "output_type": "execute_result"
    },
    {
     "data": {
      "image/png": "[encoded data removed]",
      "text/plain": [
       "<Figure size 720x360 with 1 Axes>"
      ]
     },
     "metadata": {},
     "output_type": "display_data"
    }
   ],
   "source": [
    "fig = plt.figure(figsize = (10, 5))\n",
    "ax = fig.add_subplot()\n",
    "plt.plot(daily_arppu.day, daily_arppu.arppu)\n",
    "plt.title('Daily ARPPU', fontsize = 18)\n",
    "plt.grid(linestyle = '--', alpha =0.5)\n",
    "ax.spines['top'].set_visible(False)\n",
    "ax.spines['right'].set_visible(False)\n",
    "plt.xticks(range(0,33,3))\n",
    "plt.xlabel('Day in October 2019',fontsize = 15)\n",
    "plt.ylabel('ARPPU',fontsize = 15)\n",
    "#plt.savefig('2.23 Daily ARPPU.png')"
   ]
  },
  {
   "cell_type": "markdown",
   "metadata": {},
   "source": [
    "### daily ARPU(Average Revenue per user)\n",
    "extract amount of daily actived users  \n",
    "calculate ARPU = daily total revenue/daily actived users"
   ]
  },
  {
   "cell_type": "code",
   "execution_count": 39,
   "metadata": {},
   "outputs": [
    {
     "data": {
      "text/html": [
       "<div>\n",
       "<style scoped>\n",
       "    .dataframe tbody tr th:only-of-type {\n",
       "        vertical-align: middle;\n",
       "    }\n",
       "\n",
       "    .dataframe tbody tr th {\n",
       "        vertical-align: top;\n",
       "    }\n",
       "\n",
       "    .dataframe thead th {\n",
       "        text-align: right;\n",
       "    }\n",
       "</style>\n",
       "<table border=\"1\" class=\"dataframe\">\n",
       "  <thead>\n",
       "    <tr style=\"text-align: right;\">\n",
       "      <th></th>\n",
       "      <th>date</th>\n",
       "      <th>daily_active</th>\n",
       "    </tr>\n",
       "  </thead>\n",
       "  <tbody>\n",
       "    <tr>\n",
       "      <th>0</th>\n",
       "      <td>2019-10-01</td>\n",
       "      <td>19230</td>\n",
       "    </tr>\n",
       "    <tr>\n",
       "      <th>1</th>\n",
       "      <td>2019-10-02</td>\n",
       "      <td>33859</td>\n",
       "    </tr>\n",
       "    <tr>\n",
       "      <th>2</th>\n",
       "      <td>2019-10-03</td>\n",
       "      <td>16323</td>\n",
       "    </tr>\n",
       "    <tr>\n",
       "      <th>3</th>\n",
       "      <td>2019-10-04</td>\n",
       "      <td>14731</td>\n",
       "    </tr>\n",
       "    <tr>\n",
       "      <th>4</th>\n",
       "      <td>2019-10-05</td>\n",
       "      <td>14989</td>\n",
       "    </tr>\n",
       "  </tbody>\n",
       "</table>\n",
       "</div>"
      ],
      "text/plain": [
       "        date  daily_active\n",
       "0 2019-10-01         19230\n",
       "1 2019-10-02         33859\n",
       "2 2019-10-03         16323\n",
       "3 2019-10-04         14731\n",
       "4 2019-10-05         14989"
      ]
     },
     "execution_count": 39,
     "metadata": {},
     "output_type": "execute_result"
    }
   ],
   "source": [
    "daily_user = df.groupby('date').user_id.nunique().reset_index().rename(columns = {\"user_id\":\"daily_active\"})\n",
    "daily_user.head()"
   ]
  },
  {
   "cell_type": "code",
   "execution_count": 40,
   "metadata": {},
   "outputs": [
    {
     "data": {
      "text/plain": [
       "count    31.000000\n",
       "mean      0.363168\n",
       "std       0.059283\n",
       "min       0.170975\n",
       "25%       0.347734\n",
       "50%       0.371519\n",
       "75%       0.398188\n",
       "max       0.431199\n",
       "Name: arpu, dtype: float64"
      ]
     },
     "execution_count": 40,
     "metadata": {},
     "output_type": "execute_result"
    }
   ],
   "source": [
    "daily_arpu = pd.merge(daily_revenue, daily_user, on = 'date')\n",
    "daily_arpu['arpu'] = daily_arpu.price/daily_arpu.daily_active\n",
    "daily_arpu['day'] = daily_arpu.date.dt.strftime('%d')\n",
    "daily_arpu.arpu.describe()"
   ]
  },
  {
   "cell_type": "code",
   "execution_count": 41,
   "metadata": {},
   "outputs": [
    {
     "data": {
      "text/plain": [
       "Text(0, 0.5, 'ARPU')"
      ]
     },
     "execution_count": 41,
     "metadata": {},
     "output_type": "execute_result"
    },
    {
     "data": {
      "image/png": "[encoded data removed]",
      "text/plain": [
       "<Figure size 800x400 with 1 Axes>"
      ]
     },
     "metadata": {},
     "output_type": "display_data"
    }
   ],
   "source": [
    "fig = plt.figure(figsize = (10,5), dpi = 80)\n",
    "ax = fig.add_subplot()\n",
    "plt.plot(daily_arpu.day, daily_arpu.arpu)\n",
    "plt.title('Daily ARPU', fontsize = 18)\n",
    "plt.grid(linestyle = '--', alpha = 0.5)\n",
    "ax.spines['top'].set_visible(False)\n",
    "ax.spines['right'].set_visible(False)\n",
    "plt.xticks(range(0,33,3))\n",
    "plt.xlabel('Day in October 2019',fontsize = 15)\n",
    "plt.ylabel('ARPU',fontsize = 15)\n",
    "#plt.savefig('2.23 Daily ARPU.png')"
   ]
  },
  {
   "cell_type": "markdown",
   "metadata": {},
   "source": [
    "### pay user rate\n",
    "pay user rate = total paied user/total active user"
   ]
  },
  {
   "cell_type": "code",
   "execution_count": 42,
   "metadata": {},
   "outputs": [],
   "source": [
    "daily_pay_user = df[df.event_type == 'purchase'].groupby('date').user_id.nunique().reset_index().rename(columns = {'user_id':'daily_pay_user'})"
   ]
  },
  {
   "cell_type": "code",
   "execution_count": 100,
   "metadata": {},
   "outputs": [
    {
     "data": {
      "text/plain": [
       "count    31.000000\n",
       "mean      0.053611\n",
       "std       0.008663\n",
       "min       0.026532\n",
       "25%       0.051795\n",
       "50%       0.055896\n",
       "75%       0.059359\n",
       "max       0.064204\n",
       "dtype: float64"
      ]
     },
     "execution_count": 100,
     "metadata": {},
     "output_type": "execute_result"
    }
   ],
   "source": [
    "daily_pay_rate = daily_pay_user.daily_pay_user/daily_user.daily_active\n",
    "mean = daily_pay_rate.mean()\n",
    "daily_pay_rate.describe()"
   ]
  },
  {
   "cell_type": "code",
   "execution_count": 44,
   "metadata": {},
   "outputs": [
    {
     "data": {
      "text/plain": [
       "<matplotlib.legend.Legend at 0x1ca0a57bcc8>"
      ]
     },
     "execution_count": 44,
     "metadata": {},
     "output_type": "execute_result"
    },
    {
     "data": {
      "image/png": "[encoded data removed]",
      "text/plain": [
       "<Figure size 720x360 with 1 Axes>"
      ]
     },
     "metadata": {},
     "output_type": "display_data"
    }
   ],
   "source": [
    "fig = plt.figure(figsize = (9, 4.5), dpi = 80)\n",
    "ax = fig.add_subplot()\n",
    "day = daily_pay_user.date.dt.day\n",
    "plt.plot(day, daily_pay_rate)\n",
    "plt.title('Pay User Rate', fontsize = 18)\n",
    "plt.xlabel('Day in October 2019', fontsize = 15)\n",
    "plt.ylabel('Percent of pay user', fontsize = 15)\n",
    "ax.set_yticks([0.025,0.03, 0.045, 0.06])\n",
    "ax.set_yticklabels([\"\",'3%','4.5%','6%'])\n",
    "ax.set_xticks(range(1,32,3))\n",
    "plt.grid(linestyle = ':', alpha = 0.5)\n",
    "ax.spines['top'].set_visible(False)\n",
    "ax.spines['right'].set_visible(False)\n",
    "plt.axhline(mean, linestyle = \"--\", color = 'grey', alpha = 0.6, label = 'average')\n",
    "plt.legend()\n",
    "#plt.savefig('2.24 Pay User Rage.png')"
   ]
  },
  {
   "cell_type": "markdown",
   "metadata": {},
   "source": [
    "## repurchase rate\n",
    "### repurchase times\n",
    "Extract purchase times for all purcased users:  "
   ]
  },
  {
   "cell_type": "code",
   "execution_count": 45,
   "metadata": {},
   "outputs": [
    {
     "data": {
      "text/html": [
       "<div>\n",
       "<style scoped>\n",
       "    .dataframe tbody tr th:only-of-type {\n",
       "        vertical-align: middle;\n",
       "    }\n",
       "\n",
       "    .dataframe tbody tr th {\n",
       "        vertical-align: top;\n",
       "    }\n",
       "\n",
       "    .dataframe thead th {\n",
       "        text-align: right;\n",
       "    }\n",
       "</style>\n",
       "<table border=\"1\" class=\"dataframe\">\n",
       "  <thead>\n",
       "    <tr style=\"text-align: right;\">\n",
       "      <th></th>\n",
       "      <th>user_id</th>\n",
       "      <th>times</th>\n",
       "    </tr>\n",
       "  </thead>\n",
       "  <tbody>\n",
       "    <tr>\n",
       "      <th>0</th>\n",
       "      <td>29025780</td>\n",
       "      <td>2</td>\n",
       "    </tr>\n",
       "    <tr>\n",
       "      <th>1</th>\n",
       "      <td>31229488</td>\n",
       "      <td>1</td>\n",
       "    </tr>\n",
       "    <tr>\n",
       "      <th>2</th>\n",
       "      <td>33535391</td>\n",
       "      <td>1</td>\n",
       "    </tr>\n",
       "    <tr>\n",
       "      <th>3</th>\n",
       "      <td>33609704</td>\n",
       "      <td>1</td>\n",
       "    </tr>\n",
       "    <tr>\n",
       "      <th>4</th>\n",
       "      <td>34080306</td>\n",
       "      <td>1</td>\n",
       "    </tr>\n",
       "  </tbody>\n",
       "</table>\n",
       "</div>"
      ],
      "text/plain": [
       "    user_id  times\n",
       "0  29025780      2\n",
       "1  31229488      1\n",
       "2  33535391      1\n",
       "3  33609704      1\n",
       "4  34080306      1"
      ]
     },
     "execution_count": 45,
     "metadata": {},
     "output_type": "execute_result"
    }
   ],
   "source": [
    "buy = df[df.event_type == 'purchase'].groupby(['user_id']).date.nunique().reset_index().rename(columns = {'date':'times'})\n",
    "buy.head()"
   ]
  },
  {
   "cell_type": "markdown",
   "metadata": {},
   "source": [
    "Seperate the users who purchase more than once.  \n",
    "calculate repurchase rate and draw histgram for repurchase times."
   ]
  },
  {
   "cell_type": "code",
   "execution_count": 46,
   "metadata": {},
   "outputs": [
    {
     "name": "stderr",
     "output_type": "stream",
     "text": [
      "C:\\ProgramData\\Anaconda3\\lib\\site-packages\\ipykernel_launcher.py:2: SettingWithCopyWarning: \n",
      "A value is trying to be set on a copy of a slice from a DataFrame.\n",
      "Try using .loc[row_indexer,col_indexer] = value instead\n",
      "\n",
      "See the caveats in the documentation: http://pandas.pydata.org/pandas-docs/stable/user_guide/indexing.html#returning-a-view-versus-a-copy\n",
      "  \n"
     ]
    },
    {
     "data": {
      "text/html": [
       "<div>\n",
       "<style scoped>\n",
       "    .dataframe tbody tr th:only-of-type {\n",
       "        vertical-align: middle;\n",
       "    }\n",
       "\n",
       "    .dataframe tbody tr th {\n",
       "        vertical-align: top;\n",
       "    }\n",
       "\n",
       "    .dataframe thead th {\n",
       "        text-align: right;\n",
       "    }\n",
       "</style>\n",
       "<table border=\"1\" class=\"dataframe\">\n",
       "  <thead>\n",
       "    <tr style=\"text-align: right;\">\n",
       "      <th></th>\n",
       "      <th>user_id</th>\n",
       "      <th>times</th>\n",
       "      <th>re_times</th>\n",
       "    </tr>\n",
       "  </thead>\n",
       "  <tbody>\n",
       "    <tr>\n",
       "      <th>0</th>\n",
       "      <td>29025780</td>\n",
       "      <td>2</td>\n",
       "      <td>1</td>\n",
       "    </tr>\n",
       "    <tr>\n",
       "      <th>25</th>\n",
       "      <td>69749548</td>\n",
       "      <td>2</td>\n",
       "      <td>1</td>\n",
       "    </tr>\n",
       "    <tr>\n",
       "      <th>45</th>\n",
       "      <td>92366748</td>\n",
       "      <td>2</td>\n",
       "      <td>1</td>\n",
       "    </tr>\n",
       "    <tr>\n",
       "      <th>47</th>\n",
       "      <td>95758554</td>\n",
       "      <td>3</td>\n",
       "      <td>2</td>\n",
       "    </tr>\n",
       "    <tr>\n",
       "      <th>83</th>\n",
       "      <td>141894282</td>\n",
       "      <td>2</td>\n",
       "      <td>1</td>\n",
       "    </tr>\n",
       "  </tbody>\n",
       "</table>\n",
       "</div>"
      ],
      "text/plain": [
       "      user_id  times  re_times\n",
       "0    29025780      2         1\n",
       "25   69749548      2         1\n",
       "45   92366748      2         1\n",
       "47   95758554      3         2\n",
       "83  141894282      2         1"
      ]
     },
     "execution_count": 46,
     "metadata": {},
     "output_type": "execute_result"
    }
   ],
   "source": [
    "rebuy_amount = buy[buy.times >= 2]\n",
    "rebuy_amount['re_times'] = rebuy_amount.times-1\n",
    "rebuy_amount.head()"
   ]
  },
  {
   "cell_type": "code",
   "execution_count": 47,
   "metadata": {},
   "outputs": [
    {
     "data": {
      "text/plain": [
       "count    2492.000000\n",
       "mean        1.291734\n",
       "std         0.865715\n",
       "min         1.000000\n",
       "25%         1.000000\n",
       "50%         1.000000\n",
       "75%         1.000000\n",
       "max        20.000000\n",
       "Name: re_times, dtype: float64"
      ]
     },
     "execution_count": 47,
     "metadata": {},
     "output_type": "execute_result"
    }
   ],
   "source": [
    "rebuy_amount.re_times.describe()"
   ]
  },
  {
   "cell_type": "code",
   "execution_count": 48,
   "metadata": {},
   "outputs": [
    {
     "name": "stdout",
     "output_type": "stream",
     "text": [
      "Repurchase rate is 0.0967\n"
     ]
    },
    {
     "data": {
      "text/plain": [
       "(array([2.359e+03, 7.700e+01, 3.000e+01, 1.400e+01, 5.000e+00, 3.000e+00,\n",
       "        2.000e+00, 1.000e+00, 0.000e+00, 0.000e+00, 0.000e+00, 0.000e+00,\n",
       "        0.000e+00, 0.000e+00, 1.000e+00]),\n",
       " array([ 1.        ,  2.26666667,  3.53333333,  4.8       ,  6.06666667,\n",
       "         7.33333333,  8.6       ,  9.86666667, 11.13333333, 12.4       ,\n",
       "        13.66666667, 14.93333333, 16.2       , 17.46666667, 18.73333333,\n",
       "        20.        ]),\n",
       " <a list of 15 Patch objects>)"
      ]
     },
     "execution_count": 48,
     "metadata": {},
     "output_type": "execute_result"
    },
    {
     "data": {
      "image/png": "[encoded data removed]",
      "text/plain": [
       "<Figure size 432x288 with 1 Axes>"
      ]
     },
     "metadata": {},
     "output_type": "display_data"
    }
   ],
   "source": [
    "repurchase_rate = round(len(rebuy_amount)/len(buy),4)\n",
    "print('Repurchase rate is {}'.format(repurchase_rate))\n",
    "sns.set(style = 'white', palette = 'bright')\n",
    "plt.hist(rebuy_amount.re_times, bins = 15)"
   ]
  },
  {
   "cell_type": "markdown",
   "metadata": {},
   "source": [
    "For more than 75% of users only repurchase once, use pd.cut to seperate the repurchase time to 1, 2, 3 and more than 3 in order to draw pie chart."
   ]
  },
  {
   "cell_type": "code",
   "execution_count": 49,
   "metadata": {
    "scrolled": true
   },
   "outputs": [
    {
     "name": "stderr",
     "output_type": "stream",
     "text": [
      "C:\\ProgramData\\Anaconda3\\lib\\site-packages\\ipykernel_launcher.py:3: SettingWithCopyWarning: \n",
      "A value is trying to be set on a copy of a slice from a DataFrame.\n",
      "Try using .loc[row_indexer,col_indexer] = value instead\n",
      "\n",
      "See the caveats in the documentation: http://pandas.pydata.org/pandas-docs/stable/user_guide/indexing.html#returning-a-view-versus-a-copy\n",
      "  This is separate from the ipykernel package so we can avoid doing imports until\n"
     ]
    },
    {
     "data": {
      "text/html": [
       "<div>\n",
       "<style scoped>\n",
       "    .dataframe tbody tr th:only-of-type {\n",
       "        vertical-align: middle;\n",
       "    }\n",
       "\n",
       "    .dataframe tbody tr th {\n",
       "        vertical-align: top;\n",
       "    }\n",
       "\n",
       "    .dataframe thead th {\n",
       "        text-align: right;\n",
       "    }\n",
       "</style>\n",
       "<table border=\"1\" class=\"dataframe\">\n",
       "  <thead>\n",
       "    <tr style=\"text-align: right;\">\n",
       "      <th></th>\n",
       "      <th>user_id</th>\n",
       "      <th>times</th>\n",
       "      <th>re_times</th>\n",
       "      <th>bins</th>\n",
       "    </tr>\n",
       "  </thead>\n",
       "  <tbody>\n",
       "    <tr>\n",
       "      <th>0</th>\n",
       "      <td>29025780</td>\n",
       "      <td>2</td>\n",
       "      <td>1</td>\n",
       "      <td>once</td>\n",
       "    </tr>\n",
       "    <tr>\n",
       "      <th>25</th>\n",
       "      <td>69749548</td>\n",
       "      <td>2</td>\n",
       "      <td>1</td>\n",
       "      <td>once</td>\n",
       "    </tr>\n",
       "    <tr>\n",
       "      <th>45</th>\n",
       "      <td>92366748</td>\n",
       "      <td>2</td>\n",
       "      <td>1</td>\n",
       "      <td>once</td>\n",
       "    </tr>\n",
       "    <tr>\n",
       "      <th>47</th>\n",
       "      <td>95758554</td>\n",
       "      <td>3</td>\n",
       "      <td>2</td>\n",
       "      <td>twice</td>\n",
       "    </tr>\n",
       "    <tr>\n",
       "      <th>83</th>\n",
       "      <td>141894282</td>\n",
       "      <td>2</td>\n",
       "      <td>1</td>\n",
       "      <td>once</td>\n",
       "    </tr>\n",
       "  </tbody>\n",
       "</table>\n",
       "</div>"
      ],
      "text/plain": [
       "      user_id  times  re_times   bins\n",
       "0    29025780      2         1   once\n",
       "25   69749548      2         1   once\n",
       "45   92366748      2         1   once\n",
       "47   95758554      3         2  twice\n",
       "83  141894282      2         1   once"
      ]
     },
     "execution_count": 49,
     "metadata": {},
     "output_type": "execute_result"
    }
   ],
   "source": [
    "bins_rebuy = [0,1,2,100]\n",
    "labels_rebuy = ['once','twice',\"more than twice\"]\n",
    "rebuy_amount['bins'] = pd.cut(rebuy_amount.re_times,bins = bins_rebuy, labels = labels_rebuy)\n",
    "rebuy_amount.head()"
   ]
  },
  {
   "cell_type": "code",
   "execution_count": 50,
   "metadata": {},
   "outputs": [
    {
     "data": {
      "text/html": [
       "<div>\n",
       "<style scoped>\n",
       "    .dataframe tbody tr th:only-of-type {\n",
       "        vertical-align: middle;\n",
       "    }\n",
       "\n",
       "    .dataframe tbody tr th {\n",
       "        vertical-align: top;\n",
       "    }\n",
       "\n",
       "    .dataframe thead th {\n",
       "        text-align: right;\n",
       "    }\n",
       "</style>\n",
       "<table border=\"1\" class=\"dataframe\">\n",
       "  <thead>\n",
       "    <tr style=\"text-align: right;\">\n",
       "      <th></th>\n",
       "      <th>bins</th>\n",
       "      <th>user_id</th>\n",
       "      <th>per</th>\n",
       "    </tr>\n",
       "  </thead>\n",
       "  <tbody>\n",
       "    <tr>\n",
       "      <th>0</th>\n",
       "      <td>once</td>\n",
       "      <td>2033</td>\n",
       "      <td>0.815811</td>\n",
       "    </tr>\n",
       "    <tr>\n",
       "      <th>1</th>\n",
       "      <td>twice</td>\n",
       "      <td>326</td>\n",
       "      <td>0.130819</td>\n",
       "    </tr>\n",
       "    <tr>\n",
       "      <th>2</th>\n",
       "      <td>more than twice</td>\n",
       "      <td>133</td>\n",
       "      <td>0.053371</td>\n",
       "    </tr>\n",
       "  </tbody>\n",
       "</table>\n",
       "</div>"
      ],
      "text/plain": [
       "              bins  user_id       per\n",
       "0             once     2033  0.815811\n",
       "1            twice      326  0.130819\n",
       "2  more than twice      133  0.053371"
      ]
     },
     "execution_count": 50,
     "metadata": {},
     "output_type": "execute_result"
    }
   ],
   "source": [
    "rebuy_bins_per = rebuy_amount.groupby('bins').user_id.count().reset_index()\n",
    "rebuy_bins_per['per'] = rebuy_bins_per.user_id/rebuy_bins_per.user_id.sum()\n",
    "rebuy_bins_per"
   ]
  },
  {
   "cell_type": "code",
   "execution_count": 51,
   "metadata": {},
   "outputs": [
    {
     "data": {
      "text/plain": [
       "Text(0.5, 1.0, 'Total Repurchase Times')"
      ]
     },
     "execution_count": 51,
     "metadata": {},
     "output_type": "execute_result"
    },
    {
     "data": {
      "image/png": "[encoded data removed]",
      "text/plain": [
       "<Figure size 720x560 with 1 Axes>"
      ]
     },
     "metadata": {},
     "output_type": "display_data"
    }
   ],
   "source": [
    "fig = plt.figure(figsize = (9,7), dpi = 80)\n",
    "sns.set(style = 'white', palette = 'pastel')\n",
    "plt.pie(rebuy_bins_per.user_id, autopct = \"%.2f%%\",\n",
    "       pctdistance = 0.8,\n",
    "       startangle = 180)\n",
    "plt.pie([1,0], radius = 0.5, colors = 'w')\n",
    "plt.legend(labels = labels_rebuy, loc = 5)\n",
    "plt.title('Total Repurchase Times', fontsize = 18)\n",
    "#plt.savefig('2.31 total repurchase times.png')"
   ]
  },
  {
   "cell_type": "markdown",
   "metadata": {},
   "source": [
    "### repurchase time gap\n",
    "Calculate the repurchase time gap between a user first purchase and the last purchse in this month.  \n",
    "Extract the min and max purchase time from repurchase users."
   ]
  },
  {
   "cell_type": "code",
   "execution_count": 52,
   "metadata": {},
   "outputs": [
    {
     "data": {
      "text/plain": [
       "user_id\n",
       "29025780   5 days\n",
       "31229488   0 days\n",
       "33535391   0 days\n",
       "33609704   0 days\n",
       "34080306   0 days\n",
       "Name: date, dtype: timedelta64[ns]"
      ]
     },
     "execution_count": 52,
     "metadata": {},
     "output_type": "execute_result"
    }
   ],
   "source": [
    "purchase = df[df.event_type == 'purchase']\n",
    "repur = purchase.groupby(['user_id']).date.count().reset_index()\n",
    "repur_data = purchase[purchase.user_id.isin(repur[repur.date>=2].user_id)]\n",
    "repur_time_gap = repur_data.groupby(['user_id']).date.apply(lambda x: x.max()-x.min())\n",
    "repur_time_gap.head()"
   ]
  },
  {
   "cell_type": "code",
   "execution_count": 53,
   "metadata": {},
   "outputs": [
    {
     "data": {
      "text/html": [
       "<div>\n",
       "<style scoped>\n",
       "    .dataframe tbody tr th:only-of-type {\n",
       "        vertical-align: middle;\n",
       "    }\n",
       "\n",
       "    .dataframe tbody tr th {\n",
       "        vertical-align: top;\n",
       "    }\n",
       "\n",
       "    .dataframe thead th {\n",
       "        text-align: right;\n",
       "    }\n",
       "</style>\n",
       "<table border=\"1\" class=\"dataframe\">\n",
       "  <thead>\n",
       "    <tr style=\"text-align: right;\">\n",
       "      <th></th>\n",
       "      <th>user_id</th>\n",
       "      <th>date</th>\n",
       "    </tr>\n",
       "  </thead>\n",
       "  <tbody>\n",
       "    <tr>\n",
       "      <th>0</th>\n",
       "      <td>29025780</td>\n",
       "      <td>5 days</td>\n",
       "    </tr>\n",
       "    <tr>\n",
       "      <th>1</th>\n",
       "      <td>31229488</td>\n",
       "      <td>0 days</td>\n",
       "    </tr>\n",
       "    <tr>\n",
       "      <th>2</th>\n",
       "      <td>33535391</td>\n",
       "      <td>0 days</td>\n",
       "    </tr>\n",
       "    <tr>\n",
       "      <th>3</th>\n",
       "      <td>33609704</td>\n",
       "      <td>0 days</td>\n",
       "    </tr>\n",
       "    <tr>\n",
       "      <th>4</th>\n",
       "      <td>34080306</td>\n",
       "      <td>0 days</td>\n",
       "    </tr>\n",
       "  </tbody>\n",
       "</table>\n",
       "</div>"
      ],
      "text/plain": [
       "    user_id   date\n",
       "0  29025780 5 days\n",
       "1  31229488 0 days\n",
       "2  33535391 0 days\n",
       "3  33609704 0 days\n",
       "4  34080306 0 days"
      ]
     },
     "execution_count": 53,
     "metadata": {},
     "output_type": "execute_result"
    }
   ],
   "source": [
    "repur_time_gap = repur_time_gap.reset_index()\n",
    "repur_time_gap.head()"
   ]
  },
  {
   "cell_type": "code",
   "execution_count": 54,
   "metadata": {},
   "outputs": [],
   "source": [
    "repur_time_gap.date = repur_time_gap.date.dt.days"
   ]
  },
  {
   "cell_type": "code",
   "execution_count": 55,
   "metadata": {},
   "outputs": [
    {
     "data": {
      "text/plain": [
       "count    23324.000000\n",
       "mean         1.246441\n",
       "std          4.405746\n",
       "min          0.000000\n",
       "25%          0.000000\n",
       "50%          0.000000\n",
       "75%          0.000000\n",
       "max         30.000000\n",
       "Name: date, dtype: float64"
      ]
     },
     "execution_count": 55,
     "metadata": {},
     "output_type": "execute_result"
    }
   ],
   "source": [
    "repur_time_gap.date.describe()"
   ]
  },
  {
   "cell_type": "markdown",
   "metadata": {},
   "source": [
    "Repurchase is defined as user who purchase on different days, so the time gap zero day is removed."
   ]
  },
  {
   "cell_type": "code",
   "execution_count": 56,
   "metadata": {},
   "outputs": [
    {
     "data": {
      "text/plain": [
       "count    2492.000000\n",
       "mean       11.666132\n",
       "std         7.754571\n",
       "min         1.000000\n",
       "25%         5.000000\n",
       "50%        11.000000\n",
       "75%        18.000000\n",
       "max        30.000000\n",
       "Name: date, dtype: float64"
      ]
     },
     "execution_count": 56,
     "metadata": {},
     "output_type": "execute_result"
    }
   ],
   "source": [
    "timegap_nosameday = repur_time_gap.date[repur_time_gap.date > 0]\n",
    "timegap_nosameday.describe()"
   ]
  },
  {
   "cell_type": "code",
   "execution_count": 57,
   "metadata": {},
   "outputs": [
    {
     "data": {
      "image/png": "[encoded data removed]",
      "text/plain": [
       "<Figure size 800x480 with 1 Axes>"
      ]
     },
     "metadata": {},
     "output_type": "display_data"
    }
   ],
   "source": [
    "fig = plt.figure(figsize = (10,6), dpi = 80)\n",
    "ax = fig.add_subplot()\n",
    "sns.set(style = 'white', palette = 'bright')\n",
    "sns.distplot(timegap_nosameday, bins = 16,kde = False, color = 'b')\n",
    "plt.xlim(xmin = 0)\n",
    "plt.title('Repurchase time gap',fontsize = 18)\n",
    "plt.xlabel('Gap Days', fontsize = 15)\n",
    "plt.grid(linestyle = ':', alpha = 0.7)\n",
    "plt.ylabel('Number of Users', size = 15)\n",
    "ax.spines['top'].set_visible(False)\n",
    "ax.spines['right'].set_visible(False)\n",
    "#ax.set_xticks(range(1,31,2))\n",
    "#plt.savefig('2.32 Repurchase time gap.png')"
   ]
  },
  {
   "cell_type": "markdown",
   "metadata": {},
   "source": [
    "# 制作漏斗图 calculate funnel"
   ]
  },
  {
   "cell_type": "markdown",
   "metadata": {},
   "source": [
    "## split and merge four phases data\n",
    "The data is splited based on four event types. Then, the data from four phases is merged on the same user id and the same product id, which can be used to understand whether the same user do the next phase event for the same product.  \n",
    "Also, for the data only includes the event history in October, some events may links to the previous history. For instance, a product may be added to cart in September and remove from cart in October. This type of data is excluded in the conversion rate analysis. "
   ]
  },
  {
   "cell_type": "code",
   "execution_count": 58,
   "metadata": {},
   "outputs": [],
   "source": [
    "df_view = df[df.event_type == 'view']\n",
    "df_cart = df[df.event_type == 'cart']\n",
    "df_rf_cart = df[df.event_type == 'remove_from_cart']\n",
    "df_purchase = df[df.event_type == 'purchase']"
   ]
  },
  {
   "cell_type": "markdown",
   "metadata": {},
   "source": [
    "### view to cart"
   ]
  },
  {
   "cell_type": "code",
   "execution_count": 59,
   "metadata": {},
   "outputs": [],
   "source": [
    "df_v_to_c = pd.merge(left = df_view[['time',\n",
    "                              'product_id','user_id',\n",
    "                              'brand','price','category_id','category_code']], \n",
    "                     right = df_cart[['time','user_id','product_id']],\n",
    "                     on = ['user_id','product_id'], how = 'left',\n",
    "                     suffixes = ['_view','_cart'])"
   ]
  },
  {
   "cell_type": "code",
   "execution_count": 60,
   "metadata": {},
   "outputs": [
    {
     "name": "stdout",
     "output_type": "stream",
     "text": [
      "<class 'pandas.core.frame.DataFrame'>\n",
      "Int64Index: 2166756 entries, 0 to 2166755\n",
      "Data columns (total 8 columns):\n",
      "time_view        object\n",
      "product_id       int64\n",
      "user_id          int64\n",
      "brand            object\n",
      "price            float64\n",
      "category_id      int64\n",
      "category_code    object\n",
      "time_cart        object\n",
      "dtypes: float64(1), int64(3), object(4)\n",
      "memory usage: 148.8+ MB\n"
     ]
    }
   ],
   "source": [
    "df_v_to_c.info()"
   ]
  },
  {
   "cell_type": "code",
   "execution_count": 61,
   "metadata": {
    "scrolled": true
   },
   "outputs": [
    {
     "data": {
      "text/html": [
       "<div>\n",
       "<style scoped>\n",
       "    .dataframe tbody tr th:only-of-type {\n",
       "        vertical-align: middle;\n",
       "    }\n",
       "\n",
       "    .dataframe tbody tr th {\n",
       "        vertical-align: top;\n",
       "    }\n",
       "\n",
       "    .dataframe thead th {\n",
       "        text-align: right;\n",
       "    }\n",
       "</style>\n",
       "<table border=\"1\" class=\"dataframe\">\n",
       "  <thead>\n",
       "    <tr style=\"text-align: right;\">\n",
       "      <th></th>\n",
       "      <th>time_view</th>\n",
       "      <th>product_id</th>\n",
       "      <th>user_id</th>\n",
       "      <th>brand</th>\n",
       "      <th>price</th>\n",
       "      <th>category_id</th>\n",
       "      <th>category_code</th>\n",
       "      <th>time_cart</th>\n",
       "    </tr>\n",
       "  </thead>\n",
       "  <tbody>\n",
       "    <tr>\n",
       "      <th>0</th>\n",
       "      <td>00:00:26</td>\n",
       "      <td>5875317</td>\n",
       "      <td>474232307</td>\n",
       "      <td>NaN</td>\n",
       "      <td>0.26</td>\n",
       "      <td>2029082628195353599</td>\n",
       "      <td>NaN</td>\n",
       "      <td>00:01:13</td>\n",
       "    </tr>\n",
       "    <tr>\n",
       "      <th>1</th>\n",
       "      <td>00:00:28</td>\n",
       "      <td>5692917</td>\n",
       "      <td>555446068</td>\n",
       "      <td>lianail</td>\n",
       "      <td>0.90</td>\n",
       "      <td>1487580004857414477</td>\n",
       "      <td>NaN</td>\n",
       "      <td>NaN</td>\n",
       "    </tr>\n",
       "    <tr>\n",
       "      <th>2</th>\n",
       "      <td>00:00:48</td>\n",
       "      <td>5819638</td>\n",
       "      <td>546705258</td>\n",
       "      <td>NaN</td>\n",
       "      <td>3.53</td>\n",
       "      <td>1487580008162526182</td>\n",
       "      <td>NaN</td>\n",
       "      <td>NaN</td>\n",
       "    </tr>\n",
       "    <tr>\n",
       "      <th>3</th>\n",
       "      <td>00:00:53</td>\n",
       "      <td>5856191</td>\n",
       "      <td>507355498</td>\n",
       "      <td>runail</td>\n",
       "      <td>3.96</td>\n",
       "      <td>1487580006350586771</td>\n",
       "      <td>appliances.environment.vacuum</td>\n",
       "      <td>NaN</td>\n",
       "    </tr>\n",
       "    <tr>\n",
       "      <th>4</th>\n",
       "      <td>00:01:11</td>\n",
       "      <td>5733176</td>\n",
       "      <td>543446752</td>\n",
       "      <td>NaN</td>\n",
       "      <td>0.10</td>\n",
       "      <td>1487580009362096156</td>\n",
       "      <td>NaN</td>\n",
       "      <td>NaN</td>\n",
       "    </tr>\n",
       "  </tbody>\n",
       "</table>\n",
       "</div>"
      ],
      "text/plain": [
       "  time_view  product_id    user_id    brand  price          category_id  \\\n",
       "0  00:00:26     5875317  474232307      NaN   0.26  2029082628195353599   \n",
       "1  00:00:28     5692917  555446068  lianail   0.90  1487580004857414477   \n",
       "2  00:00:48     5819638  546705258      NaN   3.53  1487580008162526182   \n",
       "3  00:00:53     5856191  507355498   runail   3.96  1487580006350586771   \n",
       "4  00:01:11     5733176  543446752      NaN   0.10  1487580009362096156   \n",
       "\n",
       "                   category_code time_cart  \n",
       "0                            NaN  00:01:13  \n",
       "1                            NaN       NaN  \n",
       "2                            NaN       NaN  \n",
       "3  appliances.environment.vacuum       NaN  \n",
       "4                            NaN       NaN  "
      ]
     },
     "execution_count": 61,
     "metadata": {},
     "output_type": "execute_result"
    }
   ],
   "source": [
    "df_v_to_c.head()"
   ]
  },
  {
   "cell_type": "markdown",
   "metadata": {},
   "source": [
    "### cart to remove from cart"
   ]
  },
  {
   "cell_type": "code",
   "execution_count": 62,
   "metadata": {},
   "outputs": [
    {
     "name": "stdout",
     "output_type": "stream",
     "text": [
      "<class 'pandas.core.frame.DataFrame'>\n",
      "Int64Index: 2811347 entries, 0 to 2811346\n",
      "Data columns (total 9 columns):\n",
      "time_view        object\n",
      "time_cart        object\n",
      "product_id       int64\n",
      "user_id          int64\n",
      "brand            object\n",
      "price            float64\n",
      "category_id      int64\n",
      "category_code    object\n",
      "time_rf_cart     object\n",
      "dtypes: float64(1), int64(3), object(5)\n",
      "memory usage: 214.5+ MB\n"
     ]
    }
   ],
   "source": [
    "df_v_c_r = pd.merge(left = df_v_to_c[['time_view','time_cart',\n",
    "                              'product_id','user_id',\n",
    "                              'brand','price','category_id','category_code']], \n",
    "                     right = df_rf_cart[['time','user_id','product_id']],\n",
    "                     on = ['user_id','product_id'], how = 'left',\n",
    "                     suffixes = ['_cart','_rf_cart'])\n",
    "df_v_c_r.rename(columns = {'time':'time_rf_cart'},inplace = True)\n",
    "df_v_c_r.info()"
   ]
  },
  {
   "cell_type": "markdown",
   "metadata": {},
   "source": [
    "### cart to buy"
   ]
  },
  {
   "cell_type": "code",
   "execution_count": 63,
   "metadata": {},
   "outputs": [
    {
     "name": "stdout",
     "output_type": "stream",
     "text": [
      "<class 'pandas.core.frame.DataFrame'>\n",
      "Int64Index: 2188305 entries, 0 to 2188304\n",
      "Data columns (total 9 columns):\n",
      "time_view        object\n",
      "time_cart        object\n",
      "product_id       int64\n",
      "user_id          int64\n",
      "brand            object\n",
      "price            float64\n",
      "category_id      int64\n",
      "category_code    object\n",
      "time_purchase    object\n",
      "dtypes: float64(1), int64(3), object(5)\n",
      "memory usage: 167.0+ MB\n"
     ]
    }
   ],
   "source": [
    "df_v_c_b = pd.merge(left = df_v_to_c[['time_view','time_cart',\n",
    "                              'product_id','user_id',\n",
    "                              'brand','price','category_id','category_code']], \n",
    "                     right = df_purchase[['time','user_id','product_id']],\n",
    "                     on = ['user_id','product_id'], how = 'left',\n",
    "                     suffixes = ['_cart','_rf_cart'])\n",
    "df_v_c_b.rename(columns = {'time':'time_purchase'},inplace = True)\n",
    "df_v_c_b.info()"
   ]
  },
  {
   "cell_type": "markdown",
   "metadata": {},
   "source": [
    "## funnel data calculate"
   ]
  },
  {
   "cell_type": "code",
   "execution_count": 64,
   "metadata": {},
   "outputs": [
    {
     "data": {
      "text/html": [
       "<div>\n",
       "<style scoped>\n",
       "    .dataframe tbody tr th:only-of-type {\n",
       "        vertical-align: middle;\n",
       "    }\n",
       "\n",
       "    .dataframe tbody tr th {\n",
       "        vertical-align: top;\n",
       "    }\n",
       "\n",
       "    .dataframe thead th {\n",
       "        text-align: right;\n",
       "    }\n",
       "</style>\n",
       "<table border=\"1\" class=\"dataframe\">\n",
       "  <thead>\n",
       "    <tr style=\"text-align: right;\">\n",
       "      <th></th>\n",
       "      <th>user_id</th>\n",
       "      <th>product_id</th>\n",
       "      <th>time_cart</th>\n",
       "    </tr>\n",
       "  </thead>\n",
       "  <tbody>\n",
       "    <tr>\n",
       "      <th>0</th>\n",
       "      <td>4103071</td>\n",
       "      <td>5563536</td>\n",
       "      <td>0</td>\n",
       "    </tr>\n",
       "    <tr>\n",
       "      <th>1</th>\n",
       "      <td>4103071</td>\n",
       "      <td>5670334</td>\n",
       "      <td>0</td>\n",
       "    </tr>\n",
       "    <tr>\n",
       "      <th>2</th>\n",
       "      <td>4103071</td>\n",
       "      <td>5735272</td>\n",
       "      <td>0</td>\n",
       "    </tr>\n",
       "    <tr>\n",
       "      <th>3</th>\n",
       "      <td>4103071</td>\n",
       "      <td>5784982</td>\n",
       "      <td>0</td>\n",
       "    </tr>\n",
       "    <tr>\n",
       "      <th>4</th>\n",
       "      <td>4103071</td>\n",
       "      <td>5795273</td>\n",
       "      <td>0</td>\n",
       "    </tr>\n",
       "  </tbody>\n",
       "</table>\n",
       "</div>"
      ],
      "text/plain": [
       "   user_id  product_id  time_cart\n",
       "0  4103071     5563536          0\n",
       "1  4103071     5670334          0\n",
       "2  4103071     5735272          0\n",
       "3  4103071     5784982          0\n",
       "4  4103071     5795273          0"
      ]
     },
     "execution_count": 64,
     "metadata": {},
     "output_type": "execute_result"
    }
   ],
   "source": [
    "df_v_to_c1 = df_v_to_c.groupby(['user_id','product_id']).time_cart.nunique().reset_index()\n",
    "df_v_to_c1.head()"
   ]
  },
  {
   "cell_type": "code",
   "execution_count": 65,
   "metadata": {},
   "outputs": [
    {
     "name": "stdout",
     "output_type": "stream",
     "text": [
      "number of view users: 1402738, number of add cart users:326246,v_to_c rate is 0.2326\n"
     ]
    }
   ],
   "source": [
    "view_num = len(df_v_to_c1)\n",
    "cart_num = view_num - len(df_v_to_c1[df_v_to_c1.time_cart == 0])\n",
    "v_to_c_rate = round(cart_num/view_num,4)\n",
    "print(\"number of view users: {}, number of add cart users:{},v_to_c rate is {}\".format(view_num, cart_num, v_to_c_rate))"
   ]
  },
  {
   "cell_type": "code",
   "execution_count": 66,
   "metadata": {},
   "outputs": [
    {
     "data": {
      "text/html": [
       "<div>\n",
       "<style scoped>\n",
       "    .dataframe tbody tr th:only-of-type {\n",
       "        vertical-align: middle;\n",
       "    }\n",
       "\n",
       "    .dataframe tbody tr th {\n",
       "        vertical-align: top;\n",
       "    }\n",
       "\n",
       "    .dataframe thead th {\n",
       "        text-align: right;\n",
       "    }\n",
       "</style>\n",
       "<table border=\"1\" class=\"dataframe\">\n",
       "  <thead>\n",
       "    <tr style=\"text-align: right;\">\n",
       "      <th></th>\n",
       "      <th>user_id</th>\n",
       "      <th>product_id</th>\n",
       "      <th>time_rf_cart</th>\n",
       "    </tr>\n",
       "  </thead>\n",
       "  <tbody>\n",
       "    <tr>\n",
       "      <th>0</th>\n",
       "      <td>4103071</td>\n",
       "      <td>5563536</td>\n",
       "      <td>0</td>\n",
       "    </tr>\n",
       "    <tr>\n",
       "      <th>1</th>\n",
       "      <td>4103071</td>\n",
       "      <td>5670334</td>\n",
       "      <td>0</td>\n",
       "    </tr>\n",
       "    <tr>\n",
       "      <th>2</th>\n",
       "      <td>4103071</td>\n",
       "      <td>5735272</td>\n",
       "      <td>0</td>\n",
       "    </tr>\n",
       "    <tr>\n",
       "      <th>3</th>\n",
       "      <td>4103071</td>\n",
       "      <td>5784982</td>\n",
       "      <td>0</td>\n",
       "    </tr>\n",
       "    <tr>\n",
       "      <th>4</th>\n",
       "      <td>4103071</td>\n",
       "      <td>5795273</td>\n",
       "      <td>0</td>\n",
       "    </tr>\n",
       "  </tbody>\n",
       "</table>\n",
       "</div>"
      ],
      "text/plain": [
       "   user_id  product_id  time_rf_cart\n",
       "0  4103071     5563536             0\n",
       "1  4103071     5670334             0\n",
       "2  4103071     5735272             0\n",
       "3  4103071     5784982             0\n",
       "4  4103071     5795273             0"
      ]
     },
     "execution_count": 66,
     "metadata": {},
     "output_type": "execute_result"
    }
   ],
   "source": [
    "df_c_to_r1 = df_v_c_r.groupby(['user_id','product_id']).time_rf_cart.nunique().reset_index()\n",
    "df_c_to_r1.head()"
   ]
  },
  {
   "cell_type": "code",
   "execution_count": 67,
   "metadata": {},
   "outputs": [],
   "source": [
    "rf_num = len(df_c_to_r1[df_c_to_r1.time_rf_cart != 0])\n",
    "rf_num\n",
    "c_to_rf_rate = round(rf_num/cart_num,4)"
   ]
  },
  {
   "cell_type": "code",
   "execution_count": 68,
   "metadata": {},
   "outputs": [
    {
     "data": {
      "text/html": [
       "<div>\n",
       "<style scoped>\n",
       "    .dataframe tbody tr th:only-of-type {\n",
       "        vertical-align: middle;\n",
       "    }\n",
       "\n",
       "    .dataframe tbody tr th {\n",
       "        vertical-align: top;\n",
       "    }\n",
       "\n",
       "    .dataframe thead th {\n",
       "        text-align: right;\n",
       "    }\n",
       "</style>\n",
       "<table border=\"1\" class=\"dataframe\">\n",
       "  <thead>\n",
       "    <tr style=\"text-align: right;\">\n",
       "      <th></th>\n",
       "      <th>product_id</th>\n",
       "      <th>user_id</th>\n",
       "      <th>time_purchase</th>\n",
       "    </tr>\n",
       "  </thead>\n",
       "  <tbody>\n",
       "    <tr>\n",
       "      <th>0</th>\n",
       "      <td>3752</td>\n",
       "      <td>306131139</td>\n",
       "      <td>0</td>\n",
       "    </tr>\n",
       "    <tr>\n",
       "      <th>1</th>\n",
       "      <td>3752</td>\n",
       "      <td>525448973</td>\n",
       "      <td>0</td>\n",
       "    </tr>\n",
       "    <tr>\n",
       "      <th>2</th>\n",
       "      <td>3752</td>\n",
       "      <td>543825317</td>\n",
       "      <td>0</td>\n",
       "    </tr>\n",
       "    <tr>\n",
       "      <th>3</th>\n",
       "      <td>3752</td>\n",
       "      <td>552966434</td>\n",
       "      <td>0</td>\n",
       "    </tr>\n",
       "    <tr>\n",
       "      <th>4</th>\n",
       "      <td>3752</td>\n",
       "      <td>558771491</td>\n",
       "      <td>0</td>\n",
       "    </tr>\n",
       "  </tbody>\n",
       "</table>\n",
       "</div>"
      ],
      "text/plain": [
       "   product_id    user_id  time_purchase\n",
       "0        3752  306131139              0\n",
       "1        3752  525448973              0\n",
       "2        3752  543825317              0\n",
       "3        3752  552966434              0\n",
       "4        3752  558771491              0"
      ]
     },
     "execution_count": 68,
     "metadata": {},
     "output_type": "execute_result"
    }
   ],
   "source": [
    "df_v_c_b1 = df_v_c_b.groupby(['product_id','user_id']).time_purchase.nunique().reset_index()\n",
    "df_v_c_b1.head()"
   ]
  },
  {
   "cell_type": "code",
   "execution_count": 69,
   "metadata": {},
   "outputs": [],
   "source": [
    "b_num = len(df_v_c_b1[df_v_c_b1.time_purchase != 0])\n",
    "b_num\n",
    "c_to_b_rate = round(b_num/cart_num,4)"
   ]
  },
  {
   "cell_type": "code",
   "execution_count": 70,
   "metadata": {},
   "outputs": [
    {
     "name": "stdout",
     "output_type": "stream",
     "text": [
      "\n",
      "number of view is:1402738\n",
      "number of add to cart is :326246\n",
      "number of remove from cart is:151954\n",
      "number of purchase is :86771\n",
      "rate from view to add to cart is:0.2326\n",
      "rate from add to cart to remove is:0.4658\n",
      "rate from add to cart to purchase is: 0.266\n",
      "\n"
     ]
    }
   ],
   "source": [
    "\n",
    "print(\"\"\"\n",
    "number of view is:{}\n",
    "number of add to cart is :{}\n",
    "number of remove from cart is:{}\n",
    "number of purchase is :{}\n",
    "rate from view to add to cart is:{}\n",
    "rate from add to cart to remove is:{}\n",
    "rate from add to cart to purchase is: {}\n",
    "\"\"\".format(view_num, cart_num, rf_num, b_num,v_to_c_rate,c_to_rf_rate, c_to_b_rate))"
   ]
  },
  {
   "cell_type": "markdown",
   "metadata": {},
   "source": [
    "## plot the funnel"
   ]
  },
  {
   "cell_type": "code",
   "execution_count": 71,
   "metadata": {},
   "outputs": [
    {
     "data": {
      "text/plain": [
       "\"\\nfrom pyecharts import Funnel\\nfunnel = Funnel('funnel',width = 800, height = 600, title_pos = 'center')\\nevent = ['view','add to chart','purchase']\\nevent_num = [view_num, chart_num, b_num]\\nfunnel.add('cosmetic ecommerce',event, event_num,\\n           label_pos = 'inside', \\n          label_formatter = '{b},{d}')\\nfunnel.render()\\n\""
      ]
     },
     "execution_count": 71,
     "metadata": {},
     "output_type": "execute_result"
    }
   ],
   "source": [
    "\"\"\"\n",
    "from pyecharts import Funnel\n",
    "funnel = Funnel('funnel',width = 800, height = 600, title_pos = 'center')\n",
    "event = ['view','add to chart','purchase']\n",
    "event_num = [view_num, chart_num, b_num]\n",
    "funnel.add('cosmetic ecommerce',event, event_num,\n",
    "           label_pos = 'inside', \n",
    "          label_formatter = '{b},{d}')\n",
    "funnel.render()\n",
    "\"\"\""
   ]
  },
  {
   "cell_type": "markdown",
   "metadata": {},
   "source": [
    "# product category analysis"
   ]
  },
  {
   "cell_type": "code",
   "execution_count": 72,
   "metadata": {},
   "outputs": [
    {
     "data": {
      "text/html": [
       "<div>\n",
       "<style scoped>\n",
       "    .dataframe tbody tr th:only-of-type {\n",
       "        vertical-align: middle;\n",
       "    }\n",
       "\n",
       "    .dataframe tbody tr th {\n",
       "        vertical-align: top;\n",
       "    }\n",
       "\n",
       "    .dataframe thead th {\n",
       "        text-align: right;\n",
       "    }\n",
       "</style>\n",
       "<table border=\"1\" class=\"dataframe\">\n",
       "  <thead>\n",
       "    <tr style=\"text-align: right;\">\n",
       "      <th></th>\n",
       "      <th>top_brand</th>\n",
       "      <th>count</th>\n",
       "    </tr>\n",
       "  </thead>\n",
       "  <tbody>\n",
       "    <tr>\n",
       "      <th>0</th>\n",
       "      <td>runail</td>\n",
       "      <td>306239</td>\n",
       "    </tr>\n",
       "    <tr>\n",
       "      <th>1</th>\n",
       "      <td>irisk</td>\n",
       "      <td>226589</td>\n",
       "    </tr>\n",
       "    <tr>\n",
       "      <th>2</th>\n",
       "      <td>masura</td>\n",
       "      <td>195170</td>\n",
       "    </tr>\n",
       "    <tr>\n",
       "      <th>3</th>\n",
       "      <td>grattol</td>\n",
       "      <td>132130</td>\n",
       "    </tr>\n",
       "    <tr>\n",
       "      <th>4</th>\n",
       "      <td>bpw.style</td>\n",
       "      <td>114192</td>\n",
       "    </tr>\n",
       "  </tbody>\n",
       "</table>\n",
       "</div>"
      ],
      "text/plain": [
       "   top_brand   count\n",
       "0     runail  306239\n",
       "1      irisk  226589\n",
       "2     masura  195170\n",
       "3    grattol  132130\n",
       "4  bpw.style  114192"
      ]
     },
     "execution_count": 72,
     "metadata": {},
     "output_type": "execute_result"
    }
   ],
   "source": [
    "brandtop10 = df.brand.value_counts()[:10]\n",
    "brandtop10 = brandtop10.reset_index().rename(columns = {\"index\":\"top_brand\",\"brand\":\"count\"})\n",
    "brandtop10.head()"
   ]
  },
  {
   "cell_type": "code",
   "execution_count": 73,
   "metadata": {},
   "outputs": [],
   "source": [
    "brand_event = df[df.brand.isin(brandtop10.top_brand)].groupby(['brand','event_type']).user_id.count().unstack().reset_index()"
   ]
  },
  {
   "cell_type": "code",
   "execution_count": 74,
   "metadata": {},
   "outputs": [
    {
     "data": {
      "text/html": [
       "<div>\n",
       "<style scoped>\n",
       "    .dataframe tbody tr th:only-of-type {\n",
       "        vertical-align: middle;\n",
       "    }\n",
       "\n",
       "    .dataframe tbody tr th {\n",
       "        vertical-align: top;\n",
       "    }\n",
       "\n",
       "    .dataframe thead th {\n",
       "        text-align: right;\n",
       "    }\n",
       "</style>\n",
       "<table border=\"1\" class=\"dataframe\">\n",
       "  <thead>\n",
       "    <tr style=\"text-align: right;\">\n",
       "      <th>event_type</th>\n",
       "      <th>brand</th>\n",
       "      <th>cart</th>\n",
       "      <th>purchase</th>\n",
       "      <th>remove_from_cart</th>\n",
       "      <th>view</th>\n",
       "    </tr>\n",
       "  </thead>\n",
       "  <tbody>\n",
       "    <tr>\n",
       "      <th>0</th>\n",
       "      <td>bpw.style</td>\n",
       "      <td>37785</td>\n",
       "      <td>9506</td>\n",
       "      <td>23576</td>\n",
       "      <td>43325</td>\n",
       "    </tr>\n",
       "    <tr>\n",
       "      <th>1</th>\n",
       "      <td>estel</td>\n",
       "      <td>16207</td>\n",
       "      <td>3211</td>\n",
       "      <td>8035</td>\n",
       "      <td>36989</td>\n",
       "    </tr>\n",
       "    <tr>\n",
       "      <th>2</th>\n",
       "      <td>grattol</td>\n",
       "      <td>33494</td>\n",
       "      <td>6438</td>\n",
       "      <td>24327</td>\n",
       "      <td>67871</td>\n",
       "    </tr>\n",
       "    <tr>\n",
       "      <th>3</th>\n",
       "      <td>ingarden</td>\n",
       "      <td>27948</td>\n",
       "      <td>5181</td>\n",
       "      <td>22060</td>\n",
       "      <td>35091</td>\n",
       "    </tr>\n",
       "    <tr>\n",
       "      <th>4</th>\n",
       "      <td>irisk</td>\n",
       "      <td>78293</td>\n",
       "      <td>15645</td>\n",
       "      <td>47330</td>\n",
       "      <td>85321</td>\n",
       "    </tr>\n",
       "  </tbody>\n",
       "</table>\n",
       "</div>"
      ],
      "text/plain": [
       "event_type      brand   cart  purchase  remove_from_cart   view\n",
       "0           bpw.style  37785      9506             23576  43325\n",
       "1               estel  16207      3211              8035  36989\n",
       "2             grattol  33494      6438             24327  67871\n",
       "3            ingarden  27948      5181             22060  35091\n",
       "4               irisk  78293     15645             47330  85321"
      ]
     },
     "execution_count": 74,
     "metadata": {},
     "output_type": "execute_result"
    }
   ],
   "source": [
    "brand_event.head()"
   ]
  },
  {
   "cell_type": "code",
   "execution_count": 75,
   "metadata": {},
   "outputs": [
    {
     "data": {
      "text/html": [
       "<div>\n",
       "<style scoped>\n",
       "    .dataframe tbody tr th:only-of-type {\n",
       "        vertical-align: middle;\n",
       "    }\n",
       "\n",
       "    .dataframe tbody tr th {\n",
       "        vertical-align: top;\n",
       "    }\n",
       "\n",
       "    .dataframe thead th {\n",
       "        text-align: right;\n",
       "    }\n",
       "</style>\n",
       "<table border=\"1\" class=\"dataframe\">\n",
       "  <thead>\n",
       "    <tr style=\"text-align: right;\">\n",
       "      <th>event_type</th>\n",
       "      <th>brand</th>\n",
       "      <th>cart</th>\n",
       "      <th>purchase</th>\n",
       "      <th>remove_from_cart</th>\n",
       "      <th>view</th>\n",
       "      <th>v_to_c</th>\n",
       "      <th>c_to_b</th>\n",
       "    </tr>\n",
       "  </thead>\n",
       "  <tbody>\n",
       "    <tr>\n",
       "      <th>0</th>\n",
       "      <td>bpw.style</td>\n",
       "      <td>37785</td>\n",
       "      <td>9506</td>\n",
       "      <td>23576</td>\n",
       "      <td>43325</td>\n",
       "      <td>0.872129</td>\n",
       "      <td>0.251581</td>\n",
       "    </tr>\n",
       "    <tr>\n",
       "      <th>1</th>\n",
       "      <td>estel</td>\n",
       "      <td>16207</td>\n",
       "      <td>3211</td>\n",
       "      <td>8035</td>\n",
       "      <td>36989</td>\n",
       "      <td>0.438157</td>\n",
       "      <td>0.198124</td>\n",
       "    </tr>\n",
       "    <tr>\n",
       "      <th>2</th>\n",
       "      <td>grattol</td>\n",
       "      <td>33494</td>\n",
       "      <td>6438</td>\n",
       "      <td>24327</td>\n",
       "      <td>67871</td>\n",
       "      <td>0.493495</td>\n",
       "      <td>0.192214</td>\n",
       "    </tr>\n",
       "    <tr>\n",
       "      <th>3</th>\n",
       "      <td>ingarden</td>\n",
       "      <td>27948</td>\n",
       "      <td>5181</td>\n",
       "      <td>22060</td>\n",
       "      <td>35091</td>\n",
       "      <td>0.796444</td>\n",
       "      <td>0.185380</td>\n",
       "    </tr>\n",
       "    <tr>\n",
       "      <th>4</th>\n",
       "      <td>irisk</td>\n",
       "      <td>78293</td>\n",
       "      <td>15645</td>\n",
       "      <td>47330</td>\n",
       "      <td>85321</td>\n",
       "      <td>0.917629</td>\n",
       "      <td>0.199826</td>\n",
       "    </tr>\n",
       "    <tr>\n",
       "      <th>5</th>\n",
       "      <td>kapous</td>\n",
       "      <td>14576</td>\n",
       "      <td>3117</td>\n",
       "      <td>7306</td>\n",
       "      <td>32916</td>\n",
       "      <td>0.442824</td>\n",
       "      <td>0.213845</td>\n",
       "    </tr>\n",
       "    <tr>\n",
       "      <th>6</th>\n",
       "      <td>masura</td>\n",
       "      <td>58657</td>\n",
       "      <td>11356</td>\n",
       "      <td>45649</td>\n",
       "      <td>79508</td>\n",
       "      <td>0.737750</td>\n",
       "      <td>0.193600</td>\n",
       "    </tr>\n",
       "    <tr>\n",
       "      <th>7</th>\n",
       "      <td>pole</td>\n",
       "      <td>19789</td>\n",
       "      <td>3360</td>\n",
       "      <td>15048</td>\n",
       "      <td>23408</td>\n",
       "      <td>0.845395</td>\n",
       "      <td>0.169791</td>\n",
       "    </tr>\n",
       "    <tr>\n",
       "      <th>8</th>\n",
       "      <td>runail</td>\n",
       "      <td>98737</td>\n",
       "      <td>21936</td>\n",
       "      <td>65957</td>\n",
       "      <td>119609</td>\n",
       "      <td>0.825498</td>\n",
       "      <td>0.222166</td>\n",
       "    </tr>\n",
       "    <tr>\n",
       "      <th>9</th>\n",
       "      <td>uno</td>\n",
       "      <td>13307</td>\n",
       "      <td>3218</td>\n",
       "      <td>8169</td>\n",
       "      <td>23334</td>\n",
       "      <td>0.570284</td>\n",
       "      <td>0.241828</td>\n",
       "    </tr>\n",
       "  </tbody>\n",
       "</table>\n",
       "</div>"
      ],
      "text/plain": [
       "event_type      brand   cart  purchase  remove_from_cart    view    v_to_c  \\\n",
       "0           bpw.style  37785      9506             23576   43325  0.872129   \n",
       "1               estel  16207      3211              8035   36989  0.438157   \n",
       "2             grattol  33494      6438             24327   67871  0.493495   \n",
       "3            ingarden  27948      5181             22060   35091  0.796444   \n",
       "4               irisk  78293     15645             47330   85321  0.917629   \n",
       "5              kapous  14576      3117              7306   32916  0.442824   \n",
       "6              masura  58657     11356             45649   79508  0.737750   \n",
       "7                pole  19789      3360             15048   23408  0.845395   \n",
       "8              runail  98737     21936             65957  119609  0.825498   \n",
       "9                 uno  13307      3218              8169   23334  0.570284   \n",
       "\n",
       "event_type    c_to_b  \n",
       "0           0.251581  \n",
       "1           0.198124  \n",
       "2           0.192214  \n",
       "3           0.185380  \n",
       "4           0.199826  \n",
       "5           0.213845  \n",
       "6           0.193600  \n",
       "7           0.169791  \n",
       "8           0.222166  \n",
       "9           0.241828  "
      ]
     },
     "execution_count": 75,
     "metadata": {},
     "output_type": "execute_result"
    }
   ],
   "source": [
    "brand_event['v_to_c'] = brand_event.cart/brand_event.view\n",
    "brand_event['c_to_b'] = brand_event.purchase/brand_event.cart\n",
    "brand_event"
   ]
  },
  {
   "cell_type": "code",
   "execution_count": 76,
   "metadata": {},
   "outputs": [],
   "source": [
    "brand_event_vb = brand_event.sort_values(by = 'v_to_c', ascending = False)"
   ]
  },
  {
   "cell_type": "code",
   "execution_count": 105,
   "metadata": {},
   "outputs": [
    {
     "data": {
      "image/png": "[encoded data removed]",
      "text/plain": [
       "<Figure size 640x640 with 1 Axes>"
      ]
     },
     "metadata": {},
     "output_type": "display_data"
    }
   ],
   "source": [
    "fig = plt.figure(figsize = (8,8), dpi = 80)\n",
    "ax = fig.add_subplot()\n",
    "sns.set(style = 'white', palette = 'pastel')\n",
    "bar1y = [(2*i + 0.8*1) for i in range(len(brand_event_vb.c_to_b))]\n",
    "bar2y = [(2*i + 0.8*2) for i in range(len(brand_event_vb.v_to_c))]\n",
    "plt.barh(bar1y, brand_event_vb.c_to_b, color = 'plum', label = 'cart to purchase rate')\n",
    "plt.barh(bar2y, brand_event_vb.v_to_c, label = 'view to cart rate')\n",
    "#plt.vlines(brand_event_vb.v_to_c.mean(),ymin = -1, ymax = len(brand_event_vb),\n",
    "#          linestyle = '--',color = 'grey', alpha = 0.8,\n",
    " #         label = 'mean: {}'.format(round(brand_event_vb.v_to_c.mean(),4)))\n",
    "#ax.set_xticks([0,0.2,0.4,0.6,0.8,1.0])\n",
    "#ax.set_xticklabels([\"0%\",\"20%\",\"40%\",\"60%\",\"80%\",\"100%\"])\n",
    "ax.set_xticks([])\n",
    "y =[]\n",
    "for y1, y2 in zip(bar1y, bar2y):\n",
    "    a = (y1+y2)/2\n",
    "    y.append(a)\n",
    "ax.set_yticks(y)\n",
    "ax.set_yticklabels(brand_event_vb.brand)\n",
    "plt.title('conversion rate for top 10 brands'.title(), fontsize = 18)\n",
    "\n",
    "for x,y in zip(brand_event_vb.c_to_b, bar1y):\n",
    "    plt.text(x+0.005, y-0.15, (\"%.1f%%\")%(x*100))\n",
    "for x,y in zip(brand_event_vb.v_to_c, bar2y):\n",
    "    plt.text(x+0.005, y-0.15, (\"%.1f%%\")%(x*100))\n",
    "\n",
    "ax.spines['top'].set_visible(False)\n",
    "ax.spines['right'].set_visible(False)\n",
    "ax.spines['bottom'].set_visible(False)\n",
    "ax.spines['left'].set_visible(False)\n",
    "plt.legend()\n",
    "#plt.savefig('4.1 Conversion Rate for top10 brands.png')"
   ]
  },
  {
   "cell_type": "markdown",
   "metadata": {},
   "source": [
    "# 20:80\n",
    "## top 20 user"
   ]
  },
  {
   "cell_type": "code",
   "execution_count": 78,
   "metadata": {},
   "outputs": [
    {
     "data": {
      "text/plain": [
       "196408.74"
      ]
     },
     "execution_count": 78,
     "metadata": {},
     "output_type": "execute_result"
    }
   ],
   "source": [
    "total_revenue = purchase.price.sum()\n",
    "total_revenue"
   ]
  },
  {
   "cell_type": "code",
   "execution_count": 79,
   "metadata": {},
   "outputs": [
    {
     "name": "stdout",
     "output_type": "stream",
     "text": [
      "Revenue from top 20 users is 0.52 percent\n"
     ]
    }
   ],
   "source": [
    "top_user = purchase.groupby('user_id').price.sum().reset_index().sort_values(by = 'price', ascending = False)\n",
    "per20 = int(len(top_user)*0.2)\n",
    "top_20user_revenue = top_user.price[:per20].sum()\n",
    "print('Revenue from top 20 users is {} percent'.format(round(top_20user_revenue/total_revenue, 2)))"
   ]
  },
  {
   "cell_type": "markdown",
   "metadata": {},
   "source": [
    "## top20 product"
   ]
  },
  {
   "cell_type": "code",
   "execution_count": 80,
   "metadata": {},
   "outputs": [
    {
     "name": "stdout",
     "output_type": "stream",
     "text": [
      "Revenue from top 20 categories is 0.81 percent\n"
     ]
    }
   ],
   "source": [
    "top_product = purchase.groupby('category_id').price.sum().reset_index().sort_values(by = 'price',ascending = False)\n",
    "per20_category = int(len(top_product)*0.2)\n",
    "top_20product_revenue = top_product.price[:per20_category].sum()\n",
    "print('Revenue from top 20 categories is {} percent'.format(round(top_20product_revenue/total_revenue, 2)))"
   ]
  },
  {
   "cell_type": "markdown",
   "metadata": {},
   "source": [
    "# RFM(recency, frequency, monetary)\n",
    "## extract RFM data\n",
    "calculate the purchased users' recent purchase time, purchase frequency in this month and the total payment they made."
   ]
  },
  {
   "cell_type": "code",
   "execution_count": 81,
   "metadata": {},
   "outputs": [],
   "source": [
    "recent_buy_time = purchase.groupby('user_id').time_zoneless.min().reset_index().rename(columns = {'time_zoneless':'recent_pur_time'})"
   ]
  },
  {
   "cell_type": "code",
   "execution_count": 82,
   "metadata": {},
   "outputs": [
    {
     "data": {
      "text/html": [
       "<div>\n",
       "<style scoped>\n",
       "    .dataframe tbody tr th:only-of-type {\n",
       "        vertical-align: middle;\n",
       "    }\n",
       "\n",
       "    .dataframe tbody tr th {\n",
       "        vertical-align: top;\n",
       "    }\n",
       "\n",
       "    .dataframe thead th {\n",
       "        text-align: right;\n",
       "    }\n",
       "</style>\n",
       "<table border=\"1\" class=\"dataframe\">\n",
       "  <thead>\n",
       "    <tr style=\"text-align: right;\">\n",
       "      <th></th>\n",
       "      <th>user_id</th>\n",
       "      <th>recent_pur_time</th>\n",
       "      <th>gap</th>\n",
       "    </tr>\n",
       "  </thead>\n",
       "  <tbody>\n",
       "    <tr>\n",
       "      <th>0</th>\n",
       "      <td>29025780</td>\n",
       "      <td>2019-10-02 19:56:18</td>\n",
       "      <td>29</td>\n",
       "    </tr>\n",
       "    <tr>\n",
       "      <th>1</th>\n",
       "      <td>31229488</td>\n",
       "      <td>2019-10-03 12:24:58</td>\n",
       "      <td>28</td>\n",
       "    </tr>\n",
       "    <tr>\n",
       "      <th>2</th>\n",
       "      <td>33535391</td>\n",
       "      <td>2019-10-13 19:07:28</td>\n",
       "      <td>18</td>\n",
       "    </tr>\n",
       "    <tr>\n",
       "      <th>3</th>\n",
       "      <td>33609704</td>\n",
       "      <td>2019-10-15 07:55:05</td>\n",
       "      <td>16</td>\n",
       "    </tr>\n",
       "    <tr>\n",
       "      <th>4</th>\n",
       "      <td>34080306</td>\n",
       "      <td>2019-10-30 18:30:12</td>\n",
       "      <td>1</td>\n",
       "    </tr>\n",
       "  </tbody>\n",
       "</table>\n",
       "</div>"
      ],
      "text/plain": [
       "    user_id     recent_pur_time  gap\n",
       "0  29025780 2019-10-02 19:56:18   29\n",
       "1  31229488 2019-10-03 12:24:58   28\n",
       "2  33535391 2019-10-13 19:07:28   18\n",
       "3  33609704 2019-10-15 07:55:05   16\n",
       "4  34080306 2019-10-30 18:30:12    1"
      ]
     },
     "execution_count": 82,
     "metadata": {},
     "output_type": "execute_result"
    }
   ],
   "source": [
    "from datetime import datetime, timedelta\n",
    "end_oct = datetime(2019,10,31,23,59,59)\n",
    "recent_buy_time['gap'] = end_oct - recent_buy_time.recent_pur_time\n",
    "recent_buy_time.gap = recent_buy_time.gap.map(lambda x:x.days)\n",
    "recent_buy_time.head()"
   ]
  },
  {
   "cell_type": "code",
   "execution_count": 83,
   "metadata": {},
   "outputs": [
    {
     "data": {
      "text/html": [
       "<div>\n",
       "<style scoped>\n",
       "    .dataframe tbody tr th:only-of-type {\n",
       "        vertical-align: middle;\n",
       "    }\n",
       "\n",
       "    .dataframe tbody tr th {\n",
       "        vertical-align: top;\n",
       "    }\n",
       "\n",
       "    .dataframe thead th {\n",
       "        text-align: right;\n",
       "    }\n",
       "</style>\n",
       "<table border=\"1\" class=\"dataframe\">\n",
       "  <thead>\n",
       "    <tr style=\"text-align: right;\">\n",
       "      <th></th>\n",
       "      <th>user_id</th>\n",
       "      <th>pur_freq</th>\n",
       "    </tr>\n",
       "  </thead>\n",
       "  <tbody>\n",
       "    <tr>\n",
       "      <th>0</th>\n",
       "      <td>29025780</td>\n",
       "      <td>18</td>\n",
       "    </tr>\n",
       "    <tr>\n",
       "      <th>1</th>\n",
       "      <td>31229488</td>\n",
       "      <td>4</td>\n",
       "    </tr>\n",
       "    <tr>\n",
       "      <th>2</th>\n",
       "      <td>33535391</td>\n",
       "      <td>11</td>\n",
       "    </tr>\n",
       "    <tr>\n",
       "      <th>3</th>\n",
       "      <td>33609704</td>\n",
       "      <td>9</td>\n",
       "    </tr>\n",
       "    <tr>\n",
       "      <th>4</th>\n",
       "      <td>34080306</td>\n",
       "      <td>3</td>\n",
       "    </tr>\n",
       "  </tbody>\n",
       "</table>\n",
       "</div>"
      ],
      "text/plain": [
       "    user_id  pur_freq\n",
       "0  29025780        18\n",
       "1  31229488         4\n",
       "2  33535391        11\n",
       "3  33609704         9\n",
       "4  34080306         3"
      ]
     },
     "execution_count": 83,
     "metadata": {},
     "output_type": "execute_result"
    }
   ],
   "source": [
    "buy_freq = purchase.groupby('user_id').time_zoneless.count().reset_index().rename(columns = {'time_zoneless':'pur_freq'})\n",
    "buy_freq.head()"
   ]
  },
  {
   "cell_type": "code",
   "execution_count": 84,
   "metadata": {},
   "outputs": [
    {
     "data": {
      "text/html": [
       "<div>\n",
       "<style scoped>\n",
       "    .dataframe tbody tr th:only-of-type {\n",
       "        vertical-align: middle;\n",
       "    }\n",
       "\n",
       "    .dataframe tbody tr th {\n",
       "        vertical-align: top;\n",
       "    }\n",
       "\n",
       "    .dataframe thead th {\n",
       "        text-align: right;\n",
       "    }\n",
       "</style>\n",
       "<table border=\"1\" class=\"dataframe\">\n",
       "  <thead>\n",
       "    <tr style=\"text-align: right;\">\n",
       "      <th></th>\n",
       "      <th>user_id</th>\n",
       "      <th>total_momentary</th>\n",
       "    </tr>\n",
       "  </thead>\n",
       "  <tbody>\n",
       "    <tr>\n",
       "      <th>0</th>\n",
       "      <td>29025780</td>\n",
       "      <td>6.77</td>\n",
       "    </tr>\n",
       "    <tr>\n",
       "      <th>1</th>\n",
       "      <td>31229488</td>\n",
       "      <td>2.34</td>\n",
       "    </tr>\n",
       "    <tr>\n",
       "      <th>2</th>\n",
       "      <td>33535391</td>\n",
       "      <td>22.53</td>\n",
       "    </tr>\n",
       "    <tr>\n",
       "      <th>3</th>\n",
       "      <td>33609704</td>\n",
       "      <td>5.08</td>\n",
       "    </tr>\n",
       "    <tr>\n",
       "      <th>4</th>\n",
       "      <td>34080306</td>\n",
       "      <td>2.72</td>\n",
       "    </tr>\n",
       "  </tbody>\n",
       "</table>\n",
       "</div>"
      ],
      "text/plain": [
       "    user_id  total_momentary\n",
       "0  29025780             6.77\n",
       "1  31229488             2.34\n",
       "2  33535391            22.53\n",
       "3  33609704             5.08\n",
       "4  34080306             2.72"
      ]
     },
     "execution_count": 84,
     "metadata": {},
     "output_type": "execute_result"
    }
   ],
   "source": [
    "monetary = purchase.groupby('user_id').price.sum().reset_index().rename(columns = {'price':'total_momentary'})\n",
    "monetary.head()"
   ]
  },
  {
   "cell_type": "code",
   "execution_count": 85,
   "metadata": {},
   "outputs": [],
   "source": [
    "rfm_data = pd.merge(recent_buy_time, buy_freq, on = 'user_id')"
   ]
  },
  {
   "cell_type": "code",
   "execution_count": 86,
   "metadata": {},
   "outputs": [],
   "source": [
    "rfm_data = pd.merge(rfm_data, monetary, on = 'user_id')"
   ]
  },
  {
   "cell_type": "code",
   "execution_count": 87,
   "metadata": {},
   "outputs": [
    {
     "data": {
      "text/html": [
       "<div>\n",
       "<style scoped>\n",
       "    .dataframe tbody tr th:only-of-type {\n",
       "        vertical-align: middle;\n",
       "    }\n",
       "\n",
       "    .dataframe tbody tr th {\n",
       "        vertical-align: top;\n",
       "    }\n",
       "\n",
       "    .dataframe thead th {\n",
       "        text-align: right;\n",
       "    }\n",
       "</style>\n",
       "<table border=\"1\" class=\"dataframe\">\n",
       "  <thead>\n",
       "    <tr style=\"text-align: right;\">\n",
       "      <th></th>\n",
       "      <th>user_id</th>\n",
       "      <th>recent_pur_time</th>\n",
       "      <th>gap</th>\n",
       "      <th>pur_freq</th>\n",
       "      <th>total_momentary</th>\n",
       "    </tr>\n",
       "  </thead>\n",
       "  <tbody>\n",
       "    <tr>\n",
       "      <th>0</th>\n",
       "      <td>29025780</td>\n",
       "      <td>2019-10-02 19:56:18</td>\n",
       "      <td>29</td>\n",
       "      <td>18</td>\n",
       "      <td>6.77</td>\n",
       "    </tr>\n",
       "    <tr>\n",
       "      <th>1</th>\n",
       "      <td>31229488</td>\n",
       "      <td>2019-10-03 12:24:58</td>\n",
       "      <td>28</td>\n",
       "      <td>4</td>\n",
       "      <td>2.34</td>\n",
       "    </tr>\n",
       "    <tr>\n",
       "      <th>2</th>\n",
       "      <td>33535391</td>\n",
       "      <td>2019-10-13 19:07:28</td>\n",
       "      <td>18</td>\n",
       "      <td>11</td>\n",
       "      <td>22.53</td>\n",
       "    </tr>\n",
       "    <tr>\n",
       "      <th>3</th>\n",
       "      <td>33609704</td>\n",
       "      <td>2019-10-15 07:55:05</td>\n",
       "      <td>16</td>\n",
       "      <td>9</td>\n",
       "      <td>5.08</td>\n",
       "    </tr>\n",
       "    <tr>\n",
       "      <th>4</th>\n",
       "      <td>34080306</td>\n",
       "      <td>2019-10-30 18:30:12</td>\n",
       "      <td>1</td>\n",
       "      <td>3</td>\n",
       "      <td>2.72</td>\n",
       "    </tr>\n",
       "  </tbody>\n",
       "</table>\n",
       "</div>"
      ],
      "text/plain": [
       "    user_id     recent_pur_time  gap  pur_freq  total_momentary\n",
       "0  29025780 2019-10-02 19:56:18   29        18             6.77\n",
       "1  31229488 2019-10-03 12:24:58   28         4             2.34\n",
       "2  33535391 2019-10-13 19:07:28   18        11            22.53\n",
       "3  33609704 2019-10-15 07:55:05   16         9             5.08\n",
       "4  34080306 2019-10-30 18:30:12    1         3             2.72"
      ]
     },
     "execution_count": 87,
     "metadata": {},
     "output_type": "execute_result"
    }
   ],
   "source": [
    "rfm_data.head()"
   ]
  },
  {
   "cell_type": "markdown",
   "metadata": {},
   "source": [
    "## give score to each users in RFM\n",
    "cut each data into to groups, better one is labeled 2. "
   ]
  },
  {
   "cell_type": "code",
   "execution_count": 88,
   "metadata": {},
   "outputs": [],
   "source": [
    "rfm_data['recent_value'] = pd.qcut(rfm_data.recent_pur_time, 2, labels = ['1','2'])\n",
    "rfm_data['freq_value'] = pd.qcut(rfm_data.pur_freq,2,labels = ['1','2'])\n",
    "rfm_data['mon_value'] = pd.qcut(rfm_data.total_momentary, 2, labels = ['1','2'])\n",
    "rfm_data['rfm'] = rfm_data['recent_value'].str.cat([rfm_data.freq_value,rfm_data.mon_value])"
   ]
  },
  {
   "cell_type": "code",
   "execution_count": 89,
   "metadata": {},
   "outputs": [
    {
     "data": {
      "text/html": [
       "<div>\n",
       "<style scoped>\n",
       "    .dataframe tbody tr th:only-of-type {\n",
       "        vertical-align: middle;\n",
       "    }\n",
       "\n",
       "    .dataframe tbody tr th {\n",
       "        vertical-align: top;\n",
       "    }\n",
       "\n",
       "    .dataframe thead th {\n",
       "        text-align: right;\n",
       "    }\n",
       "</style>\n",
       "<table border=\"1\" class=\"dataframe\">\n",
       "  <thead>\n",
       "    <tr style=\"text-align: right;\">\n",
       "      <th></th>\n",
       "      <th>user_id</th>\n",
       "      <th>recent_pur_time</th>\n",
       "      <th>gap</th>\n",
       "      <th>pur_freq</th>\n",
       "      <th>total_momentary</th>\n",
       "      <th>recent_value</th>\n",
       "      <th>freq_value</th>\n",
       "      <th>mon_value</th>\n",
       "      <th>rfm</th>\n",
       "    </tr>\n",
       "  </thead>\n",
       "  <tbody>\n",
       "    <tr>\n",
       "      <th>0</th>\n",
       "      <td>29025780</td>\n",
       "      <td>2019-10-02 19:56:18</td>\n",
       "      <td>29</td>\n",
       "      <td>18</td>\n",
       "      <td>6.77</td>\n",
       "      <td>1</td>\n",
       "      <td>2</td>\n",
       "      <td>2</td>\n",
       "      <td>122</td>\n",
       "    </tr>\n",
       "    <tr>\n",
       "      <th>1</th>\n",
       "      <td>31229488</td>\n",
       "      <td>2019-10-03 12:24:58</td>\n",
       "      <td>28</td>\n",
       "      <td>4</td>\n",
       "      <td>2.34</td>\n",
       "      <td>1</td>\n",
       "      <td>1</td>\n",
       "      <td>1</td>\n",
       "      <td>111</td>\n",
       "    </tr>\n",
       "    <tr>\n",
       "      <th>2</th>\n",
       "      <td>33535391</td>\n",
       "      <td>2019-10-13 19:07:28</td>\n",
       "      <td>18</td>\n",
       "      <td>11</td>\n",
       "      <td>22.53</td>\n",
       "      <td>1</td>\n",
       "      <td>2</td>\n",
       "      <td>2</td>\n",
       "      <td>122</td>\n",
       "    </tr>\n",
       "    <tr>\n",
       "      <th>3</th>\n",
       "      <td>33609704</td>\n",
       "      <td>2019-10-15 07:55:05</td>\n",
       "      <td>16</td>\n",
       "      <td>9</td>\n",
       "      <td>5.08</td>\n",
       "      <td>1</td>\n",
       "      <td>2</td>\n",
       "      <td>1</td>\n",
       "      <td>121</td>\n",
       "    </tr>\n",
       "    <tr>\n",
       "      <th>4</th>\n",
       "      <td>34080306</td>\n",
       "      <td>2019-10-30 18:30:12</td>\n",
       "      <td>1</td>\n",
       "      <td>3</td>\n",
       "      <td>2.72</td>\n",
       "      <td>2</td>\n",
       "      <td>1</td>\n",
       "      <td>1</td>\n",
       "      <td>211</td>\n",
       "    </tr>\n",
       "  </tbody>\n",
       "</table>\n",
       "</div>"
      ],
      "text/plain": [
       "    user_id     recent_pur_time  gap  pur_freq  total_momentary recent_value  \\\n",
       "0  29025780 2019-10-02 19:56:18   29        18             6.77            1   \n",
       "1  31229488 2019-10-03 12:24:58   28         4             2.34            1   \n",
       "2  33535391 2019-10-13 19:07:28   18        11            22.53            1   \n",
       "3  33609704 2019-10-15 07:55:05   16         9             5.08            1   \n",
       "4  34080306 2019-10-30 18:30:12    1         3             2.72            2   \n",
       "\n",
       "  freq_value mon_value  rfm  \n",
       "0          2         2  122  \n",
       "1          1         1  111  \n",
       "2          2         2  122  \n",
       "3          2         1  121  \n",
       "4          1         1  211  "
      ]
     },
     "execution_count": 89,
     "metadata": {},
     "output_type": "execute_result"
    }
   ],
   "source": [
    "rfm_data.head()"
   ]
  },
  {
   "cell_type": "code",
   "execution_count": 90,
   "metadata": {},
   "outputs": [],
   "source": [
    "rfm_summary = rfm_data.groupby('rfm').user_id.count().reset_index().rename(columns = {'user_id':'count'})"
   ]
  },
  {
   "cell_type": "code",
   "execution_count": 91,
   "metadata": {},
   "outputs": [
    {
     "data": {
      "text/html": [
       "<div>\n",
       "<style scoped>\n",
       "    .dataframe tbody tr th:only-of-type {\n",
       "        vertical-align: middle;\n",
       "    }\n",
       "\n",
       "    .dataframe tbody tr th {\n",
       "        vertical-align: top;\n",
       "    }\n",
       "\n",
       "    .dataframe thead th {\n",
       "        text-align: right;\n",
       "    }\n",
       "</style>\n",
       "<table border=\"1\" class=\"dataframe\">\n",
       "  <thead>\n",
       "    <tr style=\"text-align: right;\">\n",
       "      <th></th>\n",
       "      <th>rfm</th>\n",
       "      <th>count</th>\n",
       "    </tr>\n",
       "  </thead>\n",
       "  <tbody>\n",
       "    <tr>\n",
       "      <th>0</th>\n",
       "      <td>Small rare purchase</td>\n",
       "      <td>4931</td>\n",
       "    </tr>\n",
       "    <tr>\n",
       "      <th>1</th>\n",
       "      <td>High spend rare purchase</td>\n",
       "      <td>1667</td>\n",
       "    </tr>\n",
       "    <tr>\n",
       "      <th>2</th>\n",
       "      <td>Low occasion spending</td>\n",
       "      <td>1284</td>\n",
       "    </tr>\n",
       "    <tr>\n",
       "      <th>3</th>\n",
       "      <td>High occasion spending</td>\n",
       "      <td>4999</td>\n",
       "    </tr>\n",
       "    <tr>\n",
       "      <th>4</th>\n",
       "      <td>Low spend new customers</td>\n",
       "      <td>5270</td>\n",
       "    </tr>\n",
       "    <tr>\n",
       "      <th>5</th>\n",
       "      <td>High spend new customers</td>\n",
       "      <td>1697</td>\n",
       "    </tr>\n",
       "    <tr>\n",
       "      <th>6</th>\n",
       "      <td>Low spend active loyal customers</td>\n",
       "      <td>1409</td>\n",
       "    </tr>\n",
       "    <tr>\n",
       "      <th>7</th>\n",
       "      <td>Best customers</td>\n",
       "      <td>4505</td>\n",
       "    </tr>\n",
       "  </tbody>\n",
       "</table>\n",
       "</div>"
      ],
      "text/plain": [
       "                                rfm  count\n",
       "0               Small rare purchase   4931\n",
       "1          High spend rare purchase   1667\n",
       "2             Low occasion spending   1284\n",
       "3            High occasion spending   4999\n",
       "4           Low spend new customers   5270\n",
       "5          High spend new customers   1697\n",
       "6  Low spend active loyal customers   1409\n",
       "7                    Best customers   4505"
      ]
     },
     "execution_count": 91,
     "metadata": {},
     "output_type": "execute_result"
    }
   ],
   "source": [
    "rfm_label = {'111':\"Small rare purchase\",\n",
    "            \"112\":\"High spend rare purchase\",\n",
    "            \"121\":\"Low occasion spending\",\n",
    "            \"122\":\"High occasion spending\",\n",
    "            \"211\":\"Low spend new customers\",\n",
    "            \"212\":\"High spend new customers\",\n",
    "            \"221\":\"Low spend active loyal customers\",\n",
    "            \"222\":\"Best customers\"}\n",
    "rfm_summary.replace(rfm_label, inplace = True)\n",
    "rfm_summary"
   ]
  },
  {
   "cell_type": "code",
   "execution_count": 92,
   "metadata": {},
   "outputs": [
    {
     "data": {
      "text/html": [
       "<div>\n",
       "<style scoped>\n",
       "    .dataframe tbody tr th:only-of-type {\n",
       "        vertical-align: middle;\n",
       "    }\n",
       "\n",
       "    .dataframe tbody tr th {\n",
       "        vertical-align: top;\n",
       "    }\n",
       "\n",
       "    .dataframe thead th {\n",
       "        text-align: right;\n",
       "    }\n",
       "</style>\n",
       "<table border=\"1\" class=\"dataframe\">\n",
       "  <thead>\n",
       "    <tr style=\"text-align: right;\">\n",
       "      <th></th>\n",
       "      <th>amount</th>\n",
       "      <th>average_gap</th>\n",
       "      <th>average_pur_freq</th>\n",
       "      <th>average_momentary</th>\n",
       "    </tr>\n",
       "    <tr>\n",
       "      <th>rfm</th>\n",
       "      <th></th>\n",
       "      <th></th>\n",
       "      <th></th>\n",
       "      <th></th>\n",
       "    </tr>\n",
       "  </thead>\n",
       "  <tbody>\n",
       "    <tr>\n",
       "      <th>Best customers</th>\n",
       "      <td>4505</td>\n",
       "      <td>8.317203</td>\n",
       "      <td>17.592897</td>\n",
       "      <td>12.763614</td>\n",
       "    </tr>\n",
       "    <tr>\n",
       "      <th>High occasion spending</th>\n",
       "      <td>4999</td>\n",
       "      <td>23.631726</td>\n",
       "      <td>19.153631</td>\n",
       "      <td>14.244807</td>\n",
       "    </tr>\n",
       "    <tr>\n",
       "      <th>High spend new customers</th>\n",
       "      <td>1697</td>\n",
       "      <td>7.945787</td>\n",
       "      <td>3.705952</td>\n",
       "      <td>9.303359</td>\n",
       "    </tr>\n",
       "    <tr>\n",
       "      <th>High spend rare purchase</th>\n",
       "      <td>1667</td>\n",
       "      <td>23.388122</td>\n",
       "      <td>3.760048</td>\n",
       "      <td>9.241218</td>\n",
       "    </tr>\n",
       "    <tr>\n",
       "      <th>Low occasion spending</th>\n",
       "      <td>1284</td>\n",
       "      <td>23.616044</td>\n",
       "      <td>9.741433</td>\n",
       "      <td>3.654595</td>\n",
       "    </tr>\n",
       "    <tr>\n",
       "      <th>Low spend active loyal customers</th>\n",
       "      <td>1409</td>\n",
       "      <td>7.796309</td>\n",
       "      <td>9.695529</td>\n",
       "      <td>3.561214</td>\n",
       "    </tr>\n",
       "    <tr>\n",
       "      <th>Low spend new customers</th>\n",
       "      <td>5270</td>\n",
       "      <td>7.964516</td>\n",
       "      <td>3.105882</td>\n",
       "      <td>2.590281</td>\n",
       "    </tr>\n",
       "    <tr>\n",
       "      <th>Small rare purchase</th>\n",
       "      <td>4931</td>\n",
       "      <td>23.398499</td>\n",
       "      <td>3.148449</td>\n",
       "      <td>2.665774</td>\n",
       "    </tr>\n",
       "  </tbody>\n",
       "</table>\n",
       "</div>"
      ],
      "text/plain": [
       "                                  amount  average_gap  average_pur_freq  \\\n",
       "rfm                                                                       \n",
       "Best customers                      4505     8.317203         17.592897   \n",
       "High occasion spending              4999    23.631726         19.153631   \n",
       "High spend new customers            1697     7.945787          3.705952   \n",
       "High spend rare purchase            1667    23.388122          3.760048   \n",
       "Low occasion spending               1284    23.616044          9.741433   \n",
       "Low spend active loyal customers    1409     7.796309          9.695529   \n",
       "Low spend new customers             5270     7.964516          3.105882   \n",
       "Small rare purchase                 4931    23.398499          3.148449   \n",
       "\n",
       "                                  average_momentary  \n",
       "rfm                                                  \n",
       "Best customers                            12.763614  \n",
       "High occasion spending                    14.244807  \n",
       "High spend new customers                   9.303359  \n",
       "High spend rare purchase                   9.241218  \n",
       "Low occasion spending                      3.654595  \n",
       "Low spend active loyal customers           3.561214  \n",
       "Low spend new customers                    2.590281  \n",
       "Small rare purchase                        2.665774  "
      ]
     },
     "execution_count": 92,
     "metadata": {},
     "output_type": "execute_result"
    }
   ],
   "source": [
    "rfm_data.rfm.replace(rfm_label, inplace = True)\n",
    "rfm_summary = rfm_data.groupby('rfm').agg({\"user_id\":\"count\",\n",
    "                                           \"gap\":\"mean\",\n",
    "                             \"pur_freq\":\"mean\",\n",
    "                             \"total_momentary\":\"mean\"}).rename(columns = {\"user_id\":\"amount\",\n",
    "                                                                         \"pur_freq\":\"average_pur_freq\",\n",
    "                                                                         \"total_momentary\":\"average_momentary\",\n",
    "                                                                         \"gap\":\"average_gap\"})\n",
    "rfm_summary"
   ]
  },
  {
   "cell_type": "markdown",
   "metadata": {},
   "source": [
    "## RFM - score scale 1-5 version"
   ]
  },
  {
   "cell_type": "code",
   "execution_count": 93,
   "metadata": {},
   "outputs": [],
   "source": [
    "rfm_data5 = pd.merge(recent_buy_time, buy_freq, on = 'user_id')\n",
    "rfm_data5 = pd.merge(rfm_data5, monetary, on = 'user_id')"
   ]
  },
  {
   "cell_type": "code",
   "execution_count": 94,
   "metadata": {},
   "outputs": [
    {
     "data": {
      "text/html": [
       "<div>\n",
       "<style scoped>\n",
       "    .dataframe tbody tr th:only-of-type {\n",
       "        vertical-align: middle;\n",
       "    }\n",
       "\n",
       "    .dataframe tbody tr th {\n",
       "        vertical-align: top;\n",
       "    }\n",
       "\n",
       "    .dataframe thead th {\n",
       "        text-align: right;\n",
       "    }\n",
       "</style>\n",
       "<table border=\"1\" class=\"dataframe\">\n",
       "  <thead>\n",
       "    <tr style=\"text-align: right;\">\n",
       "      <th></th>\n",
       "      <th>user_id</th>\n",
       "      <th>recent_pur_time</th>\n",
       "      <th>gap</th>\n",
       "      <th>pur_freq</th>\n",
       "      <th>total_momentary</th>\n",
       "      <th>recent_value</th>\n",
       "      <th>freq_value</th>\n",
       "      <th>mon_value</th>\n",
       "      <th>rfm</th>\n",
       "      <th>fm</th>\n",
       "    </tr>\n",
       "  </thead>\n",
       "  <tbody>\n",
       "    <tr>\n",
       "      <th>0</th>\n",
       "      <td>29025780</td>\n",
       "      <td>2019-10-02 19:56:18</td>\n",
       "      <td>29</td>\n",
       "      <td>18</td>\n",
       "      <td>6.77</td>\n",
       "      <td>1</td>\n",
       "      <td>5</td>\n",
       "      <td>4</td>\n",
       "      <td>154</td>\n",
       "      <td>4.5</td>\n",
       "    </tr>\n",
       "    <tr>\n",
       "      <th>1</th>\n",
       "      <td>31229488</td>\n",
       "      <td>2019-10-03 12:24:58</td>\n",
       "      <td>28</td>\n",
       "      <td>4</td>\n",
       "      <td>2.34</td>\n",
       "      <td>1</td>\n",
       "      <td>2</td>\n",
       "      <td>2</td>\n",
       "      <td>122</td>\n",
       "      <td>2.0</td>\n",
       "    </tr>\n",
       "    <tr>\n",
       "      <th>2</th>\n",
       "      <td>33535391</td>\n",
       "      <td>2019-10-13 19:07:28</td>\n",
       "      <td>18</td>\n",
       "      <td>11</td>\n",
       "      <td>22.53</td>\n",
       "      <td>3</td>\n",
       "      <td>4</td>\n",
       "      <td>5</td>\n",
       "      <td>345</td>\n",
       "      <td>4.5</td>\n",
       "    </tr>\n",
       "    <tr>\n",
       "      <th>3</th>\n",
       "      <td>33609704</td>\n",
       "      <td>2019-10-15 07:55:05</td>\n",
       "      <td>16</td>\n",
       "      <td>9</td>\n",
       "      <td>5.08</td>\n",
       "      <td>3</td>\n",
       "      <td>4</td>\n",
       "      <td>3</td>\n",
       "      <td>343</td>\n",
       "      <td>3.5</td>\n",
       "    </tr>\n",
       "    <tr>\n",
       "      <th>4</th>\n",
       "      <td>34080306</td>\n",
       "      <td>2019-10-30 18:30:12</td>\n",
       "      <td>1</td>\n",
       "      <td>3</td>\n",
       "      <td>2.72</td>\n",
       "      <td>5</td>\n",
       "      <td>1</td>\n",
       "      <td>2</td>\n",
       "      <td>512</td>\n",
       "      <td>1.5</td>\n",
       "    </tr>\n",
       "  </tbody>\n",
       "</table>\n",
       "</div>"
      ],
      "text/plain": [
       "    user_id     recent_pur_time  gap  pur_freq  total_momentary  recent_value  \\\n",
       "0  29025780 2019-10-02 19:56:18   29        18             6.77             1   \n",
       "1  31229488 2019-10-03 12:24:58   28         4             2.34             1   \n",
       "2  33535391 2019-10-13 19:07:28   18        11            22.53             3   \n",
       "3  33609704 2019-10-15 07:55:05   16         9             5.08             3   \n",
       "4  34080306 2019-10-30 18:30:12    1         3             2.72             5   \n",
       "\n",
       "   freq_value  mon_value  rfm   fm  \n",
       "0           5          4  154  4.5  \n",
       "1           2          2  122  2.0  \n",
       "2           4          5  345  4.5  \n",
       "3           4          3  343  3.5  \n",
       "4           1          2  512  1.5  "
      ]
     },
     "execution_count": 94,
     "metadata": {},
     "output_type": "execute_result"
    }
   ],
   "source": [
    "rfm_data5['recent_value'] = pd.qcut(rfm_data5.recent_pur_time, 5, \n",
    "                                    labels = ['1',\"2\",\"3\",\"4\",\"5\"])\n",
    "rfm_data5['freq_value'] = pd.qcut(rfm_data5.pur_freq,5,\n",
    "                                 labels = ['1',\"2\",\"3\",\"4\",\"5\"])\n",
    "rfm_data5['mon_value'] = pd.qcut(rfm_data5.total_momentary, 5, \n",
    "                                labels = ['1',\"2\",\"3\",\"4\",\"5\"])\n",
    "rfm_data5['rfm'] = rfm_data5['recent_value'].str.cat([rfm_data5.freq_value,rfm_data5.mon_value])\n",
    "rfm_data5['recent_value'] = pd.to_numeric(rfm_data5['recent_value'])\n",
    "rfm_data5['mon_value'] = pd.to_numeric(rfm_data5['mon_value'])\n",
    "rfm_data5['freq_value'] = pd.to_numeric(rfm_data5['freq_value'])\n",
    "rfm_data5['fm'] = (rfm_data5['mon_value']+rfm_data5['freq_value'] )/2\n",
    "rfm_data5.head()"
   ]
  },
  {
   "cell_type": "markdown",
   "metadata": {},
   "source": [
    "Define and calculate the customer segments:"
   ]
  },
  {
   "cell_type": "code",
   "execution_count": 95,
   "metadata": {
    "code_folding": [
     1
    ]
   },
   "outputs": [],
   "source": [
    "#use function to define the customer segment\n",
    "def rfm_segment(r, fm):\n",
    "    if fm <= 1:\n",
    "        if r <=2:\n",
    "            return \"Lost\"\n",
    "        elif r <=3:\n",
    "            return \"About to Sleep\"\n",
    "        elif r <=4:\n",
    "            return \"Promising\"\n",
    "        else:\n",
    "            return \"New Customers\"\n",
    "    elif fm <=2:\n",
    "        if r<=1:\n",
    "            return \"Lost\"\n",
    "        elif r<=2:\n",
    "            return \"Hibernating\"\n",
    "        elif r<=3:\n",
    "            return \"About to Sleep\"\n",
    "        else:\n",
    "            return \"Potential Loyalist\"\n",
    "    elif fm<=3:\n",
    "        if r <= 2:\n",
    "            return \"At Risk\"\n",
    "        elif r <=3:\n",
    "            return \"Need Attention\"\n",
    "        else:\n",
    "            return \"Potential Loyalist\"\n",
    "    elif fm<=4:\n",
    "        if r <=2:\n",
    "            return \"At Risk\"\n",
    "        else:\n",
    "            return \"Loyal Customers\"\n",
    "    else:\n",
    "        if r <= 1:\n",
    "            return \"Can't Lose Them\"\n",
    "        elif r <= 2:\n",
    "            return \"At Risk\"\n",
    "        elif r <=4:\n",
    "            return \"Loyal Customers\"\n",
    "        else:\n",
    "            return \"Champions\""
   ]
  },
  {
   "cell_type": "code",
   "execution_count": 96,
   "metadata": {},
   "outputs": [
    {
     "data": {
      "text/html": [
       "<div>\n",
       "<style scoped>\n",
       "    .dataframe tbody tr th:only-of-type {\n",
       "        vertical-align: middle;\n",
       "    }\n",
       "\n",
       "    .dataframe tbody tr th {\n",
       "        vertical-align: top;\n",
       "    }\n",
       "\n",
       "    .dataframe thead th {\n",
       "        text-align: right;\n",
       "    }\n",
       "</style>\n",
       "<table border=\"1\" class=\"dataframe\">\n",
       "  <thead>\n",
       "    <tr style=\"text-align: right;\">\n",
       "      <th></th>\n",
       "      <th>user_id</th>\n",
       "      <th>recent_pur_time</th>\n",
       "      <th>gap</th>\n",
       "      <th>pur_freq</th>\n",
       "      <th>total_momentary</th>\n",
       "      <th>recent_value</th>\n",
       "      <th>freq_value</th>\n",
       "      <th>mon_value</th>\n",
       "      <th>rfm</th>\n",
       "      <th>fm</th>\n",
       "      <th>segment</th>\n",
       "    </tr>\n",
       "  </thead>\n",
       "  <tbody>\n",
       "    <tr>\n",
       "      <th>0</th>\n",
       "      <td>29025780</td>\n",
       "      <td>2019-10-02 19:56:18</td>\n",
       "      <td>29</td>\n",
       "      <td>18</td>\n",
       "      <td>6.77</td>\n",
       "      <td>1</td>\n",
       "      <td>5</td>\n",
       "      <td>4</td>\n",
       "      <td>154</td>\n",
       "      <td>4.5</td>\n",
       "      <td>Can't Lose Them</td>\n",
       "    </tr>\n",
       "    <tr>\n",
       "      <th>1</th>\n",
       "      <td>31229488</td>\n",
       "      <td>2019-10-03 12:24:58</td>\n",
       "      <td>28</td>\n",
       "      <td>4</td>\n",
       "      <td>2.34</td>\n",
       "      <td>1</td>\n",
       "      <td>2</td>\n",
       "      <td>2</td>\n",
       "      <td>122</td>\n",
       "      <td>2.0</td>\n",
       "      <td>Lost</td>\n",
       "    </tr>\n",
       "    <tr>\n",
       "      <th>2</th>\n",
       "      <td>33535391</td>\n",
       "      <td>2019-10-13 19:07:28</td>\n",
       "      <td>18</td>\n",
       "      <td>11</td>\n",
       "      <td>22.53</td>\n",
       "      <td>3</td>\n",
       "      <td>4</td>\n",
       "      <td>5</td>\n",
       "      <td>345</td>\n",
       "      <td>4.5</td>\n",
       "      <td>Loyal Customers</td>\n",
       "    </tr>\n",
       "    <tr>\n",
       "      <th>3</th>\n",
       "      <td>33609704</td>\n",
       "      <td>2019-10-15 07:55:05</td>\n",
       "      <td>16</td>\n",
       "      <td>9</td>\n",
       "      <td>5.08</td>\n",
       "      <td>3</td>\n",
       "      <td>4</td>\n",
       "      <td>3</td>\n",
       "      <td>343</td>\n",
       "      <td>3.5</td>\n",
       "      <td>Loyal Customers</td>\n",
       "    </tr>\n",
       "    <tr>\n",
       "      <th>4</th>\n",
       "      <td>34080306</td>\n",
       "      <td>2019-10-30 18:30:12</td>\n",
       "      <td>1</td>\n",
       "      <td>3</td>\n",
       "      <td>2.72</td>\n",
       "      <td>5</td>\n",
       "      <td>1</td>\n",
       "      <td>2</td>\n",
       "      <td>512</td>\n",
       "      <td>1.5</td>\n",
       "      <td>Potential Loyalist</td>\n",
       "    </tr>\n",
       "  </tbody>\n",
       "</table>\n",
       "</div>"
      ],
      "text/plain": [
       "    user_id     recent_pur_time  gap  pur_freq  total_momentary  recent_value  \\\n",
       "0  29025780 2019-10-02 19:56:18   29        18             6.77             1   \n",
       "1  31229488 2019-10-03 12:24:58   28         4             2.34             1   \n",
       "2  33535391 2019-10-13 19:07:28   18        11            22.53             3   \n",
       "3  33609704 2019-10-15 07:55:05   16         9             5.08             3   \n",
       "4  34080306 2019-10-30 18:30:12    1         3             2.72             5   \n",
       "\n",
       "   freq_value  mon_value  rfm   fm             segment  \n",
       "0           5          4  154  4.5     Can't Lose Them  \n",
       "1           2          2  122  2.0                Lost  \n",
       "2           4          5  345  4.5     Loyal Customers  \n",
       "3           4          3  343  3.5     Loyal Customers  \n",
       "4           1          2  512  1.5  Potential Loyalist  "
      ]
     },
     "execution_count": 96,
     "metadata": {},
     "output_type": "execute_result"
    }
   ],
   "source": [
    "x = []\n",
    "for r, fm in zip (rfm_data5.recent_value, rfm_data5.fm):\n",
    "    x.append(rfm_segment(r, fm))\n",
    "rfm_data5['segment'] = x\n",
    "rfm_data5.head()"
   ]
  },
  {
   "cell_type": "code",
   "execution_count": 97,
   "metadata": {},
   "outputs": [
    {
     "data": {
      "text/html": [
       "<div>\n",
       "<style scoped>\n",
       "    .dataframe tbody tr th:only-of-type {\n",
       "        vertical-align: middle;\n",
       "    }\n",
       "\n",
       "    .dataframe tbody tr th {\n",
       "        vertical-align: top;\n",
       "    }\n",
       "\n",
       "    .dataframe thead th {\n",
       "        text-align: right;\n",
       "    }\n",
       "</style>\n",
       "<table border=\"1\" class=\"dataframe\">\n",
       "  <thead>\n",
       "    <tr style=\"text-align: right;\">\n",
       "      <th></th>\n",
       "      <th>user_id</th>\n",
       "      <th>total_momentary</th>\n",
       "      <th>pur_freq</th>\n",
       "      <th>gap</th>\n",
       "    </tr>\n",
       "    <tr>\n",
       "      <th>segment</th>\n",
       "      <th></th>\n",
       "      <th></th>\n",
       "      <th></th>\n",
       "      <th></th>\n",
       "    </tr>\n",
       "  </thead>\n",
       "  <tbody>\n",
       "    <tr>\n",
       "      <th>About to Sleep</th>\n",
       "      <td>1910</td>\n",
       "      <td>2.556869</td>\n",
       "      <td>2.902094</td>\n",
       "      <td>16.098429</td>\n",
       "    </tr>\n",
       "    <tr>\n",
       "      <th>At Risk</th>\n",
       "      <td>5423</td>\n",
       "      <td>9.338414</td>\n",
       "      <td>11.400885</td>\n",
       "      <td>24.344274</td>\n",
       "    </tr>\n",
       "    <tr>\n",
       "      <th>Can't Lose Them</th>\n",
       "      <td>1290</td>\n",
       "      <td>19.832132</td>\n",
       "      <td>26.839535</td>\n",
       "      <td>27.933333</td>\n",
       "    </tr>\n",
       "    <tr>\n",
       "      <th>Champions</th>\n",
       "      <td>920</td>\n",
       "      <td>16.192587</td>\n",
       "      <td>23.189130</td>\n",
       "      <td>2.934783</td>\n",
       "    </tr>\n",
       "    <tr>\n",
       "      <th>Hibernating</th>\n",
       "      <td>1220</td>\n",
       "      <td>3.065705</td>\n",
       "      <td>3.432787</td>\n",
       "      <td>22.140164</td>\n",
       "    </tr>\n",
       "    <tr>\n",
       "      <th>Lost</th>\n",
       "      <td>2372</td>\n",
       "      <td>2.283141</td>\n",
       "      <td>2.646290</td>\n",
       "      <td>26.382799</td>\n",
       "    </tr>\n",
       "    <tr>\n",
       "      <th>Loyal Customers</th>\n",
       "      <td>5156</td>\n",
       "      <td>11.753156</td>\n",
       "      <td>15.581265</td>\n",
       "      <td>11.090186</td>\n",
       "    </tr>\n",
       "    <tr>\n",
       "      <th>Need Attention</th>\n",
       "      <td>1129</td>\n",
       "      <td>5.855536</td>\n",
       "      <td>5.701506</td>\n",
       "      <td>16.110717</td>\n",
       "    </tr>\n",
       "    <tr>\n",
       "      <th>New Customers</th>\n",
       "      <td>761</td>\n",
       "      <td>1.587792</td>\n",
       "      <td>1.963206</td>\n",
       "      <td>3.067017</td>\n",
       "    </tr>\n",
       "    <tr>\n",
       "      <th>Potential Loyalist</th>\n",
       "      <td>4848</td>\n",
       "      <td>4.460840</td>\n",
       "      <td>4.562500</td>\n",
       "      <td>6.351279</td>\n",
       "    </tr>\n",
       "    <tr>\n",
       "      <th>Promising</th>\n",
       "      <td>733</td>\n",
       "      <td>1.639659</td>\n",
       "      <td>1.971351</td>\n",
       "      <td>9.751705</td>\n",
       "    </tr>\n",
       "  </tbody>\n",
       "</table>\n",
       "</div>"
      ],
      "text/plain": [
       "                    user_id  total_momentary   pur_freq        gap\n",
       "segment                                                           \n",
       "About to Sleep         1910         2.556869   2.902094  16.098429\n",
       "At Risk                5423         9.338414  11.400885  24.344274\n",
       "Can't Lose Them        1290        19.832132  26.839535  27.933333\n",
       "Champions               920        16.192587  23.189130   2.934783\n",
       "Hibernating            1220         3.065705   3.432787  22.140164\n",
       "Lost                   2372         2.283141   2.646290  26.382799\n",
       "Loyal Customers        5156        11.753156  15.581265  11.090186\n",
       "Need Attention         1129         5.855536   5.701506  16.110717\n",
       "New Customers           761         1.587792   1.963206   3.067017\n",
       "Potential Loyalist     4848         4.460840   4.562500   6.351279\n",
       "Promising               733         1.639659   1.971351   9.751705"
      ]
     },
     "execution_count": 97,
     "metadata": {},
     "output_type": "execute_result"
    }
   ],
   "source": [
    "customer_segment = rfm_data5.groupby('segment').agg({\"user_id\":\"count\",\n",
    "                                                    \"total_momentary\":\"mean\",\n",
    "                                                    \"pur_freq\":\"mean\",\n",
    "                                                    \"gap\":\"mean\"})\n",
    "customer_segment"
   ]
  },
  {
   "cell_type": "code",
   "execution_count": 98,
   "metadata": {},
   "outputs": [
    {
     "data": {
      "text/html": [
       "<div>\n",
       "<style scoped>\n",
       "    .dataframe tbody tr th:only-of-type {\n",
       "        vertical-align: middle;\n",
       "    }\n",
       "\n",
       "    .dataframe tbody tr th {\n",
       "        vertical-align: top;\n",
       "    }\n",
       "\n",
       "    .dataframe thead th {\n",
       "        text-align: right;\n",
       "    }\n",
       "</style>\n",
       "<table border=\"1\" class=\"dataframe\">\n",
       "  <thead>\n",
       "    <tr style=\"text-align: right;\">\n",
       "      <th></th>\n",
       "      <th>user_id</th>\n",
       "      <th>total_momentary</th>\n",
       "      <th>pur_freq</th>\n",
       "      <th>gap</th>\n",
       "      <th>percent</th>\n",
       "    </tr>\n",
       "    <tr>\n",
       "      <th>segment</th>\n",
       "      <th></th>\n",
       "      <th></th>\n",
       "      <th></th>\n",
       "      <th></th>\n",
       "      <th></th>\n",
       "    </tr>\n",
       "  </thead>\n",
       "  <tbody>\n",
       "    <tr>\n",
       "      <th>About to Sleep</th>\n",
       "      <td>1910</td>\n",
       "      <td>2.556869</td>\n",
       "      <td>2.902094</td>\n",
       "      <td>16.098429</td>\n",
       "      <td>0.074140</td>\n",
       "    </tr>\n",
       "    <tr>\n",
       "      <th>At Risk</th>\n",
       "      <td>5423</td>\n",
       "      <td>9.338414</td>\n",
       "      <td>11.400885</td>\n",
       "      <td>24.344274</td>\n",
       "      <td>0.210504</td>\n",
       "    </tr>\n",
       "    <tr>\n",
       "      <th>Can't Lose Them</th>\n",
       "      <td>1290</td>\n",
       "      <td>19.832132</td>\n",
       "      <td>26.839535</td>\n",
       "      <td>27.933333</td>\n",
       "      <td>0.050074</td>\n",
       "    </tr>\n",
       "    <tr>\n",
       "      <th>Champions</th>\n",
       "      <td>920</td>\n",
       "      <td>16.192587</td>\n",
       "      <td>23.189130</td>\n",
       "      <td>2.934783</td>\n",
       "      <td>0.035712</td>\n",
       "    </tr>\n",
       "    <tr>\n",
       "      <th>Hibernating</th>\n",
       "      <td>1220</td>\n",
       "      <td>3.065705</td>\n",
       "      <td>3.432787</td>\n",
       "      <td>22.140164</td>\n",
       "      <td>0.047357</td>\n",
       "    </tr>\n",
       "    <tr>\n",
       "      <th>Lost</th>\n",
       "      <td>2372</td>\n",
       "      <td>2.283141</td>\n",
       "      <td>2.646290</td>\n",
       "      <td>26.382799</td>\n",
       "      <td>0.092074</td>\n",
       "    </tr>\n",
       "    <tr>\n",
       "      <th>Loyal Customers</th>\n",
       "      <td>5156</td>\n",
       "      <td>11.753156</td>\n",
       "      <td>15.581265</td>\n",
       "      <td>11.090186</td>\n",
       "      <td>0.200140</td>\n",
       "    </tr>\n",
       "    <tr>\n",
       "      <th>Need Attention</th>\n",
       "      <td>1129</td>\n",
       "      <td>5.855536</td>\n",
       "      <td>5.701506</td>\n",
       "      <td>16.110717</td>\n",
       "      <td>0.043824</td>\n",
       "    </tr>\n",
       "    <tr>\n",
       "      <th>New Customers</th>\n",
       "      <td>761</td>\n",
       "      <td>1.587792</td>\n",
       "      <td>1.963206</td>\n",
       "      <td>3.067017</td>\n",
       "      <td>0.029540</td>\n",
       "    </tr>\n",
       "    <tr>\n",
       "      <th>Potential Loyalist</th>\n",
       "      <td>4848</td>\n",
       "      <td>4.460840</td>\n",
       "      <td>4.562500</td>\n",
       "      <td>6.351279</td>\n",
       "      <td>0.188184</td>\n",
       "    </tr>\n",
       "    <tr>\n",
       "      <th>Promising</th>\n",
       "      <td>733</td>\n",
       "      <td>1.639659</td>\n",
       "      <td>1.971351</td>\n",
       "      <td>9.751705</td>\n",
       "      <td>0.028453</td>\n",
       "    </tr>\n",
       "  </tbody>\n",
       "</table>\n",
       "</div>"
      ],
      "text/plain": [
       "                    user_id  total_momentary   pur_freq        gap   percent\n",
       "segment                                                                     \n",
       "About to Sleep         1910         2.556869   2.902094  16.098429  0.074140\n",
       "At Risk                5423         9.338414  11.400885  24.344274  0.210504\n",
       "Can't Lose Them        1290        19.832132  26.839535  27.933333  0.050074\n",
       "Champions               920        16.192587  23.189130   2.934783  0.035712\n",
       "Hibernating            1220         3.065705   3.432787  22.140164  0.047357\n",
       "Lost                   2372         2.283141   2.646290  26.382799  0.092074\n",
       "Loyal Customers        5156        11.753156  15.581265  11.090186  0.200140\n",
       "Need Attention         1129         5.855536   5.701506  16.110717  0.043824\n",
       "New Customers           761         1.587792   1.963206   3.067017  0.029540\n",
       "Potential Loyalist     4848         4.460840   4.562500   6.351279  0.188184\n",
       "Promising               733         1.639659   1.971351   9.751705  0.028453"
      ]
     },
     "execution_count": 98,
     "metadata": {},
     "output_type": "execute_result"
    }
   ],
   "source": [
    "#add segment percent:\n",
    "customer_segment['percent'] = customer_segment.user_id.agg(lambda x: x/x.sum())\n",
    "customer_segment"
   ]
  },
  {
   "cell_type": "code",
   "execution_count": 99,
   "metadata": {},
   "outputs": [
    {
     "data": {
      "image/png": "[encoded data removed]",
      "text/plain": [
       "<Figure size 720x576 with 1 Axes>"
      ]
     },
     "metadata": {},
     "output_type": "display_data"
    }
   ],
   "source": [
    "fig = plt.figure(figsize = (10,8))\n",
    "ax = fig.add_subplot()\n",
    "sns.set(style = \"white\", palette = \"pastel\")\n",
    "plt.barh(range(len(customer_segment)),customer_segment.user_id)\n",
    "plt.yticks(range(len(customer_segment)), labels = customer_segment.index)\n",
    "plt.grid(linestyle = '--', alpha = 0.6)\n",
    "plt.xlabel('Amount of Customers', fontsize =15)\n",
    "plt.title('Amount of Customers in Each Segment', fontsize = 18)\n",
    "ax.spines['top'].set_visible(False)\n",
    "ax.spines['right'].set_visible(False)\n",
    "#plt.savefig(\"6.3 Amount of Customer in each segment.png\")"
   ]
  },
  {
   "cell_type": "code",
   "execution_count": null,
   "metadata": {},
   "outputs": [],
   "source": []
  }
 ],
 "metadata": {
  "kernelspec": {
   "display_name": "Python 3",
   "language": "python",
   "name": "python3"
  },
  "language_info": {
   "codemirror_mode": {
    "name": "ipython",
    "version": 3
   },
   "file_extension": ".py",
   "mimetype": "text/x-python",
   "name": "python",
   "nbconvert_exporter": "python",
   "pygments_lexer": "ipython3",
   "version": "3.7.4"
  },
  "toc": {
   "base_numbering": 1,
   "nav_menu": {},
   "number_sections": true,
   "sideBar": true,
   "skip_h1_title": false,
   "title_cell": "Table of Contents",
   "title_sidebar": "Contents",
   "toc_cell": false,
   "toc_position": {},
   "toc_section_display": true,
   "toc_window_display": false
  }
 },
 "nbformat": 4,
 "nbformat_minor": 2
}
