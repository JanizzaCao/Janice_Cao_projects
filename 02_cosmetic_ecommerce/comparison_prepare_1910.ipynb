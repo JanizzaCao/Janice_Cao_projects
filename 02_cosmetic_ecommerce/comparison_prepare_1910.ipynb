{
 "cells": [
  {
   "cell_type": "markdown",
   "metadata": {},
   "source": [
    "Dataset: https://www.kaggle.com/mkechinov/ecommerce-events-history-in-cosmetics-shop\n",
    "# understanding information"
   ]
  },
  {
   "cell_type": "code",
   "execution_count": 1,
   "metadata": {},
   "outputs": [],
   "source": [
    "import pandas as pd\n",
    "import numpy as np\n",
    "import matplotlib.pyplot as plt\n",
    "import seaborn as sns\n",
    "from scipy import stats\n",
    "%matplotlib inline\n",
    "path = '../2019-Oct.csv'"
   ]
  },
  {
   "cell_type": "code",
   "execution_count": 143,
   "metadata": {},
   "outputs": [],
   "source": [
    "writer = pd.ExcelWriter(\"1910data_summary.xlsx\")"
   ]
  },
  {
   "cell_type": "code",
   "execution_count": 4,
   "metadata": {},
   "outputs": [],
   "source": [
    "df = pd.read_csv(path)"
   ]
  },
  {
   "cell_type": "code",
   "execution_count": 119,
   "metadata": {},
   "outputs": [
    {
     "name": "stdout",
     "output_type": "stream",
     "text": [
      "<class 'pandas.core.frame.DataFrame'>\n",
      "RangeIndex: 4102283 entries, 0 to 4102282\n",
      "Data columns (total 15 columns):\n",
      " #   Column         Dtype         \n",
      "---  ------         -----         \n",
      " 0   event_time     object        \n",
      " 1   event_type     object        \n",
      " 2   product_id     int64         \n",
      " 3   category_id    int64         \n",
      " 4   category_code  object        \n",
      " 5   brand          object        \n",
      " 6   price          float64       \n",
      " 7   user_id        int64         \n",
      " 8   user_session   object        \n",
      " 9   time_zoneless  datetime64[ns]\n",
      " 10  date           datetime64[ns]\n",
      " 11  time           object        \n",
      " 12  hour           int64         \n",
      " 13  minute         int64         \n",
      " 14  second         int64         \n",
      "dtypes: datetime64[ns](2), float64(1), int64(6), object(6)\n",
      "memory usage: 469.5+ MB\n"
     ]
    }
   ],
   "source": [
    "df.info()"
   ]
  },
  {
   "cell_type": "markdown",
   "metadata": {},
   "source": [
    "## transfer event_time to datetime\n",
    "为后续按日期、小时处理数据，先将时间数据列转为datetime数据格式，并新增时分秒列"
   ]
  },
  {
   "cell_type": "code",
   "execution_count": 6,
   "metadata": {},
   "outputs": [],
   "source": [
    "import re\n",
    "#split date and time\n",
    "df['time_zoneless'] = df.event_time.str[:-3]\n",
    "df['date'] = df.time_zoneless.map(lambda x: re.compile(' ').split(x)[0])\n",
    "df['time'] = df.time_zoneless.map(lambda x: re.compile(' ').split(x)[1])\n",
    "df.time_zoneless = pd.to_datetime(df['time_zoneless'])\n",
    "df.date = pd.to_datetime(df['date'])"
   ]
  },
  {
   "cell_type": "code",
   "execution_count": 7,
   "metadata": {
    "scrolled": true
   },
   "outputs": [
    {
     "data": {
      "text/html": [
       "<div>\n",
       "<style scoped>\n",
       "    .dataframe tbody tr th:only-of-type {\n",
       "        vertical-align: middle;\n",
       "    }\n",
       "\n",
       "    .dataframe tbody tr th {\n",
       "        vertical-align: top;\n",
       "    }\n",
       "\n",
       "    .dataframe thead th {\n",
       "        text-align: right;\n",
       "    }\n",
       "</style>\n",
       "<table border=\"1\" class=\"dataframe\">\n",
       "  <thead>\n",
       "    <tr style=\"text-align: right;\">\n",
       "      <th></th>\n",
       "      <th>event_time</th>\n",
       "      <th>event_type</th>\n",
       "      <th>product_id</th>\n",
       "      <th>category_id</th>\n",
       "      <th>category_code</th>\n",
       "      <th>brand</th>\n",
       "      <th>price</th>\n",
       "      <th>user_id</th>\n",
       "      <th>user_session</th>\n",
       "      <th>time_zoneless</th>\n",
       "      <th>date</th>\n",
       "      <th>time</th>\n",
       "      <th>hour</th>\n",
       "      <th>minute</th>\n",
       "      <th>second</th>\n",
       "    </tr>\n",
       "  </thead>\n",
       "  <tbody>\n",
       "    <tr>\n",
       "      <th>0</th>\n",
       "      <td>2019-10-01 00:00:00 UTC</td>\n",
       "      <td>cart</td>\n",
       "      <td>5773203</td>\n",
       "      <td>1487580005134238553</td>\n",
       "      <td>NaN</td>\n",
       "      <td>runail</td>\n",
       "      <td>2.62</td>\n",
       "      <td>463240011</td>\n",
       "      <td>26dd6e6e-4dac-4778-8d2c-92e149dab885</td>\n",
       "      <td>2019-10-01 00:00:00</td>\n",
       "      <td>2019-10-01</td>\n",
       "      <td>00:00:00</td>\n",
       "      <td>0</td>\n",
       "      <td>0</td>\n",
       "      <td>0</td>\n",
       "    </tr>\n",
       "    <tr>\n",
       "      <th>1</th>\n",
       "      <td>2019-10-01 00:00:03 UTC</td>\n",
       "      <td>cart</td>\n",
       "      <td>5773353</td>\n",
       "      <td>1487580005134238553</td>\n",
       "      <td>NaN</td>\n",
       "      <td>runail</td>\n",
       "      <td>2.62</td>\n",
       "      <td>463240011</td>\n",
       "      <td>26dd6e6e-4dac-4778-8d2c-92e149dab885</td>\n",
       "      <td>2019-10-01 00:00:03</td>\n",
       "      <td>2019-10-01</td>\n",
       "      <td>00:00:03</td>\n",
       "      <td>0</td>\n",
       "      <td>0</td>\n",
       "      <td>3</td>\n",
       "    </tr>\n",
       "    <tr>\n",
       "      <th>2</th>\n",
       "      <td>2019-10-01 00:00:07 UTC</td>\n",
       "      <td>cart</td>\n",
       "      <td>5881589</td>\n",
       "      <td>2151191071051219817</td>\n",
       "      <td>NaN</td>\n",
       "      <td>lovely</td>\n",
       "      <td>13.48</td>\n",
       "      <td>429681830</td>\n",
       "      <td>49e8d843-adf3-428b-a2c3-fe8bc6a307c9</td>\n",
       "      <td>2019-10-01 00:00:07</td>\n",
       "      <td>2019-10-01</td>\n",
       "      <td>00:00:07</td>\n",
       "      <td>0</td>\n",
       "      <td>0</td>\n",
       "      <td>7</td>\n",
       "    </tr>\n",
       "    <tr>\n",
       "      <th>3</th>\n",
       "      <td>2019-10-01 00:00:07 UTC</td>\n",
       "      <td>cart</td>\n",
       "      <td>5723490</td>\n",
       "      <td>1487580005134238553</td>\n",
       "      <td>NaN</td>\n",
       "      <td>runail</td>\n",
       "      <td>2.62</td>\n",
       "      <td>463240011</td>\n",
       "      <td>26dd6e6e-4dac-4778-8d2c-92e149dab885</td>\n",
       "      <td>2019-10-01 00:00:07</td>\n",
       "      <td>2019-10-01</td>\n",
       "      <td>00:00:07</td>\n",
       "      <td>0</td>\n",
       "      <td>0</td>\n",
       "      <td>7</td>\n",
       "    </tr>\n",
       "    <tr>\n",
       "      <th>4</th>\n",
       "      <td>2019-10-01 00:00:15 UTC</td>\n",
       "      <td>cart</td>\n",
       "      <td>5881449</td>\n",
       "      <td>1487580013522845895</td>\n",
       "      <td>NaN</td>\n",
       "      <td>lovely</td>\n",
       "      <td>0.56</td>\n",
       "      <td>429681830</td>\n",
       "      <td>49e8d843-adf3-428b-a2c3-fe8bc6a307c9</td>\n",
       "      <td>2019-10-01 00:00:15</td>\n",
       "      <td>2019-10-01</td>\n",
       "      <td>00:00:15</td>\n",
       "      <td>0</td>\n",
       "      <td>0</td>\n",
       "      <td>15</td>\n",
       "    </tr>\n",
       "  </tbody>\n",
       "</table>\n",
       "</div>"
      ],
      "text/plain": [
       "                event_time event_type  product_id          category_id  \\\n",
       "0  2019-10-01 00:00:00 UTC       cart     5773203  1487580005134238553   \n",
       "1  2019-10-01 00:00:03 UTC       cart     5773353  1487580005134238553   \n",
       "2  2019-10-01 00:00:07 UTC       cart     5881589  2151191071051219817   \n",
       "3  2019-10-01 00:00:07 UTC       cart     5723490  1487580005134238553   \n",
       "4  2019-10-01 00:00:15 UTC       cart     5881449  1487580013522845895   \n",
       "\n",
       "  category_code   brand  price    user_id  \\\n",
       "0           NaN  runail   2.62  463240011   \n",
       "1           NaN  runail   2.62  463240011   \n",
       "2           NaN  lovely  13.48  429681830   \n",
       "3           NaN  runail   2.62  463240011   \n",
       "4           NaN  lovely   0.56  429681830   \n",
       "\n",
       "                           user_session       time_zoneless       date  \\\n",
       "0  26dd6e6e-4dac-4778-8d2c-92e149dab885 2019-10-01 00:00:00 2019-10-01   \n",
       "1  26dd6e6e-4dac-4778-8d2c-92e149dab885 2019-10-01 00:00:03 2019-10-01   \n",
       "2  49e8d843-adf3-428b-a2c3-fe8bc6a307c9 2019-10-01 00:00:07 2019-10-01   \n",
       "3  26dd6e6e-4dac-4778-8d2c-92e149dab885 2019-10-01 00:00:07 2019-10-01   \n",
       "4  49e8d843-adf3-428b-a2c3-fe8bc6a307c9 2019-10-01 00:00:15 2019-10-01   \n",
       "\n",
       "       time  hour  minute  second  \n",
       "0  00:00:00     0       0       0  \n",
       "1  00:00:03     0       0       3  \n",
       "2  00:00:07     0       0       7  \n",
       "3  00:00:07     0       0       7  \n",
       "4  00:00:15     0       0      15  "
      ]
     },
     "execution_count": 7,
     "metadata": {},
     "output_type": "execute_result"
    }
   ],
   "source": [
    "df['hour'] = df.time_zoneless.dt.hour\n",
    "df['minute'] = df.time_zoneless.dt.minute\n",
    "df['second'] = df.time_zoneless.dt.second\n",
    "df.head()"
   ]
  },
  {
   "cell_type": "markdown",
   "metadata": {},
   "source": [
    "此处新增的无时区标记时间列、日期列为datetime格式；时分秒列为整数格式"
   ]
  },
  {
   "cell_type": "markdown",
   "metadata": {},
   "source": [
    "# customer behavior analysis\n",
    "## PV and UV\n",
    "### daily for all events\n",
    "Use group by to calculate the page view and unique visitor in each day:"
   ]
  },
  {
   "cell_type": "code",
   "execution_count": 8,
   "metadata": {},
   "outputs": [],
   "source": [
    "pv_d = df.groupby('date').user_id.count().reset_index()\n",
    "pv_d.rename(columns = {'user_id':'pv'}, inplace = True)\n",
    "uv_d = df.groupby('date').user_id.nunique().reset_index()\n",
    "uv_d.rename(columns = {'user_id':'uv'}, inplace = True)"
   ]
  },
  {
   "cell_type": "code",
   "execution_count": 16,
   "metadata": {},
   "outputs": [
    {
     "data": {
      "text/html": [
       "<div>\n",
       "<style scoped>\n",
       "    .dataframe tbody tr th:only-of-type {\n",
       "        vertical-align: middle;\n",
       "    }\n",
       "\n",
       "    .dataframe tbody tr th {\n",
       "        vertical-align: top;\n",
       "    }\n",
       "\n",
       "    .dataframe thead th {\n",
       "        text-align: right;\n",
       "    }\n",
       "</style>\n",
       "<table border=\"1\" class=\"dataframe\">\n",
       "  <thead>\n",
       "    <tr style=\"text-align: right;\">\n",
       "      <th></th>\n",
       "      <th>date</th>\n",
       "      <th>pv</th>\n",
       "      <th>day</th>\n",
       "    </tr>\n",
       "  </thead>\n",
       "  <tbody>\n",
       "    <tr>\n",
       "      <th>0</th>\n",
       "      <td>2019-10-01</td>\n",
       "      <td>142414</td>\n",
       "      <td>01</td>\n",
       "    </tr>\n",
       "    <tr>\n",
       "      <th>1</th>\n",
       "      <td>2019-10-02</td>\n",
       "      <td>201068</td>\n",
       "      <td>02</td>\n",
       "    </tr>\n",
       "    <tr>\n",
       "      <th>2</th>\n",
       "      <td>2019-10-03</td>\n",
       "      <td>124847</td>\n",
       "      <td>03</td>\n",
       "    </tr>\n",
       "    <tr>\n",
       "      <th>3</th>\n",
       "      <td>2019-10-04</td>\n",
       "      <td>115612</td>\n",
       "      <td>04</td>\n",
       "    </tr>\n",
       "    <tr>\n",
       "      <th>4</th>\n",
       "      <td>2019-10-05</td>\n",
       "      <td>106343</td>\n",
       "      <td>05</td>\n",
       "    </tr>\n",
       "  </tbody>\n",
       "</table>\n",
       "</div>"
      ],
      "text/plain": [
       "        date      pv day\n",
       "0 2019-10-01  142414  01\n",
       "1 2019-10-02  201068  02\n",
       "2 2019-10-03  124847  03\n",
       "3 2019-10-04  115612  04\n",
       "4 2019-10-05  106343  05"
      ]
     },
     "execution_count": 16,
     "metadata": {},
     "output_type": "execute_result"
    }
   ],
   "source": [
    "pv_d['day'] = pv_d.date.dt.strftime(\"%d\")\n",
    "uv_d['day'] = uv_d.date.dt.strftime('%d')\n",
    "pv_d.head()"
   ]
  },
  {
   "cell_type": "code",
   "execution_count": 144,
   "metadata": {},
   "outputs": [],
   "source": [
    "pv_d.to_excel(writer, sheet_name=\"2.11dailyPV\", index=False)\n",
    "uv_d.to_excel(writer, sheet_name=\"2.11dailyUV\", index=False)"
   ]
  },
  {
   "cell_type": "markdown",
   "metadata": {},
   "source": [
    "### hourly for all events\n",
    "Use groupby to extract PV and UV data in different hours.  \n",
    "For the hour is set from 0 to 23, add one row for 24 and set the data in this row the same as the data from 0."
   ]
  },
  {
   "cell_type": "code",
   "execution_count": 19,
   "metadata": {},
   "outputs": [],
   "source": [
    "pv_hour = df.groupby('hour').user_id.count().reset_index().rename(columns = {'user_id':'pv'})\n",
    "#增加24点的数据，与0点相同，使后边的折线图连贯到24点\n",
    "pv_hour.loc['24'] = pv_hour.iloc[0,1]"
   ]
  },
  {
   "cell_type": "code",
   "execution_count": 20,
   "metadata": {},
   "outputs": [],
   "source": [
    "uv_hour = df.groupby('hour').user_id.nunique().reset_index().rename(columns = {'user_id':'uv'})\n",
    "uv_hour.loc['24'] = uv_hour.iloc[0,1]"
   ]
  },
  {
   "cell_type": "code",
   "execution_count": 145,
   "metadata": {},
   "outputs": [],
   "source": [
    "pv_hour.to_excel(writer, sheet_name=\"2.12hourlyPV\")\n",
    "uv_hour.to_excel(writer, sheet_name=\"2.12hourlyUV\")"
   ]
  },
  {
   "cell_type": "markdown",
   "metadata": {},
   "source": [
    "### Daily for each event type\n",
    "Extract PV and UV data for four different event types in every day:  \n",
    "Using the groupby method or pivor table method:"
   ]
  },
  {
   "cell_type": "code",
   "execution_count": 22,
   "metadata": {},
   "outputs": [],
   "source": [
    "#daily\n",
    "pv_event = df.groupby(['event_type','date']).user_id.count().reset_index().rename(columns = {'user_id':\"pv\"})\n",
    "uv_event = df.groupby(['event_type','date']).user_id.nunique().reset_index().rename(columns = {'user_id':\"uv\"})"
   ]
  },
  {
   "cell_type": "code",
   "execution_count": 163,
   "metadata": {},
   "outputs": [],
   "source": [
    "#The previous one also can use .unstack() to transfer to pivot table, or using following code:\n",
    "#pd.pivot_table(pv_event, values = 'pv', index = 'date', \n",
    "#               columns = 'event_type')"
   ]
  },
  {
   "cell_type": "code",
   "execution_count": 146,
   "metadata": {},
   "outputs": [],
   "source": [
    "pv_event.to_excel(writer, sheet_name=\"2.13eventPV\", index=False)\n",
    "uv_event.to_excel(writer, sheet_name=\"2.13eventUV\", index=False)"
   ]
  },
  {
   "cell_type": "markdown",
   "metadata": {},
   "source": [
    "### Hourly for each event type"
   ]
  },
  {
   "cell_type": "markdown",
   "metadata": {},
   "source": [
    "Extract hourly PV and UV data for different event types  \n",
    "add four rows for 24th hour in each event type, which equals to the data in at 0 a.m."
   ]
  },
  {
   "cell_type": "code",
   "execution_count": 24,
   "metadata": {},
   "outputs": [],
   "source": [
    "#hourly\n",
    "pv_event_h = df.groupby(['event_type','hour']).user_id.count().reset_index().rename(columns = {'user_id':'pv'})\n",
    "uv_event_h = df.groupby(['event_type','hour']).user_id.nunique().reset_index().rename(columns = {'user_id':'uv'})"
   ]
  },
  {
   "cell_type": "code",
   "execution_count": 172,
   "metadata": {},
   "outputs": [
    {
     "name": "stdout",
     "output_type": "stream",
     "text": [
      "          event_type  hour     pv\n",
      "95              view    23  21929\n",
      "96              cart    24  17080\n",
      "97          purchase    24   2082\n",
      "98  remove_from_cart    24   7110\n",
      "99              view    24  16743\n",
      "          event_type  hour    uv\n",
      "95              view    23  7227\n",
      "96              cart    24  3632\n",
      "97          purchase    24   192\n",
      "98  remove_from_cart    24   751\n",
      "99              view    24  6522\n"
     ]
    }
   ],
   "source": [
    "#set 24 = 0\n",
    "pv_event_h.loc['96'] = ['cart',24,pv_event_h.iloc[0,2]]\n",
    "pv_event_h.loc['97'] = ['purchase',24,pv_event_h.iloc[24,2]]\n",
    "pv_event_h.loc['98'] = ['remove_from_cart',24,pv_event_h.iloc[48,2]]\n",
    "pv_event_h.loc['99'] = ['view',24,pv_event_h.iloc[72,2]]\n",
    "print(pv_event_h.tail())\n",
    "uv_event_h.loc['96'] = ['cart',24,uv_event_h.iloc[0,2]]\n",
    "uv_event_h.loc['97'] = ['purchase',24,uv_event_h.iloc[24,2]]\n",
    "uv_event_h.loc['98'] = ['remove_from_cart',24,uv_event_h.iloc[48,2]]\n",
    "uv_event_h.loc['99'] = ['view',24,uv_event_h.iloc[72,2]]\n",
    "print(uv_event_h.tail())"
   ]
  },
  {
   "cell_type": "code",
   "execution_count": 147,
   "metadata": {},
   "outputs": [],
   "source": [
    "pv_event_h.to_excel(writer, sheet_name=\"2.14eventhourlyPV\", index=False)\n",
    "uv_event_h.to_excel(writer, sheet_name=\"2.14eventhourlyUV\", index=False)"
   ]
  },
  {
   "cell_type": "markdown",
   "metadata": {},
   "source": [
    "## customer purchase behavior analysis\n",
    "### customer buying frequency analysis\n",
    "Calculate that how many times totally one user has purchased in this month."
   ]
  },
  {
   "cell_type": "code",
   "execution_count": 149,
   "metadata": {},
   "outputs": [
    {
     "data": {
      "text/plain": [
       "user_id\n",
       "29025780     18\n",
       "31229488      4\n",
       "33535391     11\n",
       "33609704      9\n",
       "34080306      3\n",
       "             ..\n",
       "566264460     6\n",
       "566270279     6\n",
       "566270544     1\n",
       "566272734     7\n",
       "566274213     1\n",
       "Name: event_type, Length: 25762, dtype: int64"
      ]
     },
     "execution_count": 149,
     "metadata": {},
     "output_type": "execute_result"
    }
   ],
   "source": [
    "daily_purchase_user = df[df.event_type == 'purchase'].groupby('user_id').event_type.count()"
   ]
  },
  {
   "cell_type": "code",
   "execution_count": 154,
   "metadata": {},
   "outputs": [],
   "source": [
    "daily_purchase_user.to_excel(writer, sheet_name=\"2.21buyfreq\")"
   ]
  },
  {
   "cell_type": "markdown",
   "metadata": {},
   "source": [
    "### Daily GMV"
   ]
  },
  {
   "cell_type": "code",
   "execution_count": 152,
   "metadata": {},
   "outputs": [],
   "source": [
    "daily_revenue = df[df.event_type == 'purchase'].groupby('date').price.sum().reset_index()"
   ]
  },
  {
   "cell_type": "code",
   "execution_count": 153,
   "metadata": {},
   "outputs": [],
   "source": [
    "daily_revenue.to_excel(writer, sheet_name=\"2.22dailyGMV\", index=False)"
   ]
  },
  {
   "cell_type": "markdown",
   "metadata": {},
   "source": [
    "### Daily ARPPU(average revenue per paying user)\n",
    "Extract the total revenue for each day and the number of unique purchased users.  \n",
    "Calculate the ARPPU = daily total revenue / daily total unique purchaser:"
   ]
  },
  {
   "cell_type": "code",
   "execution_count": 30,
   "metadata": {},
   "outputs": [],
   "source": [
    "daily_revenue = df[df.event_type == 'purchase'].groupby('date').price.sum().reset_index()\n",
    "daily_pay_user = df[df.event_type == 'purchase'].groupby('date').user_id.nunique().reset_index()"
   ]
  },
  {
   "cell_type": "code",
   "execution_count": 31,
   "metadata": {},
   "outputs": [
    {
     "data": {
      "text/html": [
       "<div>\n",
       "<style scoped>\n",
       "    .dataframe tbody tr th:only-of-type {\n",
       "        vertical-align: middle;\n",
       "    }\n",
       "\n",
       "    .dataframe tbody tr th {\n",
       "        vertical-align: top;\n",
       "    }\n",
       "\n",
       "    .dataframe thead th {\n",
       "        text-align: right;\n",
       "    }\n",
       "</style>\n",
       "<table border=\"1\" class=\"dataframe\">\n",
       "  <thead>\n",
       "    <tr style=\"text-align: right;\">\n",
       "      <th></th>\n",
       "      <th>date</th>\n",
       "      <th>price</th>\n",
       "      <th>user_id</th>\n",
       "    </tr>\n",
       "  </thead>\n",
       "  <tbody>\n",
       "    <tr>\n",
       "      <th>0</th>\n",
       "      <td>2019-10-01</td>\n",
       "      <td>43497.17</td>\n",
       "      <td>1001</td>\n",
       "    </tr>\n",
       "    <tr>\n",
       "      <th>1</th>\n",
       "      <td>2019-10-02</td>\n",
       "      <td>45746.20</td>\n",
       "      <td>1045</td>\n",
       "    </tr>\n",
       "    <tr>\n",
       "      <th>2</th>\n",
       "      <td>2019-10-03</td>\n",
       "      <td>43380.98</td>\n",
       "      <td>1048</td>\n",
       "    </tr>\n",
       "    <tr>\n",
       "      <th>3</th>\n",
       "      <td>2019-10-04</td>\n",
       "      <td>35887.15</td>\n",
       "      <td>892</td>\n",
       "    </tr>\n",
       "    <tr>\n",
       "      <th>4</th>\n",
       "      <td>2019-10-05</td>\n",
       "      <td>29228.55</td>\n",
       "      <td>708</td>\n",
       "    </tr>\n",
       "  </tbody>\n",
       "</table>\n",
       "</div>"
      ],
      "text/plain": [
       "        date     price  user_id\n",
       "0 2019-10-01  43497.17     1001\n",
       "1 2019-10-02  45746.20     1045\n",
       "2 2019-10-03  43380.98     1048\n",
       "3 2019-10-04  35887.15      892\n",
       "4 2019-10-05  29228.55      708"
      ]
     },
     "execution_count": 31,
     "metadata": {},
     "output_type": "execute_result"
    }
   ],
   "source": [
    "daily_arppu = pd.merge(daily_revenue,daily_pay_user, on = 'date')\n",
    "daily_arppu.head()"
   ]
  },
  {
   "cell_type": "code",
   "execution_count": 32,
   "metadata": {},
   "outputs": [
    {
     "data": {
      "text/html": [
       "<div>\n",
       "<style scoped>\n",
       "    .dataframe tbody tr th:only-of-type {\n",
       "        vertical-align: middle;\n",
       "    }\n",
       "\n",
       "    .dataframe tbody tr th {\n",
       "        vertical-align: top;\n",
       "    }\n",
       "\n",
       "    .dataframe thead th {\n",
       "        text-align: right;\n",
       "    }\n",
       "</style>\n",
       "<table border=\"1\" class=\"dataframe\">\n",
       "  <thead>\n",
       "    <tr style=\"text-align: right;\">\n",
       "      <th></th>\n",
       "      <th>date</th>\n",
       "      <th>price</th>\n",
       "      <th>user_id</th>\n",
       "      <th>arppu</th>\n",
       "      <th>day</th>\n",
       "    </tr>\n",
       "  </thead>\n",
       "  <tbody>\n",
       "    <tr>\n",
       "      <th>0</th>\n",
       "      <td>2019-10-01</td>\n",
       "      <td>43497.17</td>\n",
       "      <td>1001</td>\n",
       "      <td>43.453716</td>\n",
       "      <td>01</td>\n",
       "    </tr>\n",
       "    <tr>\n",
       "      <th>1</th>\n",
       "      <td>2019-10-02</td>\n",
       "      <td>45746.20</td>\n",
       "      <td>1045</td>\n",
       "      <td>43.776268</td>\n",
       "      <td>02</td>\n",
       "    </tr>\n",
       "    <tr>\n",
       "      <th>2</th>\n",
       "      <td>2019-10-03</td>\n",
       "      <td>43380.98</td>\n",
       "      <td>1048</td>\n",
       "      <td>41.394065</td>\n",
       "      <td>03</td>\n",
       "    </tr>\n",
       "    <tr>\n",
       "      <th>3</th>\n",
       "      <td>2019-10-04</td>\n",
       "      <td>35887.15</td>\n",
       "      <td>892</td>\n",
       "      <td>40.232231</td>\n",
       "      <td>04</td>\n",
       "    </tr>\n",
       "    <tr>\n",
       "      <th>4</th>\n",
       "      <td>2019-10-05</td>\n",
       "      <td>29228.55</td>\n",
       "      <td>708</td>\n",
       "      <td>41.283263</td>\n",
       "      <td>05</td>\n",
       "    </tr>\n",
       "  </tbody>\n",
       "</table>\n",
       "</div>"
      ],
      "text/plain": [
       "        date     price  user_id      arppu day\n",
       "0 2019-10-01  43497.17     1001  43.453716  01\n",
       "1 2019-10-02  45746.20     1045  43.776268  02\n",
       "2 2019-10-03  43380.98     1048  41.394065  03\n",
       "3 2019-10-04  35887.15      892  40.232231  04\n",
       "4 2019-10-05  29228.55      708  41.283263  05"
      ]
     },
     "execution_count": 32,
     "metadata": {},
     "output_type": "execute_result"
    }
   ],
   "source": [
    "daily_arppu['arppu'] = daily_arppu.price/daily_arppu.user_id\n",
    "daily_arppu['day'] = daily_arppu.date.dt.strftime('%d')\n",
    "daily_arppu.head()"
   ]
  },
  {
   "cell_type": "code",
   "execution_count": 155,
   "metadata": {},
   "outputs": [],
   "source": [
    "daily_arppu.to_excel(writer, sheet_name=\"2.23dailyARPPU\", index=False)"
   ]
  },
  {
   "cell_type": "markdown",
   "metadata": {},
   "source": [
    "### Daily ARPU(Average Revenue per user)\n",
    "extract amount of daily actived users  \n",
    "calculate ARPU = daily total revenue/daily actived users"
   ]
  },
  {
   "cell_type": "code",
   "execution_count": 34,
   "metadata": {},
   "outputs": [
    {
     "data": {
      "text/html": [
       "<div>\n",
       "<style scoped>\n",
       "    .dataframe tbody tr th:only-of-type {\n",
       "        vertical-align: middle;\n",
       "    }\n",
       "\n",
       "    .dataframe tbody tr th {\n",
       "        vertical-align: top;\n",
       "    }\n",
       "\n",
       "    .dataframe thead th {\n",
       "        text-align: right;\n",
       "    }\n",
       "</style>\n",
       "<table border=\"1\" class=\"dataframe\">\n",
       "  <thead>\n",
       "    <tr style=\"text-align: right;\">\n",
       "      <th></th>\n",
       "      <th>date</th>\n",
       "      <th>daily_active</th>\n",
       "    </tr>\n",
       "  </thead>\n",
       "  <tbody>\n",
       "    <tr>\n",
       "      <th>0</th>\n",
       "      <td>2019-10-01</td>\n",
       "      <td>19230</td>\n",
       "    </tr>\n",
       "    <tr>\n",
       "      <th>1</th>\n",
       "      <td>2019-10-02</td>\n",
       "      <td>33859</td>\n",
       "    </tr>\n",
       "    <tr>\n",
       "      <th>2</th>\n",
       "      <td>2019-10-03</td>\n",
       "      <td>16323</td>\n",
       "    </tr>\n",
       "    <tr>\n",
       "      <th>3</th>\n",
       "      <td>2019-10-04</td>\n",
       "      <td>14732</td>\n",
       "    </tr>\n",
       "    <tr>\n",
       "      <th>4</th>\n",
       "      <td>2019-10-05</td>\n",
       "      <td>14990</td>\n",
       "    </tr>\n",
       "  </tbody>\n",
       "</table>\n",
       "</div>"
      ],
      "text/plain": [
       "        date  daily_active\n",
       "0 2019-10-01         19230\n",
       "1 2019-10-02         33859\n",
       "2 2019-10-03         16323\n",
       "3 2019-10-04         14732\n",
       "4 2019-10-05         14990"
      ]
     },
     "execution_count": 34,
     "metadata": {},
     "output_type": "execute_result"
    }
   ],
   "source": [
    "daily_user = df.groupby('date').user_id.nunique().reset_index().rename(columns = {\"user_id\":\"daily_active\"})\n",
    "daily_user.head()"
   ]
  },
  {
   "cell_type": "code",
   "execution_count": 35,
   "metadata": {},
   "outputs": [
    {
     "data": {
      "text/plain": [
       "count    31.000000\n",
       "mean      2.239887\n",
       "std       0.365562\n",
       "min       1.054989\n",
       "25%       2.144566\n",
       "50%       2.290572\n",
       "75%       2.455266\n",
       "max       2.659999\n",
       "Name: arpu, dtype: float64"
      ]
     },
     "execution_count": 35,
     "metadata": {},
     "output_type": "execute_result"
    }
   ],
   "source": [
    "daily_arpu = pd.merge(daily_revenue, daily_user, on = 'date')\n",
    "daily_arpu['arpu'] = daily_arpu.price/daily_arpu.daily_active\n",
    "daily_arpu['day'] = daily_arpu.date.dt.strftime('%d')\n",
    "daily_arpu.arpu.describe()"
   ]
  },
  {
   "cell_type": "code",
   "execution_count": 157,
   "metadata": {},
   "outputs": [],
   "source": [
    "daily_arpu.to_excel(writer, sheet_name=\"2.24dailyARPU\", index=False)"
   ]
  },
  {
   "cell_type": "markdown",
   "metadata": {},
   "source": [
    "### pay user rate\n",
    "pay user rate = total paied user/total active user"
   ]
  },
  {
   "cell_type": "code",
   "execution_count": 37,
   "metadata": {},
   "outputs": [],
   "source": [
    "daily_pay_user = df[df.event_type == 'purchase'].groupby('date').user_id.nunique().reset_index().rename(columns = {'user_id':'daily_pay_user'})"
   ]
  },
  {
   "cell_type": "code",
   "execution_count": 141,
   "metadata": {},
   "outputs": [
    {
     "data": {
      "text/plain": [
       "count    31.000000\n",
       "mean      0.053604\n",
       "std       0.008662\n",
       "min       0.026528\n",
       "25%       0.051794\n",
       "50%       0.055876\n",
       "75%       0.059352\n",
       "max       0.064204\n",
       "dtype: float64"
      ]
     },
     "execution_count": 141,
     "metadata": {},
     "output_type": "execute_result"
    }
   ],
   "source": [
    "daily_pay_rate = daily_pay_user.daily_pay_user/daily_user.daily_active\n",
    "daily_pay_rate.describe()"
   ]
  },
  {
   "cell_type": "code",
   "execution_count": 159,
   "metadata": {},
   "outputs": [],
   "source": [
    "daily_pay_rate.to_excel(writer, sheet_name=\"2.26payRate\")"
   ]
  },
  {
   "cell_type": "markdown",
   "metadata": {},
   "source": [
    "## Retention Rate\n",
    "### all user retention"
   ]
  },
  {
   "cell_type": "code",
   "execution_count": 40,
   "metadata": {},
   "outputs": [
    {
     "data": {
      "text/plain": [
       "date\n",
       "2019-10-01    [463240011, 429681830, 430174032, 377667011, 4...\n",
       "2019-10-02    [555815087, 555815138, 555815115, 555815140, 5...\n",
       "2019-10-03    [538931315, 430209260, 418167791, 536189308, 2...\n",
       "2019-10-04    [455300469, 509042489, 556530981, 556546665, 4...\n",
       "2019-10-05    [417143062, 556829500, 464592812, 411689951, 5...\n",
       "Name: user_id, dtype: object"
      ]
     },
     "execution_count": 40,
     "metadata": {},
     "output_type": "execute_result"
    }
   ],
   "source": [
    "user_num = df.groupby(\"date\")[\"user_id\"].unique()\n",
    "user_num.head()"
   ]
  },
  {
   "cell_type": "code",
   "execution_count": 160,
   "metadata": {},
   "outputs": [],
   "source": [
    "user_num.to_excel(writer, sheet_name=\"2.31allUserRetentionOriginData\")"
   ]
  },
  {
   "cell_type": "markdown",
   "metadata": {},
   "source": [
    "### Compare retention rate between all users and purchased users"
   ]
  },
  {
   "cell_type": "code",
   "execution_count": 162,
   "metadata": {},
   "outputs": [],
   "source": [
    "purchased = df[df.event_type == \"purchase\"]\n",
    "user_num_purchased = purchased.groupby(\"date\")[\"user_id\"].unique()"
   ]
  },
  {
   "cell_type": "code",
   "execution_count": 163,
   "metadata": {},
   "outputs": [],
   "source": [
    "user_num_purchased.to_excel(writer, sheet_name=\"2.32purUserRetentionOriginData\")"
   ]
  },
  {
   "cell_type": "markdown",
   "metadata": {},
   "source": [
    "## repurchase rate\n",
    "### repurchase times\n",
    "Extract purchase times for all purcased users: Use different user sessions to define a repurchase  "
   ]
  },
  {
   "cell_type": "code",
   "execution_count": 46,
   "metadata": {},
   "outputs": [
    {
     "data": {
      "text/html": [
       "<div>\n",
       "<style scoped>\n",
       "    .dataframe tbody tr th:only-of-type {\n",
       "        vertical-align: middle;\n",
       "    }\n",
       "\n",
       "    .dataframe tbody tr th {\n",
       "        vertical-align: top;\n",
       "    }\n",
       "\n",
       "    .dataframe thead th {\n",
       "        text-align: right;\n",
       "    }\n",
       "</style>\n",
       "<table border=\"1\" class=\"dataframe\">\n",
       "  <thead>\n",
       "    <tr style=\"text-align: right;\">\n",
       "      <th></th>\n",
       "      <th>user_id</th>\n",
       "      <th>times</th>\n",
       "    </tr>\n",
       "  </thead>\n",
       "  <tbody>\n",
       "    <tr>\n",
       "      <th>0</th>\n",
       "      <td>29025780</td>\n",
       "      <td>1</td>\n",
       "    </tr>\n",
       "    <tr>\n",
       "      <th>1</th>\n",
       "      <td>31229488</td>\n",
       "      <td>1</td>\n",
       "    </tr>\n",
       "    <tr>\n",
       "      <th>2</th>\n",
       "      <td>33535391</td>\n",
       "      <td>1</td>\n",
       "    </tr>\n",
       "    <tr>\n",
       "      <th>3</th>\n",
       "      <td>33609704</td>\n",
       "      <td>1</td>\n",
       "    </tr>\n",
       "    <tr>\n",
       "      <th>4</th>\n",
       "      <td>34080306</td>\n",
       "      <td>1</td>\n",
       "    </tr>\n",
       "  </tbody>\n",
       "</table>\n",
       "</div>"
      ],
      "text/plain": [
       "    user_id  times\n",
       "0  29025780      1\n",
       "1  31229488      1\n",
       "2  33535391      1\n",
       "3  33609704      1\n",
       "4  34080306      1"
      ]
     },
     "execution_count": 46,
     "metadata": {},
     "output_type": "execute_result"
    }
   ],
   "source": [
    "buy = df[df.event_type == 'purchase'].groupby(['user_id']).user_session.nunique().reset_index().rename(columns = {'user_session':'times'})\n",
    "buy.head()"
   ]
  },
  {
   "cell_type": "markdown",
   "metadata": {},
   "source": [
    "Seperate the users who purchase more than once.  \n",
    "calculate repurchase rate and draw histgram for repurchase times."
   ]
  },
  {
   "cell_type": "code",
   "execution_count": 47,
   "metadata": {},
   "outputs": [
    {
     "name": "stderr",
     "output_type": "stream",
     "text": [
      "C:\\ProgramData\\Anaconda3\\lib\\site-packages\\ipykernel_launcher.py:2: SettingWithCopyWarning: \n",
      "A value is trying to be set on a copy of a slice from a DataFrame.\n",
      "Try using .loc[row_indexer,col_indexer] = value instead\n",
      "\n",
      "See the caveats in the documentation: https://pandas.pydata.org/pandas-docs/stable/user_guide/indexing.html#returning-a-view-versus-a-copy\n",
      "  \n"
     ]
    },
    {
     "data": {
      "text/html": [
       "<div>\n",
       "<style scoped>\n",
       "    .dataframe tbody tr th:only-of-type {\n",
       "        vertical-align: middle;\n",
       "    }\n",
       "\n",
       "    .dataframe tbody tr th {\n",
       "        vertical-align: top;\n",
       "    }\n",
       "\n",
       "    .dataframe thead th {\n",
       "        text-align: right;\n",
       "    }\n",
       "</style>\n",
       "<table border=\"1\" class=\"dataframe\">\n",
       "  <thead>\n",
       "    <tr style=\"text-align: right;\">\n",
       "      <th></th>\n",
       "      <th>user_id</th>\n",
       "      <th>times</th>\n",
       "      <th>re_times</th>\n",
       "    </tr>\n",
       "  </thead>\n",
       "  <tbody>\n",
       "    <tr>\n",
       "      <th>25</th>\n",
       "      <td>69749548</td>\n",
       "      <td>2</td>\n",
       "      <td>1</td>\n",
       "    </tr>\n",
       "    <tr>\n",
       "      <th>45</th>\n",
       "      <td>92366748</td>\n",
       "      <td>2</td>\n",
       "      <td>1</td>\n",
       "    </tr>\n",
       "    <tr>\n",
       "      <th>47</th>\n",
       "      <td>95758554</td>\n",
       "      <td>3</td>\n",
       "      <td>2</td>\n",
       "    </tr>\n",
       "    <tr>\n",
       "      <th>70</th>\n",
       "      <td>121496884</td>\n",
       "      <td>2</td>\n",
       "      <td>1</td>\n",
       "    </tr>\n",
       "    <tr>\n",
       "      <th>81</th>\n",
       "      <td>140439288</td>\n",
       "      <td>2</td>\n",
       "      <td>1</td>\n",
       "    </tr>\n",
       "  </tbody>\n",
       "</table>\n",
       "</div>"
      ],
      "text/plain": [
       "      user_id  times  re_times\n",
       "25   69749548      2         1\n",
       "45   92366748      2         1\n",
       "47   95758554      3         2\n",
       "70  121496884      2         1\n",
       "81  140439288      2         1"
      ]
     },
     "execution_count": 47,
     "metadata": {},
     "output_type": "execute_result"
    }
   ],
   "source": [
    "rebuy_amount = buy[buy.times >= 2]\n",
    "rebuy_amount['re_times'] = rebuy_amount.times-1\n",
    "rebuy_amount.head()"
   ]
  },
  {
   "cell_type": "code",
   "execution_count": 61,
   "metadata": {},
   "outputs": [
    {
     "data": {
      "text/plain": [
       "count    2709.000000\n",
       "mean        1.315615\n",
       "std         1.034335\n",
       "min         1.000000\n",
       "25%         1.000000\n",
       "50%         1.000000\n",
       "75%         1.000000\n",
       "max        30.000000\n",
       "Name: re_times, dtype: float64"
      ]
     },
     "execution_count": 61,
     "metadata": {},
     "output_type": "execute_result"
    }
   ],
   "source": [
    "rebuy_amount.re_times.describe()"
   ]
  },
  {
   "cell_type": "code",
   "execution_count": 63,
   "metadata": {},
   "outputs": [
    {
     "name": "stdout",
     "output_type": "stream",
     "text": [
      "Repurchase rate is 0.1052\n"
     ]
    },
    {
     "data": {
      "text/plain": [
       "(array([2.693e+03, 1.400e+01, 1.000e+00, 0.000e+00, 1.000e+00]),\n",
       " array([ 1. ,  6.8, 12.6, 18.4, 24.2, 30. ]),\n",
       " <a list of 5 Patch objects>)"
      ]
     },
     "execution_count": 63,
     "metadata": {},
     "output_type": "execute_result"
    },
    {
     "data": {
      "image/png": "[encoded data removed]",
      "text/plain": [
       "<Figure size 432x288 with 1 Axes>"
      ]
     },
     "metadata": {},
     "output_type": "display_data"
    }
   ],
   "source": [
    "repurchase_rate = round(len(rebuy_amount)/len(buy),4)\n",
    "print('Repurchase rate is {}'.format(repurchase_rate))\n",
    "sns.set(style = 'white', palette = 'bright')\n",
    "plt.hist(rebuy_amount.re_times, bins = 5)"
   ]
  },
  {
   "cell_type": "markdown",
   "metadata": {},
   "source": [
    "For more than 75% of users only repurchase once, use pd.cut to seperate the repurchase time to 1, 2, 3 and more than 3 in order to draw pie chart."
   ]
  },
  {
   "cell_type": "code",
   "execution_count": 48,
   "metadata": {
    "scrolled": true
   },
   "outputs": [
    {
     "name": "stderr",
     "output_type": "stream",
     "text": [
      "C:\\ProgramData\\Anaconda3\\lib\\site-packages\\ipykernel_launcher.py:3: SettingWithCopyWarning: \n",
      "A value is trying to be set on a copy of a slice from a DataFrame.\n",
      "Try using .loc[row_indexer,col_indexer] = value instead\n",
      "\n",
      "See the caveats in the documentation: https://pandas.pydata.org/pandas-docs/stable/user_guide/indexing.html#returning-a-view-versus-a-copy\n",
      "  This is separate from the ipykernel package so we can avoid doing imports until\n"
     ]
    },
    {
     "data": {
      "text/html": [
       "<div>\n",
       "<style scoped>\n",
       "    .dataframe tbody tr th:only-of-type {\n",
       "        vertical-align: middle;\n",
       "    }\n",
       "\n",
       "    .dataframe tbody tr th {\n",
       "        vertical-align: top;\n",
       "    }\n",
       "\n",
       "    .dataframe thead th {\n",
       "        text-align: right;\n",
       "    }\n",
       "</style>\n",
       "<table border=\"1\" class=\"dataframe\">\n",
       "  <thead>\n",
       "    <tr style=\"text-align: right;\">\n",
       "      <th></th>\n",
       "      <th>user_id</th>\n",
       "      <th>times</th>\n",
       "      <th>re_times</th>\n",
       "      <th>bins</th>\n",
       "    </tr>\n",
       "  </thead>\n",
       "  <tbody>\n",
       "    <tr>\n",
       "      <th>25</th>\n",
       "      <td>69749548</td>\n",
       "      <td>2</td>\n",
       "      <td>1</td>\n",
       "      <td>once</td>\n",
       "    </tr>\n",
       "    <tr>\n",
       "      <th>45</th>\n",
       "      <td>92366748</td>\n",
       "      <td>2</td>\n",
       "      <td>1</td>\n",
       "      <td>once</td>\n",
       "    </tr>\n",
       "    <tr>\n",
       "      <th>47</th>\n",
       "      <td>95758554</td>\n",
       "      <td>3</td>\n",
       "      <td>2</td>\n",
       "      <td>twice</td>\n",
       "    </tr>\n",
       "    <tr>\n",
       "      <th>70</th>\n",
       "      <td>121496884</td>\n",
       "      <td>2</td>\n",
       "      <td>1</td>\n",
       "      <td>once</td>\n",
       "    </tr>\n",
       "    <tr>\n",
       "      <th>81</th>\n",
       "      <td>140439288</td>\n",
       "      <td>2</td>\n",
       "      <td>1</td>\n",
       "      <td>once</td>\n",
       "    </tr>\n",
       "  </tbody>\n",
       "</table>\n",
       "</div>"
      ],
      "text/plain": [
       "      user_id  times  re_times   bins\n",
       "25   69749548      2         1   once\n",
       "45   92366748      2         1   once\n",
       "47   95758554      3         2  twice\n",
       "70  121496884      2         1   once\n",
       "81  140439288      2         1   once"
      ]
     },
     "execution_count": 48,
     "metadata": {},
     "output_type": "execute_result"
    }
   ],
   "source": [
    "bins_rebuy = [0,1,2,100]\n",
    "labels_rebuy = ['once','twice',\"more than twice\"]\n",
    "rebuy_amount['bins'] = pd.cut(rebuy_amount.re_times,bins = bins_rebuy, labels = labels_rebuy)\n",
    "rebuy_amount.head()"
   ]
  },
  {
   "cell_type": "code",
   "execution_count": 49,
   "metadata": {},
   "outputs": [
    {
     "data": {
      "text/html": [
       "<div>\n",
       "<style scoped>\n",
       "    .dataframe tbody tr th:only-of-type {\n",
       "        vertical-align: middle;\n",
       "    }\n",
       "\n",
       "    .dataframe tbody tr th {\n",
       "        vertical-align: top;\n",
       "    }\n",
       "\n",
       "    .dataframe thead th {\n",
       "        text-align: right;\n",
       "    }\n",
       "</style>\n",
       "<table border=\"1\" class=\"dataframe\">\n",
       "  <thead>\n",
       "    <tr style=\"text-align: right;\">\n",
       "      <th></th>\n",
       "      <th>bins</th>\n",
       "      <th>user_id</th>\n",
       "      <th>per</th>\n",
       "    </tr>\n",
       "  </thead>\n",
       "  <tbody>\n",
       "    <tr>\n",
       "      <th>0</th>\n",
       "      <td>once</td>\n",
       "      <td>2190</td>\n",
       "      <td>0.808416</td>\n",
       "    </tr>\n",
       "    <tr>\n",
       "      <th>1</th>\n",
       "      <td>twice</td>\n",
       "      <td>370</td>\n",
       "      <td>0.136582</td>\n",
       "    </tr>\n",
       "    <tr>\n",
       "      <th>2</th>\n",
       "      <td>more than twice</td>\n",
       "      <td>149</td>\n",
       "      <td>0.055002</td>\n",
       "    </tr>\n",
       "  </tbody>\n",
       "</table>\n",
       "</div>"
      ],
      "text/plain": [
       "              bins  user_id       per\n",
       "0             once     2190  0.808416\n",
       "1            twice      370  0.136582\n",
       "2  more than twice      149  0.055002"
      ]
     },
     "execution_count": 49,
     "metadata": {},
     "output_type": "execute_result"
    }
   ],
   "source": [
    "rebuy_bins_per = rebuy_amount.groupby('bins').user_id.count().reset_index()\n",
    "rebuy_bins_per['per'] = rebuy_bins_per.user_id/rebuy_bins_per.user_id.sum()\n",
    "rebuy_bins_per"
   ]
  },
  {
   "cell_type": "code",
   "execution_count": 164,
   "metadata": {},
   "outputs": [],
   "source": [
    "rebuy_bins_per.to_excel(writer, sheet_name=\"2.41rebuyBin\", index=False)"
   ]
  },
  {
   "cell_type": "markdown",
   "metadata": {},
   "source": [
    "### repurchase time gap\n",
    "Calculate the repurchase time gap between a user first purchase and the last purchse in this month.  \n",
    "Extract the min and max purchase time from repurchase users."
   ]
  },
  {
   "cell_type": "code",
   "execution_count": 51,
   "metadata": {},
   "outputs": [],
   "source": [
    "def repur_gap_max(user_record_date):\n",
    "    \"\"\"求一个用户复购的最大日期间隔\"\"\"\n",
    "    max_gap = user_record_date[1]-user_record_date[0]\n",
    "    if len(user_record_date)>=3:\n",
    "        for x in range(1, len(user_record_date)-1):\n",
    "            date1 = user_record_date[x]\n",
    "            date2 = user_record_date[x+1]\n",
    "            gap = date2-date1\n",
    "            if gap > max_gap:\n",
    "                max_gap = gap\n",
    "    return max_gap"
   ]
  },
  {
   "cell_type": "code",
   "execution_count": 52,
   "metadata": {},
   "outputs": [
    {
     "data": {
      "text/plain": [
       "user_id\n",
       "29025780   5 days\n",
       "31229488   0 days\n",
       "33535391   0 days\n",
       "33609704   0 days\n",
       "34080306   0 days\n",
       "Name: date, dtype: timedelta64[ns]"
      ]
     },
     "execution_count": 52,
     "metadata": {},
     "output_type": "execute_result"
    }
   ],
   "source": [
    "purchase = df[df.event_type == 'purchase']\n",
    "repur = purchase.groupby(['user_id']).user_session.count().reset_index()\n",
    "repur_data = purchase[purchase.user_id.isin(repur[repur.user_session>=2].user_id)]\n",
    "repur_time_gap = repur_data.groupby(['user_id']).date.apply(lambda x: x.max()-x.min())\n",
    "repur_time_gap.head()"
   ]
  },
  {
   "cell_type": "code",
   "execution_count": 53,
   "metadata": {},
   "outputs": [
    {
     "data": {
      "text/html": [
       "<div>\n",
       "<style scoped>\n",
       "    .dataframe tbody tr th:only-of-type {\n",
       "        vertical-align: middle;\n",
       "    }\n",
       "\n",
       "    .dataframe tbody tr th {\n",
       "        vertical-align: top;\n",
       "    }\n",
       "\n",
       "    .dataframe thead th {\n",
       "        text-align: right;\n",
       "    }\n",
       "</style>\n",
       "<table border=\"1\" class=\"dataframe\">\n",
       "  <thead>\n",
       "    <tr style=\"text-align: right;\">\n",
       "      <th></th>\n",
       "      <th>user_id</th>\n",
       "      <th>date</th>\n",
       "    </tr>\n",
       "  </thead>\n",
       "  <tbody>\n",
       "    <tr>\n",
       "      <th>0</th>\n",
       "      <td>29025780</td>\n",
       "      <td>5 days</td>\n",
       "    </tr>\n",
       "    <tr>\n",
       "      <th>1</th>\n",
       "      <td>31229488</td>\n",
       "      <td>0 days</td>\n",
       "    </tr>\n",
       "    <tr>\n",
       "      <th>2</th>\n",
       "      <td>33535391</td>\n",
       "      <td>0 days</td>\n",
       "    </tr>\n",
       "    <tr>\n",
       "      <th>3</th>\n",
       "      <td>33609704</td>\n",
       "      <td>0 days</td>\n",
       "    </tr>\n",
       "    <tr>\n",
       "      <th>4</th>\n",
       "      <td>34080306</td>\n",
       "      <td>0 days</td>\n",
       "    </tr>\n",
       "  </tbody>\n",
       "</table>\n",
       "</div>"
      ],
      "text/plain": [
       "    user_id   date\n",
       "0  29025780 5 days\n",
       "1  31229488 0 days\n",
       "2  33535391 0 days\n",
       "3  33609704 0 days\n",
       "4  34080306 0 days"
      ]
     },
     "execution_count": 53,
     "metadata": {},
     "output_type": "execute_result"
    }
   ],
   "source": [
    "repur_time_gap = repur_time_gap.reset_index()\n",
    "repur_time_gap.head()"
   ]
  },
  {
   "cell_type": "code",
   "execution_count": 54,
   "metadata": {},
   "outputs": [],
   "source": [
    "repur_time_gap.date = repur_time_gap.date.dt.days"
   ]
  },
  {
   "cell_type": "code",
   "execution_count": 55,
   "metadata": {},
   "outputs": [
    {
     "data": {
      "text/plain": [
       "count    23324.000000\n",
       "mean         1.246441\n",
       "std          4.405746\n",
       "min          0.000000\n",
       "25%          0.000000\n",
       "50%          0.000000\n",
       "75%          0.000000\n",
       "max         30.000000\n",
       "Name: date, dtype: float64"
      ]
     },
     "execution_count": 55,
     "metadata": {},
     "output_type": "execute_result"
    }
   ],
   "source": [
    "repur_time_gap.date.describe()"
   ]
  },
  {
   "cell_type": "markdown",
   "metadata": {},
   "source": [
    "Repurchase is defined as user who purchase on different days, so the time gap zero day is removed."
   ]
  },
  {
   "cell_type": "code",
   "execution_count": 56,
   "metadata": {},
   "outputs": [
    {
     "data": {
      "text/plain": [
       "count    2492.000000\n",
       "mean       11.666132\n",
       "std         7.754571\n",
       "min         1.000000\n",
       "25%         5.000000\n",
       "50%        11.000000\n",
       "75%        18.000000\n",
       "max        30.000000\n",
       "Name: date, dtype: float64"
      ]
     },
     "execution_count": 56,
     "metadata": {},
     "output_type": "execute_result"
    }
   ],
   "source": [
    "timegap_nosameday = repur_time_gap.date[repur_time_gap.date > 0]\n",
    "timegap_nosameday.describe()"
   ]
  },
  {
   "cell_type": "code",
   "execution_count": 166,
   "metadata": {},
   "outputs": [],
   "source": [
    "timegap_nosameday.to_excel(writer, sheet_name=\"2.42rebuyTimeGap\")"
   ]
  },
  {
   "cell_type": "code",
   "execution_count": 72,
   "metadata": {},
   "outputs": [
    {
     "data": {
      "image/png": "[encoded data removed]",
      "text/plain": [
       "<Figure size 800x480 with 1 Axes>"
      ]
     },
     "metadata": {},
     "output_type": "display_data"
    }
   ],
   "source": [
    "fig = plt.figure(figsize = (10,6), dpi = 80)\n",
    "ax = fig.add_subplot()\n",
    "sns.set(style = 'white', palette = 'bright')\n",
    "sns.distplot(timegap_nosameday, bins = 16,kde = False, color = 'b')\n",
    "plt.xlim(xmin = 0)\n",
    "plt.title('Repurchase time gap',fontsize = 18)\n",
    "plt.xlabel('Gap Days', fontsize = 15)\n",
    "plt.grid(linestyle = ':', alpha = 0.7)\n",
    "plt.ylabel('Number of Users', size = 15)\n",
    "ax.spines['top'].set_visible(False)\n",
    "ax.spines['right'].set_visible(False)\n",
    "#ax.set_xticks(range(1,31,2))\n",
    "#plt.savefig('2.32 Repurchase time gap.png')"
   ]
  },
  {
   "cell_type": "markdown",
   "metadata": {},
   "source": [
    "有复购行为的用户，除当天、第二天就进行再次购买外，其他在本月购买行为的最大时间间隔比较均匀的分部在2到30天。"
   ]
  },
  {
   "cell_type": "markdown",
   "metadata": {},
   "source": [
    "## single user payment in total"
   ]
  },
  {
   "cell_type": "code",
   "execution_count": 142,
   "metadata": {},
   "outputs": [
    {
     "data": {
      "text/plain": [
       "user_id\n",
       "29025780      41.68\n",
       "31229488      14.43\n",
       "33535391     138.88\n",
       "33609704      31.31\n",
       "34080306      16.75\n",
       "              ...  \n",
       "566264460      9.74\n",
       "566270279     32.74\n",
       "566270544     19.84\n",
       "566272734     10.79\n",
       "566274213     21.59\n",
       "Name: price, Length: 25762, dtype: float64"
      ]
     },
     "execution_count": 142,
     "metadata": {},
     "output_type": "execute_result"
    }
   ],
   "source": [
    "single_pay = purchase.groupby(\"user_id\").price.sum()\n",
    "single_pay.describe()"
   ]
  },
  {
   "cell_type": "code",
   "execution_count": 167,
   "metadata": {},
   "outputs": [],
   "source": [
    "single_pay.to_excel(writer, sheet_name=\"2.5singlePay\")"
   ]
  },
  {
   "cell_type": "markdown",
   "metadata": {},
   "source": [
    "# 制作漏斗图 calculate funnel"
   ]
  },
  {
   "cell_type": "markdown",
   "metadata": {},
   "source": [
    "## split and merge four phases data\n",
    "定义一个转化路径为同一个用户对同一个商品，从浏览到加购到下单，或从浏览到加购到移除购物车。  \n",
    "The data is splited based on four event types. Then, the data from four phases is merged on the same user id and the same product id, which can be used to understand whether the same user do the next phase event for the same product.  \n",
    "Also, for the data only includes the event history in October, some events may links to the previous history. For instance, a product may be added to cart in September and remove from cart in October. This type of data is excluded in the conversion rate analysis. "
   ]
  },
  {
   "cell_type": "code",
   "execution_count": 60,
   "metadata": {},
   "outputs": [],
   "source": [
    "df_view = df[df.event_type == 'view']\n",
    "df_cart = df[df.event_type == 'cart']\n",
    "df_rf_cart = df[df.event_type == 'remove_from_cart']\n",
    "df_purchase = df[df.event_type == 'purchase']"
   ]
  },
  {
   "cell_type": "markdown",
   "metadata": {},
   "source": [
    "### view to cart"
   ]
  },
  {
   "cell_type": "code",
   "execution_count": 61,
   "metadata": {},
   "outputs": [],
   "source": [
    "df_v_to_c = pd.merge(left = df_view[['time',\n",
    "                              'product_id','user_id',\n",
    "                              'brand','price','category_id','category_code']], \n",
    "                     right = df_cart[['time','user_id','product_id']],\n",
    "                     on = ['user_id','product_id'], how = 'left',\n",
    "                     suffixes = ['_view','_cart'])"
   ]
  },
  {
   "cell_type": "code",
   "execution_count": 62,
   "metadata": {},
   "outputs": [
    {
     "name": "stdout",
     "output_type": "stream",
     "text": [
      "<class 'pandas.core.frame.DataFrame'>\n",
      "Int64Index: 2166987 entries, 0 to 2166986\n",
      "Data columns (total 8 columns):\n",
      " #   Column         Dtype  \n",
      "---  ------         -----  \n",
      " 0   time_view      object \n",
      " 1   product_id     int64  \n",
      " 2   user_id        int64  \n",
      " 3   brand          object \n",
      " 4   price          float64\n",
      " 5   category_id    int64  \n",
      " 6   category_code  object \n",
      " 7   time_cart      object \n",
      "dtypes: float64(1), int64(3), object(4)\n",
      "memory usage: 148.8+ MB\n"
     ]
    }
   ],
   "source": [
    "df_v_to_c.info()"
   ]
  },
  {
   "cell_type": "code",
   "execution_count": 63,
   "metadata": {
    "scrolled": true
   },
   "outputs": [
    {
     "data": {
      "text/html": [
       "<div>\n",
       "<style scoped>\n",
       "    .dataframe tbody tr th:only-of-type {\n",
       "        vertical-align: middle;\n",
       "    }\n",
       "\n",
       "    .dataframe tbody tr th {\n",
       "        vertical-align: top;\n",
       "    }\n",
       "\n",
       "    .dataframe thead th {\n",
       "        text-align: right;\n",
       "    }\n",
       "</style>\n",
       "<table border=\"1\" class=\"dataframe\">\n",
       "  <thead>\n",
       "    <tr style=\"text-align: right;\">\n",
       "      <th></th>\n",
       "      <th>time_view</th>\n",
       "      <th>product_id</th>\n",
       "      <th>user_id</th>\n",
       "      <th>brand</th>\n",
       "      <th>price</th>\n",
       "      <th>category_id</th>\n",
       "      <th>category_code</th>\n",
       "      <th>time_cart</th>\n",
       "    </tr>\n",
       "  </thead>\n",
       "  <tbody>\n",
       "    <tr>\n",
       "      <th>0</th>\n",
       "      <td>00:00:26</td>\n",
       "      <td>5875317</td>\n",
       "      <td>474232307</td>\n",
       "      <td>NaN</td>\n",
       "      <td>1.59</td>\n",
       "      <td>2029082628195353599</td>\n",
       "      <td>NaN</td>\n",
       "      <td>00:01:13</td>\n",
       "    </tr>\n",
       "    <tr>\n",
       "      <th>1</th>\n",
       "      <td>00:00:28</td>\n",
       "      <td>5692917</td>\n",
       "      <td>555446068</td>\n",
       "      <td>lianail</td>\n",
       "      <td>5.54</td>\n",
       "      <td>1487580004857414477</td>\n",
       "      <td>NaN</td>\n",
       "      <td>NaN</td>\n",
       "    </tr>\n",
       "    <tr>\n",
       "      <th>2</th>\n",
       "      <td>00:00:48</td>\n",
       "      <td>5819638</td>\n",
       "      <td>546705258</td>\n",
       "      <td>NaN</td>\n",
       "      <td>21.75</td>\n",
       "      <td>1487580008162526182</td>\n",
       "      <td>NaN</td>\n",
       "      <td>NaN</td>\n",
       "    </tr>\n",
       "    <tr>\n",
       "      <th>3</th>\n",
       "      <td>00:00:53</td>\n",
       "      <td>5856191</td>\n",
       "      <td>507355498</td>\n",
       "      <td>runail</td>\n",
       "      <td>24.44</td>\n",
       "      <td>1487580006350586771</td>\n",
       "      <td>appliances.environment.vacuum</td>\n",
       "      <td>NaN</td>\n",
       "    </tr>\n",
       "    <tr>\n",
       "      <th>4</th>\n",
       "      <td>00:01:11</td>\n",
       "      <td>5733176</td>\n",
       "      <td>543446752</td>\n",
       "      <td>NaN</td>\n",
       "      <td>0.60</td>\n",
       "      <td>1487580009362096156</td>\n",
       "      <td>NaN</td>\n",
       "      <td>NaN</td>\n",
       "    </tr>\n",
       "  </tbody>\n",
       "</table>\n",
       "</div>"
      ],
      "text/plain": [
       "  time_view  product_id    user_id    brand  price          category_id  \\\n",
       "0  00:00:26     5875317  474232307      NaN   1.59  2029082628195353599   \n",
       "1  00:00:28     5692917  555446068  lianail   5.54  1487580004857414477   \n",
       "2  00:00:48     5819638  546705258      NaN  21.75  1487580008162526182   \n",
       "3  00:00:53     5856191  507355498   runail  24.44  1487580006350586771   \n",
       "4  00:01:11     5733176  543446752      NaN   0.60  1487580009362096156   \n",
       "\n",
       "                   category_code time_cart  \n",
       "0                            NaN  00:01:13  \n",
       "1                            NaN       NaN  \n",
       "2                            NaN       NaN  \n",
       "3  appliances.environment.vacuum       NaN  \n",
       "4                            NaN       NaN  "
      ]
     },
     "execution_count": 63,
     "metadata": {},
     "output_type": "execute_result"
    }
   ],
   "source": [
    "df_v_to_c.head()"
   ]
  },
  {
   "cell_type": "markdown",
   "metadata": {},
   "source": [
    "### cart to remove from cart"
   ]
  },
  {
   "cell_type": "code",
   "execution_count": 64,
   "metadata": {},
   "outputs": [
    {
     "name": "stdout",
     "output_type": "stream",
     "text": [
      "<class 'pandas.core.frame.DataFrame'>\n",
      "Int64Index: 2811578 entries, 0 to 2811577\n",
      "Data columns (total 9 columns):\n",
      " #   Column         Dtype  \n",
      "---  ------         -----  \n",
      " 0   time_view      object \n",
      " 1   time_cart      object \n",
      " 2   product_id     int64  \n",
      " 3   user_id        int64  \n",
      " 4   brand          object \n",
      " 5   price          float64\n",
      " 6   category_id    int64  \n",
      " 7   category_code  object \n",
      " 8   time_rf_cart   object \n",
      "dtypes: float64(1), int64(3), object(5)\n",
      "memory usage: 214.5+ MB\n"
     ]
    }
   ],
   "source": [
    "df_v_c_r = pd.merge(left = df_v_to_c[['time_view','time_cart',\n",
    "                              'product_id','user_id',\n",
    "                              'brand','price','category_id','category_code']], \n",
    "                     right = df_rf_cart[['time','user_id','product_id']],\n",
    "                     on = ['user_id','product_id'], how = 'left',\n",
    "                     suffixes = ['_cart','_rf_cart'])\n",
    "df_v_c_r.rename(columns = {'time':'time_rf_cart'},inplace = True)\n",
    "df_v_c_r.info()"
   ]
  },
  {
   "cell_type": "markdown",
   "metadata": {},
   "source": [
    "### cart to buy"
   ]
  },
  {
   "cell_type": "code",
   "execution_count": 65,
   "metadata": {},
   "outputs": [
    {
     "name": "stdout",
     "output_type": "stream",
     "text": [
      "<class 'pandas.core.frame.DataFrame'>\n",
      "Int64Index: 2188536 entries, 0 to 2188535\n",
      "Data columns (total 9 columns):\n",
      " #   Column         Dtype  \n",
      "---  ------         -----  \n",
      " 0   time_view      object \n",
      " 1   time_cart      object \n",
      " 2   product_id     int64  \n",
      " 3   user_id        int64  \n",
      " 4   brand          object \n",
      " 5   price          float64\n",
      " 6   category_id    int64  \n",
      " 7   category_code  object \n",
      " 8   time_purchase  object \n",
      "dtypes: float64(1), int64(3), object(5)\n",
      "memory usage: 167.0+ MB\n"
     ]
    }
   ],
   "source": [
    "df_v_c_b = pd.merge(left = df_v_to_c[['time_view','time_cart',\n",
    "                              'product_id','user_id',\n",
    "                              'brand','price','category_id','category_code']], \n",
    "                     right = df_purchase[['time','user_id','product_id']],\n",
    "                     on = ['user_id','product_id'], how = 'left',\n",
    "                     suffixes = ['_cart','_rf_cart'])\n",
    "df_v_c_b.rename(columns = {'time':'time_purchase'},inplace = True)\n",
    "df_v_c_b.info()"
   ]
  },
  {
   "cell_type": "markdown",
   "metadata": {},
   "source": [
    "## funnel data calculate"
   ]
  },
  {
   "cell_type": "code",
   "execution_count": 66,
   "metadata": {},
   "outputs": [
    {
     "data": {
      "text/html": [
       "<div>\n",
       "<style scoped>\n",
       "    .dataframe tbody tr th:only-of-type {\n",
       "        vertical-align: middle;\n",
       "    }\n",
       "\n",
       "    .dataframe tbody tr th {\n",
       "        vertical-align: top;\n",
       "    }\n",
       "\n",
       "    .dataframe thead th {\n",
       "        text-align: right;\n",
       "    }\n",
       "</style>\n",
       "<table border=\"1\" class=\"dataframe\">\n",
       "  <thead>\n",
       "    <tr style=\"text-align: right;\">\n",
       "      <th></th>\n",
       "      <th>user_id</th>\n",
       "      <th>product_id</th>\n",
       "      <th>time_cart</th>\n",
       "    </tr>\n",
       "  </thead>\n",
       "  <tbody>\n",
       "    <tr>\n",
       "      <th>0</th>\n",
       "      <td>4103071</td>\n",
       "      <td>5563536</td>\n",
       "      <td>0</td>\n",
       "    </tr>\n",
       "    <tr>\n",
       "      <th>1</th>\n",
       "      <td>4103071</td>\n",
       "      <td>5670334</td>\n",
       "      <td>0</td>\n",
       "    </tr>\n",
       "    <tr>\n",
       "      <th>2</th>\n",
       "      <td>4103071</td>\n",
       "      <td>5735272</td>\n",
       "      <td>0</td>\n",
       "    </tr>\n",
       "    <tr>\n",
       "      <th>3</th>\n",
       "      <td>4103071</td>\n",
       "      <td>5784982</td>\n",
       "      <td>0</td>\n",
       "    </tr>\n",
       "    <tr>\n",
       "      <th>4</th>\n",
       "      <td>4103071</td>\n",
       "      <td>5795273</td>\n",
       "      <td>0</td>\n",
       "    </tr>\n",
       "  </tbody>\n",
       "</table>\n",
       "</div>"
      ],
      "text/plain": [
       "   user_id  product_id  time_cart\n",
       "0  4103071     5563536          0\n",
       "1  4103071     5670334          0\n",
       "2  4103071     5735272          0\n",
       "3  4103071     5784982          0\n",
       "4  4103071     5795273          0"
      ]
     },
     "execution_count": 66,
     "metadata": {},
     "output_type": "execute_result"
    }
   ],
   "source": [
    "df_v_to_c1 = df_v_to_c.groupby(['user_id','product_id']).time_cart.nunique().reset_index()\n",
    "df_v_to_c1.head()"
   ]
  },
  {
   "cell_type": "code",
   "execution_count": 67,
   "metadata": {},
   "outputs": [
    {
     "name": "stdout",
     "output_type": "stream",
     "text": [
      "number of view users: 1402922, number of add cart users:326246,v_to_c rate is 0.2325\n"
     ]
    }
   ],
   "source": [
    "view_num = len(df_v_to_c1)\n",
    "cart_num = view_num - len(df_v_to_c1[df_v_to_c1.time_cart == 0])\n",
    "v_to_c_rate = round(cart_num/view_num,4)\n",
    "print(\"number of view users: {}, number of add cart users:{},v_to_c rate is {}\".format(view_num, cart_num, v_to_c_rate))"
   ]
  },
  {
   "cell_type": "code",
   "execution_count": 68,
   "metadata": {},
   "outputs": [
    {
     "data": {
      "text/html": [
       "<div>\n",
       "<style scoped>\n",
       "    .dataframe tbody tr th:only-of-type {\n",
       "        vertical-align: middle;\n",
       "    }\n",
       "\n",
       "    .dataframe tbody tr th {\n",
       "        vertical-align: top;\n",
       "    }\n",
       "\n",
       "    .dataframe thead th {\n",
       "        text-align: right;\n",
       "    }\n",
       "</style>\n",
       "<table border=\"1\" class=\"dataframe\">\n",
       "  <thead>\n",
       "    <tr style=\"text-align: right;\">\n",
       "      <th></th>\n",
       "      <th>user_id</th>\n",
       "      <th>product_id</th>\n",
       "      <th>time_rf_cart</th>\n",
       "    </tr>\n",
       "  </thead>\n",
       "  <tbody>\n",
       "    <tr>\n",
       "      <th>0</th>\n",
       "      <td>4103071</td>\n",
       "      <td>5563536</td>\n",
       "      <td>0</td>\n",
       "    </tr>\n",
       "    <tr>\n",
       "      <th>1</th>\n",
       "      <td>4103071</td>\n",
       "      <td>5670334</td>\n",
       "      <td>0</td>\n",
       "    </tr>\n",
       "    <tr>\n",
       "      <th>2</th>\n",
       "      <td>4103071</td>\n",
       "      <td>5735272</td>\n",
       "      <td>0</td>\n",
       "    </tr>\n",
       "    <tr>\n",
       "      <th>3</th>\n",
       "      <td>4103071</td>\n",
       "      <td>5784982</td>\n",
       "      <td>0</td>\n",
       "    </tr>\n",
       "    <tr>\n",
       "      <th>4</th>\n",
       "      <td>4103071</td>\n",
       "      <td>5795273</td>\n",
       "      <td>0</td>\n",
       "    </tr>\n",
       "  </tbody>\n",
       "</table>\n",
       "</div>"
      ],
      "text/plain": [
       "   user_id  product_id  time_rf_cart\n",
       "0  4103071     5563536             0\n",
       "1  4103071     5670334             0\n",
       "2  4103071     5735272             0\n",
       "3  4103071     5784982             0\n",
       "4  4103071     5795273             0"
      ]
     },
     "execution_count": 68,
     "metadata": {},
     "output_type": "execute_result"
    }
   ],
   "source": [
    "df_c_to_r1 = df_v_c_r.groupby(['user_id','product_id']).time_rf_cart.nunique().reset_index()\n",
    "df_c_to_r1.head()"
   ]
  },
  {
   "cell_type": "code",
   "execution_count": 69,
   "metadata": {},
   "outputs": [],
   "source": [
    "rf_num = len(df_c_to_r1[df_c_to_r1.time_rf_cart != 0])\n",
    "rf_num\n",
    "c_to_rf_rate = round(rf_num/cart_num,4)"
   ]
  },
  {
   "cell_type": "code",
   "execution_count": 70,
   "metadata": {
    "scrolled": true
   },
   "outputs": [
    {
     "data": {
      "text/html": [
       "<div>\n",
       "<style scoped>\n",
       "    .dataframe tbody tr th:only-of-type {\n",
       "        vertical-align: middle;\n",
       "    }\n",
       "\n",
       "    .dataframe tbody tr th {\n",
       "        vertical-align: top;\n",
       "    }\n",
       "\n",
       "    .dataframe thead th {\n",
       "        text-align: right;\n",
       "    }\n",
       "</style>\n",
       "<table border=\"1\" class=\"dataframe\">\n",
       "  <thead>\n",
       "    <tr style=\"text-align: right;\">\n",
       "      <th></th>\n",
       "      <th>product_id</th>\n",
       "      <th>user_id</th>\n",
       "      <th>time_purchase</th>\n",
       "    </tr>\n",
       "  </thead>\n",
       "  <tbody>\n",
       "    <tr>\n",
       "      <th>0</th>\n",
       "      <td>3752</td>\n",
       "      <td>306131139</td>\n",
       "      <td>0</td>\n",
       "    </tr>\n",
       "    <tr>\n",
       "      <th>1</th>\n",
       "      <td>3752</td>\n",
       "      <td>525448973</td>\n",
       "      <td>0</td>\n",
       "    </tr>\n",
       "    <tr>\n",
       "      <th>2</th>\n",
       "      <td>3752</td>\n",
       "      <td>543825317</td>\n",
       "      <td>0</td>\n",
       "    </tr>\n",
       "    <tr>\n",
       "      <th>3</th>\n",
       "      <td>3752</td>\n",
       "      <td>552966434</td>\n",
       "      <td>0</td>\n",
       "    </tr>\n",
       "    <tr>\n",
       "      <th>4</th>\n",
       "      <td>3752</td>\n",
       "      <td>558771491</td>\n",
       "      <td>0</td>\n",
       "    </tr>\n",
       "  </tbody>\n",
       "</table>\n",
       "</div>"
      ],
      "text/plain": [
       "   product_id    user_id  time_purchase\n",
       "0        3752  306131139              0\n",
       "1        3752  525448973              0\n",
       "2        3752  543825317              0\n",
       "3        3752  552966434              0\n",
       "4        3752  558771491              0"
      ]
     },
     "execution_count": 70,
     "metadata": {},
     "output_type": "execute_result"
    }
   ],
   "source": [
    "df_v_c_b1 = df_v_c_b.groupby(['product_id','user_id']).time_purchase.nunique().reset_index()\n",
    "df_v_c_b1.head()"
   ]
  },
  {
   "cell_type": "code",
   "execution_count": 71,
   "metadata": {},
   "outputs": [],
   "source": [
    "b_num = len(df_v_c_b1[df_v_c_b1.time_purchase != 0])\n",
    "b_num\n",
    "c_to_b_rate = round(b_num/cart_num,4)"
   ]
  },
  {
   "cell_type": "code",
   "execution_count": 72,
   "metadata": {},
   "outputs": [
    {
     "name": "stdout",
     "output_type": "stream",
     "text": [
      "\n",
      "number of view is:1402922\n",
      "number of add to cart is :326246\n",
      "number of remove from cart is:151954\n",
      "number of purchase is :86771\n",
      "rate from view to add to cart is:23.25%\n",
      "rate from add to cart to remove is:46.58%\n",
      "rate from add to cart to purchase is: 26.60%\n",
      "\n"
     ]
    }
   ],
   "source": [
    "print(\"\"\"\n",
    "number of view is:{}\n",
    "number of add to cart is :{}\n",
    "number of remove from cart is:{}\n",
    "number of purchase is :{}\n",
    "rate from view to add to cart is:{:.2%}\n",
    "rate from add to cart to remove is:{:.2%}\n",
    "rate from add to cart to purchase is: {:.2%}\n",
    "\"\"\".format(view_num, cart_num, rf_num, b_num,v_to_c_rate,c_to_rf_rate, c_to_b_rate))"
   ]
  },
  {
   "cell_type": "code",
   "execution_count": 81,
   "metadata": {},
   "outputs": [
    {
     "data": {
      "text/html": [
       "<div>\n",
       "<style scoped>\n",
       "    .dataframe tbody tr th:only-of-type {\n",
       "        vertical-align: middle;\n",
       "    }\n",
       "\n",
       "    .dataframe tbody tr th {\n",
       "        vertical-align: top;\n",
       "    }\n",
       "\n",
       "    .dataframe thead th {\n",
       "        text-align: right;\n",
       "    }\n",
       "</style>\n",
       "<table border=\"1\" class=\"dataframe\">\n",
       "  <thead>\n",
       "    <tr style=\"text-align: right;\">\n",
       "      <th></th>\n",
       "      <th>view_num</th>\n",
       "      <th>cart_num</th>\n",
       "      <th>rf_num</th>\n",
       "      <th>pur_num</th>\n",
       "      <th>v_to_c</th>\n",
       "      <th>c_to_rf</th>\n",
       "      <th>c_to_b</th>\n",
       "    </tr>\n",
       "  </thead>\n",
       "  <tbody>\n",
       "    <tr>\n",
       "      <th>1910</th>\n",
       "      <td>1402922</td>\n",
       "      <td>326246</td>\n",
       "      <td>151954</td>\n",
       "      <td>86771</td>\n",
       "      <td>0.2325</td>\n",
       "      <td>0.4658</td>\n",
       "      <td>0.266</td>\n",
       "    </tr>\n",
       "  </tbody>\n",
       "</table>\n",
       "</div>"
      ],
      "text/plain": [
       "      view_num  cart_num  rf_num  pur_num  v_to_c  c_to_rf  c_to_b\n",
       "1910   1402922    326246  151954    86771  0.2325   0.4658   0.266"
      ]
     },
     "execution_count": 81,
     "metadata": {},
     "output_type": "execute_result"
    }
   ],
   "source": [
    "funnel_data = {\"view_num\": view_num, \"cart_num\":cart_num, \"rf_num\":rf_num, \"pur_num\":b_num,\n",
    "              \"v_to_c\": v_to_c_rate, \"c_to_rf\":c_to_rf_rate, \"c_to_b\":c_to_b_rate}\n",
    "funnel_data = pd.DataFrame(funnel_data, index=[\"1910\"])\n",
    "funnel_data"
   ]
  },
  {
   "cell_type": "code",
   "execution_count": 168,
   "metadata": {},
   "outputs": [],
   "source": [
    "funnel_data.to_excel(writer, sheet_name=\"3funnelData\")"
   ]
  },
  {
   "cell_type": "markdown",
   "metadata": {},
   "source": [
    "# product category analysis"
   ]
  },
  {
   "cell_type": "code",
   "execution_count": 83,
   "metadata": {},
   "outputs": [
    {
     "data": {
      "text/html": [
       "<div>\n",
       "<style scoped>\n",
       "    .dataframe tbody tr th:only-of-type {\n",
       "        vertical-align: middle;\n",
       "    }\n",
       "\n",
       "    .dataframe tbody tr th {\n",
       "        vertical-align: top;\n",
       "    }\n",
       "\n",
       "    .dataframe thead th {\n",
       "        text-align: right;\n",
       "    }\n",
       "</style>\n",
       "<table border=\"1\" class=\"dataframe\">\n",
       "  <thead>\n",
       "    <tr style=\"text-align: right;\">\n",
       "      <th></th>\n",
       "      <th>top_brand</th>\n",
       "      <th>count</th>\n",
       "    </tr>\n",
       "  </thead>\n",
       "  <tbody>\n",
       "    <tr>\n",
       "      <th>0</th>\n",
       "      <td>runail</td>\n",
       "      <td>306239</td>\n",
       "    </tr>\n",
       "    <tr>\n",
       "      <th>1</th>\n",
       "      <td>irisk</td>\n",
       "      <td>226589</td>\n",
       "    </tr>\n",
       "    <tr>\n",
       "      <th>2</th>\n",
       "      <td>masura</td>\n",
       "      <td>195170</td>\n",
       "    </tr>\n",
       "    <tr>\n",
       "      <th>3</th>\n",
       "      <td>grattol</td>\n",
       "      <td>132130</td>\n",
       "    </tr>\n",
       "    <tr>\n",
       "      <th>4</th>\n",
       "      <td>bpw.style</td>\n",
       "      <td>114192</td>\n",
       "    </tr>\n",
       "  </tbody>\n",
       "</table>\n",
       "</div>"
      ],
      "text/plain": [
       "   top_brand   count\n",
       "0     runail  306239\n",
       "1      irisk  226589\n",
       "2     masura  195170\n",
       "3    grattol  132130\n",
       "4  bpw.style  114192"
      ]
     },
     "execution_count": 83,
     "metadata": {},
     "output_type": "execute_result"
    }
   ],
   "source": [
    "brandtop10 = df.brand.value_counts()[:10]\n",
    "brandtop10 = brandtop10.reset_index().rename(columns = {\"index\":\"top_brand\",\"brand\":\"count\"})\n",
    "brandtop10.head()"
   ]
  },
  {
   "cell_type": "code",
   "execution_count": 84,
   "metadata": {},
   "outputs": [],
   "source": [
    "brand_event = df[df.brand.isin(brandtop10.top_brand)].groupby(['brand','event_type']).user_id.count().unstack().reset_index()"
   ]
  },
  {
   "cell_type": "code",
   "execution_count": 85,
   "metadata": {},
   "outputs": [
    {
     "data": {
      "text/html": [
       "<div>\n",
       "<style scoped>\n",
       "    .dataframe tbody tr th:only-of-type {\n",
       "        vertical-align: middle;\n",
       "    }\n",
       "\n",
       "    .dataframe tbody tr th {\n",
       "        vertical-align: top;\n",
       "    }\n",
       "\n",
       "    .dataframe thead th {\n",
       "        text-align: right;\n",
       "    }\n",
       "</style>\n",
       "<table border=\"1\" class=\"dataframe\">\n",
       "  <thead>\n",
       "    <tr style=\"text-align: right;\">\n",
       "      <th>event_type</th>\n",
       "      <th>brand</th>\n",
       "      <th>cart</th>\n",
       "      <th>purchase</th>\n",
       "      <th>remove_from_cart</th>\n",
       "      <th>view</th>\n",
       "    </tr>\n",
       "  </thead>\n",
       "  <tbody>\n",
       "    <tr>\n",
       "      <th>0</th>\n",
       "      <td>bpw.style</td>\n",
       "      <td>37785</td>\n",
       "      <td>9506</td>\n",
       "      <td>23576</td>\n",
       "      <td>43325</td>\n",
       "    </tr>\n",
       "    <tr>\n",
       "      <th>1</th>\n",
       "      <td>estel</td>\n",
       "      <td>16207</td>\n",
       "      <td>3211</td>\n",
       "      <td>8035</td>\n",
       "      <td>36989</td>\n",
       "    </tr>\n",
       "    <tr>\n",
       "      <th>2</th>\n",
       "      <td>grattol</td>\n",
       "      <td>33494</td>\n",
       "      <td>6438</td>\n",
       "      <td>24327</td>\n",
       "      <td>67871</td>\n",
       "    </tr>\n",
       "    <tr>\n",
       "      <th>3</th>\n",
       "      <td>ingarden</td>\n",
       "      <td>27948</td>\n",
       "      <td>5181</td>\n",
       "      <td>22060</td>\n",
       "      <td>35091</td>\n",
       "    </tr>\n",
       "    <tr>\n",
       "      <th>4</th>\n",
       "      <td>irisk</td>\n",
       "      <td>78293</td>\n",
       "      <td>15645</td>\n",
       "      <td>47330</td>\n",
       "      <td>85321</td>\n",
       "    </tr>\n",
       "  </tbody>\n",
       "</table>\n",
       "</div>"
      ],
      "text/plain": [
       "event_type      brand   cart  purchase  remove_from_cart   view\n",
       "0           bpw.style  37785      9506             23576  43325\n",
       "1               estel  16207      3211              8035  36989\n",
       "2             grattol  33494      6438             24327  67871\n",
       "3            ingarden  27948      5181             22060  35091\n",
       "4               irisk  78293     15645             47330  85321"
      ]
     },
     "execution_count": 85,
     "metadata": {},
     "output_type": "execute_result"
    }
   ],
   "source": [
    "brand_event.head()"
   ]
  },
  {
   "cell_type": "code",
   "execution_count": 86,
   "metadata": {},
   "outputs": [
    {
     "data": {
      "text/html": [
       "<div>\n",
       "<style scoped>\n",
       "    .dataframe tbody tr th:only-of-type {\n",
       "        vertical-align: middle;\n",
       "    }\n",
       "\n",
       "    .dataframe tbody tr th {\n",
       "        vertical-align: top;\n",
       "    }\n",
       "\n",
       "    .dataframe thead th {\n",
       "        text-align: right;\n",
       "    }\n",
       "</style>\n",
       "<table border=\"1\" class=\"dataframe\">\n",
       "  <thead>\n",
       "    <tr style=\"text-align: right;\">\n",
       "      <th>event_type</th>\n",
       "      <th>brand</th>\n",
       "      <th>cart</th>\n",
       "      <th>purchase</th>\n",
       "      <th>remove_from_cart</th>\n",
       "      <th>view</th>\n",
       "      <th>v_to_c</th>\n",
       "      <th>c_to_b</th>\n",
       "    </tr>\n",
       "  </thead>\n",
       "  <tbody>\n",
       "    <tr>\n",
       "      <th>0</th>\n",
       "      <td>bpw.style</td>\n",
       "      <td>37785</td>\n",
       "      <td>9506</td>\n",
       "      <td>23576</td>\n",
       "      <td>43325</td>\n",
       "      <td>0.872129</td>\n",
       "      <td>0.251581</td>\n",
       "    </tr>\n",
       "    <tr>\n",
       "      <th>1</th>\n",
       "      <td>estel</td>\n",
       "      <td>16207</td>\n",
       "      <td>3211</td>\n",
       "      <td>8035</td>\n",
       "      <td>36989</td>\n",
       "      <td>0.438157</td>\n",
       "      <td>0.198124</td>\n",
       "    </tr>\n",
       "    <tr>\n",
       "      <th>2</th>\n",
       "      <td>grattol</td>\n",
       "      <td>33494</td>\n",
       "      <td>6438</td>\n",
       "      <td>24327</td>\n",
       "      <td>67871</td>\n",
       "      <td>0.493495</td>\n",
       "      <td>0.192214</td>\n",
       "    </tr>\n",
       "    <tr>\n",
       "      <th>3</th>\n",
       "      <td>ingarden</td>\n",
       "      <td>27948</td>\n",
       "      <td>5181</td>\n",
       "      <td>22060</td>\n",
       "      <td>35091</td>\n",
       "      <td>0.796444</td>\n",
       "      <td>0.185380</td>\n",
       "    </tr>\n",
       "    <tr>\n",
       "      <th>4</th>\n",
       "      <td>irisk</td>\n",
       "      <td>78293</td>\n",
       "      <td>15645</td>\n",
       "      <td>47330</td>\n",
       "      <td>85321</td>\n",
       "      <td>0.917629</td>\n",
       "      <td>0.199826</td>\n",
       "    </tr>\n",
       "    <tr>\n",
       "      <th>5</th>\n",
       "      <td>kapous</td>\n",
       "      <td>14576</td>\n",
       "      <td>3117</td>\n",
       "      <td>7306</td>\n",
       "      <td>32916</td>\n",
       "      <td>0.442824</td>\n",
       "      <td>0.213845</td>\n",
       "    </tr>\n",
       "    <tr>\n",
       "      <th>6</th>\n",
       "      <td>masura</td>\n",
       "      <td>58657</td>\n",
       "      <td>11356</td>\n",
       "      <td>45649</td>\n",
       "      <td>79508</td>\n",
       "      <td>0.737750</td>\n",
       "      <td>0.193600</td>\n",
       "    </tr>\n",
       "    <tr>\n",
       "      <th>7</th>\n",
       "      <td>pole</td>\n",
       "      <td>19789</td>\n",
       "      <td>3360</td>\n",
       "      <td>15048</td>\n",
       "      <td>23408</td>\n",
       "      <td>0.845395</td>\n",
       "      <td>0.169791</td>\n",
       "    </tr>\n",
       "    <tr>\n",
       "      <th>8</th>\n",
       "      <td>runail</td>\n",
       "      <td>98737</td>\n",
       "      <td>21936</td>\n",
       "      <td>65957</td>\n",
       "      <td>119609</td>\n",
       "      <td>0.825498</td>\n",
       "      <td>0.222166</td>\n",
       "    </tr>\n",
       "    <tr>\n",
       "      <th>9</th>\n",
       "      <td>uno</td>\n",
       "      <td>13307</td>\n",
       "      <td>3218</td>\n",
       "      <td>8169</td>\n",
       "      <td>23334</td>\n",
       "      <td>0.570284</td>\n",
       "      <td>0.241828</td>\n",
       "    </tr>\n",
       "  </tbody>\n",
       "</table>\n",
       "</div>"
      ],
      "text/plain": [
       "event_type      brand   cart  purchase  remove_from_cart    view    v_to_c  \\\n",
       "0           bpw.style  37785      9506             23576   43325  0.872129   \n",
       "1               estel  16207      3211              8035   36989  0.438157   \n",
       "2             grattol  33494      6438             24327   67871  0.493495   \n",
       "3            ingarden  27948      5181             22060   35091  0.796444   \n",
       "4               irisk  78293     15645             47330   85321  0.917629   \n",
       "5              kapous  14576      3117              7306   32916  0.442824   \n",
       "6              masura  58657     11356             45649   79508  0.737750   \n",
       "7                pole  19789      3360             15048   23408  0.845395   \n",
       "8              runail  98737     21936             65957  119609  0.825498   \n",
       "9                 uno  13307      3218              8169   23334  0.570284   \n",
       "\n",
       "event_type    c_to_b  \n",
       "0           0.251581  \n",
       "1           0.198124  \n",
       "2           0.192214  \n",
       "3           0.185380  \n",
       "4           0.199826  \n",
       "5           0.213845  \n",
       "6           0.193600  \n",
       "7           0.169791  \n",
       "8           0.222166  \n",
       "9           0.241828  "
      ]
     },
     "execution_count": 86,
     "metadata": {},
     "output_type": "execute_result"
    }
   ],
   "source": [
    "brand_event['v_to_c'] = brand_event.cart/brand_event.view\n",
    "brand_event['c_to_b'] = brand_event.purchase/brand_event.cart\n",
    "brand_event"
   ]
  },
  {
   "cell_type": "code",
   "execution_count": 87,
   "metadata": {},
   "outputs": [],
   "source": [
    "brand_event_vb = brand_event.sort_values(by = 'v_to_c', ascending = False)"
   ]
  },
  {
   "cell_type": "code",
   "execution_count": 169,
   "metadata": {},
   "outputs": [],
   "source": [
    "brand_event_vb.to_excel(writer, sheet_name=\"4brand\", index=False)"
   ]
  },
  {
   "cell_type": "markdown",
   "metadata": {},
   "source": [
    "# 20:80\n",
    "## top 20 user"
   ]
  },
  {
   "cell_type": "code",
   "execution_count": 78,
   "metadata": {},
   "outputs": [
    {
     "data": {
      "text/plain": [
       "196408.74"
      ]
     },
     "execution_count": 78,
     "metadata": {},
     "output_type": "execute_result"
    }
   ],
   "source": [
    "total_revenue = purchase.price.sum()\n",
    "total_revenue"
   ]
  },
  {
   "cell_type": "code",
   "execution_count": 79,
   "metadata": {},
   "outputs": [
    {
     "name": "stdout",
     "output_type": "stream",
     "text": [
      "Revenue from top 20 users is 0.52 percent\n"
     ]
    }
   ],
   "source": [
    "top_user = purchase.groupby('user_id').price.sum().reset_index().sort_values(by = 'price', ascending = False)\n",
    "per20 = int(len(top_user)*0.2)\n",
    "top_20user_revenue = top_user.price[:per20].sum()\n",
    "print('Revenue from top 20 users is {} percent'.format(round(top_20user_revenue/total_revenue, 2)))"
   ]
  },
  {
   "cell_type": "markdown",
   "metadata": {},
   "source": [
    "## top20 product"
   ]
  },
  {
   "cell_type": "code",
   "execution_count": 80,
   "metadata": {},
   "outputs": [
    {
     "name": "stdout",
     "output_type": "stream",
     "text": [
      "Revenue from top 20 categories is 0.81 percent\n"
     ]
    }
   ],
   "source": [
    "top_product = purchase.groupby('category_id').price.sum().reset_index().sort_values(by = 'price',ascending = False)\n",
    "per20_category = int(len(top_product)*0.2)\n",
    "top_20product_revenue = top_product.price[:per20_category].sum()\n",
    "print('Revenue from top 20 categories is {} percent'.format(round(top_20product_revenue/total_revenue, 2)))"
   ]
  },
  {
   "cell_type": "markdown",
   "metadata": {},
   "source": [
    "# RFM(recency, frequency, monetary)\n",
    "## extract RFM data\n",
    "calculate the purchased users' recent purchase time, purchase frequency in this month and the total payment they made."
   ]
  },
  {
   "cell_type": "code",
   "execution_count": 89,
   "metadata": {},
   "outputs": [],
   "source": [
    "purchase = df[df.event_type == 'purchase']\n",
    "recent_buy_time = purchase.groupby('user_id').time_zoneless.max().reset_index().rename(columns = {'time_zoneless':'recent_pur_time'})"
   ]
  },
  {
   "cell_type": "code",
   "execution_count": 90,
   "metadata": {},
   "outputs": [
    {
     "data": {
      "text/html": [
       "<div>\n",
       "<style scoped>\n",
       "    .dataframe tbody tr th:only-of-type {\n",
       "        vertical-align: middle;\n",
       "    }\n",
       "\n",
       "    .dataframe tbody tr th {\n",
       "        vertical-align: top;\n",
       "    }\n",
       "\n",
       "    .dataframe thead th {\n",
       "        text-align: right;\n",
       "    }\n",
       "</style>\n",
       "<table border=\"1\" class=\"dataframe\">\n",
       "  <thead>\n",
       "    <tr style=\"text-align: right;\">\n",
       "      <th></th>\n",
       "      <th>user_id</th>\n",
       "      <th>recent_pur_time</th>\n",
       "      <th>gap</th>\n",
       "    </tr>\n",
       "  </thead>\n",
       "  <tbody>\n",
       "    <tr>\n",
       "      <th>0</th>\n",
       "      <td>29025780</td>\n",
       "      <td>2019-10-07 17:57:48</td>\n",
       "      <td>24</td>\n",
       "    </tr>\n",
       "    <tr>\n",
       "      <th>1</th>\n",
       "      <td>31229488</td>\n",
       "      <td>2019-10-03 12:24:58</td>\n",
       "      <td>28</td>\n",
       "    </tr>\n",
       "    <tr>\n",
       "      <th>2</th>\n",
       "      <td>33535391</td>\n",
       "      <td>2019-10-13 19:07:28</td>\n",
       "      <td>18</td>\n",
       "    </tr>\n",
       "    <tr>\n",
       "      <th>3</th>\n",
       "      <td>33609704</td>\n",
       "      <td>2019-10-15 07:55:05</td>\n",
       "      <td>16</td>\n",
       "    </tr>\n",
       "    <tr>\n",
       "      <th>4</th>\n",
       "      <td>34080306</td>\n",
       "      <td>2019-10-30 18:30:12</td>\n",
       "      <td>1</td>\n",
       "    </tr>\n",
       "  </tbody>\n",
       "</table>\n",
       "</div>"
      ],
      "text/plain": [
       "    user_id     recent_pur_time  gap\n",
       "0  29025780 2019-10-07 17:57:48   24\n",
       "1  31229488 2019-10-03 12:24:58   28\n",
       "2  33535391 2019-10-13 19:07:28   18\n",
       "3  33609704 2019-10-15 07:55:05   16\n",
       "4  34080306 2019-10-30 18:30:12    1"
      ]
     },
     "execution_count": 90,
     "metadata": {},
     "output_type": "execute_result"
    }
   ],
   "source": [
    "from datetime import datetime, timedelta\n",
    "end_oct = datetime(2019,10,31,23,59,59)\n",
    "recent_buy_time['gap'] = end_oct - recent_buy_time.recent_pur_time\n",
    "recent_buy_time.gap = recent_buy_time.gap.map(lambda x:x.days)\n",
    "recent_buy_time.head()"
   ]
  },
  {
   "cell_type": "code",
   "execution_count": 91,
   "metadata": {},
   "outputs": [
    {
     "data": {
      "text/html": [
       "<div>\n",
       "<style scoped>\n",
       "    .dataframe tbody tr th:only-of-type {\n",
       "        vertical-align: middle;\n",
       "    }\n",
       "\n",
       "    .dataframe tbody tr th {\n",
       "        vertical-align: top;\n",
       "    }\n",
       "\n",
       "    .dataframe thead th {\n",
       "        text-align: right;\n",
       "    }\n",
       "</style>\n",
       "<table border=\"1\" class=\"dataframe\">\n",
       "  <thead>\n",
       "    <tr style=\"text-align: right;\">\n",
       "      <th></th>\n",
       "      <th>user_id</th>\n",
       "      <th>pur_freq</th>\n",
       "    </tr>\n",
       "  </thead>\n",
       "  <tbody>\n",
       "    <tr>\n",
       "      <th>0</th>\n",
       "      <td>29025780</td>\n",
       "      <td>18</td>\n",
       "    </tr>\n",
       "    <tr>\n",
       "      <th>1</th>\n",
       "      <td>31229488</td>\n",
       "      <td>4</td>\n",
       "    </tr>\n",
       "    <tr>\n",
       "      <th>2</th>\n",
       "      <td>33535391</td>\n",
       "      <td>11</td>\n",
       "    </tr>\n",
       "    <tr>\n",
       "      <th>3</th>\n",
       "      <td>33609704</td>\n",
       "      <td>9</td>\n",
       "    </tr>\n",
       "    <tr>\n",
       "      <th>4</th>\n",
       "      <td>34080306</td>\n",
       "      <td>3</td>\n",
       "    </tr>\n",
       "  </tbody>\n",
       "</table>\n",
       "</div>"
      ],
      "text/plain": [
       "    user_id  pur_freq\n",
       "0  29025780        18\n",
       "1  31229488         4\n",
       "2  33535391        11\n",
       "3  33609704         9\n",
       "4  34080306         3"
      ]
     },
     "execution_count": 91,
     "metadata": {},
     "output_type": "execute_result"
    }
   ],
   "source": [
    "buy_freq = purchase.groupby('user_id').time_zoneless.count().reset_index().rename(columns = {'time_zoneless':'pur_freq'})\n",
    "buy_freq.head()"
   ]
  },
  {
   "cell_type": "code",
   "execution_count": 92,
   "metadata": {},
   "outputs": [
    {
     "data": {
      "text/html": [
       "<div>\n",
       "<style scoped>\n",
       "    .dataframe tbody tr th:only-of-type {\n",
       "        vertical-align: middle;\n",
       "    }\n",
       "\n",
       "    .dataframe tbody tr th {\n",
       "        vertical-align: top;\n",
       "    }\n",
       "\n",
       "    .dataframe thead th {\n",
       "        text-align: right;\n",
       "    }\n",
       "</style>\n",
       "<table border=\"1\" class=\"dataframe\">\n",
       "  <thead>\n",
       "    <tr style=\"text-align: right;\">\n",
       "      <th></th>\n",
       "      <th>user_id</th>\n",
       "      <th>total_momentary</th>\n",
       "    </tr>\n",
       "  </thead>\n",
       "  <tbody>\n",
       "    <tr>\n",
       "      <th>0</th>\n",
       "      <td>29025780</td>\n",
       "      <td>41.68</td>\n",
       "    </tr>\n",
       "    <tr>\n",
       "      <th>1</th>\n",
       "      <td>31229488</td>\n",
       "      <td>14.43</td>\n",
       "    </tr>\n",
       "    <tr>\n",
       "      <th>2</th>\n",
       "      <td>33535391</td>\n",
       "      <td>138.88</td>\n",
       "    </tr>\n",
       "    <tr>\n",
       "      <th>3</th>\n",
       "      <td>33609704</td>\n",
       "      <td>31.31</td>\n",
       "    </tr>\n",
       "    <tr>\n",
       "      <th>4</th>\n",
       "      <td>34080306</td>\n",
       "      <td>16.75</td>\n",
       "    </tr>\n",
       "  </tbody>\n",
       "</table>\n",
       "</div>"
      ],
      "text/plain": [
       "    user_id  total_momentary\n",
       "0  29025780            41.68\n",
       "1  31229488            14.43\n",
       "2  33535391           138.88\n",
       "3  33609704            31.31\n",
       "4  34080306            16.75"
      ]
     },
     "execution_count": 92,
     "metadata": {},
     "output_type": "execute_result"
    }
   ],
   "source": [
    "monetary = purchase.groupby('user_id').price.sum().reset_index().rename(columns = {'price':'total_momentary'})\n",
    "monetary.head()"
   ]
  },
  {
   "cell_type": "code",
   "execution_count": 93,
   "metadata": {},
   "outputs": [],
   "source": [
    "rfm_data = pd.merge(recent_buy_time, buy_freq, on = 'user_id')"
   ]
  },
  {
   "cell_type": "code",
   "execution_count": 94,
   "metadata": {},
   "outputs": [],
   "source": [
    "rfm_data = pd.merge(rfm_data, monetary, on = 'user_id')"
   ]
  },
  {
   "cell_type": "code",
   "execution_count": 95,
   "metadata": {},
   "outputs": [
    {
     "data": {
      "text/html": [
       "<div>\n",
       "<style scoped>\n",
       "    .dataframe tbody tr th:only-of-type {\n",
       "        vertical-align: middle;\n",
       "    }\n",
       "\n",
       "    .dataframe tbody tr th {\n",
       "        vertical-align: top;\n",
       "    }\n",
       "\n",
       "    .dataframe thead th {\n",
       "        text-align: right;\n",
       "    }\n",
       "</style>\n",
       "<table border=\"1\" class=\"dataframe\">\n",
       "  <thead>\n",
       "    <tr style=\"text-align: right;\">\n",
       "      <th></th>\n",
       "      <th>user_id</th>\n",
       "      <th>recent_pur_time</th>\n",
       "      <th>gap</th>\n",
       "      <th>pur_freq</th>\n",
       "      <th>total_momentary</th>\n",
       "    </tr>\n",
       "  </thead>\n",
       "  <tbody>\n",
       "    <tr>\n",
       "      <th>0</th>\n",
       "      <td>29025780</td>\n",
       "      <td>2019-10-07 17:57:48</td>\n",
       "      <td>24</td>\n",
       "      <td>18</td>\n",
       "      <td>41.68</td>\n",
       "    </tr>\n",
       "    <tr>\n",
       "      <th>1</th>\n",
       "      <td>31229488</td>\n",
       "      <td>2019-10-03 12:24:58</td>\n",
       "      <td>28</td>\n",
       "      <td>4</td>\n",
       "      <td>14.43</td>\n",
       "    </tr>\n",
       "    <tr>\n",
       "      <th>2</th>\n",
       "      <td>33535391</td>\n",
       "      <td>2019-10-13 19:07:28</td>\n",
       "      <td>18</td>\n",
       "      <td>11</td>\n",
       "      <td>138.88</td>\n",
       "    </tr>\n",
       "    <tr>\n",
       "      <th>3</th>\n",
       "      <td>33609704</td>\n",
       "      <td>2019-10-15 07:55:05</td>\n",
       "      <td>16</td>\n",
       "      <td>9</td>\n",
       "      <td>31.31</td>\n",
       "    </tr>\n",
       "    <tr>\n",
       "      <th>4</th>\n",
       "      <td>34080306</td>\n",
       "      <td>2019-10-30 18:30:12</td>\n",
       "      <td>1</td>\n",
       "      <td>3</td>\n",
       "      <td>16.75</td>\n",
       "    </tr>\n",
       "  </tbody>\n",
       "</table>\n",
       "</div>"
      ],
      "text/plain": [
       "    user_id     recent_pur_time  gap  pur_freq  total_momentary\n",
       "0  29025780 2019-10-07 17:57:48   24        18            41.68\n",
       "1  31229488 2019-10-03 12:24:58   28         4            14.43\n",
       "2  33535391 2019-10-13 19:07:28   18        11           138.88\n",
       "3  33609704 2019-10-15 07:55:05   16         9            31.31\n",
       "4  34080306 2019-10-30 18:30:12    1         3            16.75"
      ]
     },
     "execution_count": 95,
     "metadata": {},
     "output_type": "execute_result"
    }
   ],
   "source": [
    "rfm_data.head()"
   ]
  },
  {
   "cell_type": "code",
   "execution_count": 170,
   "metadata": {},
   "outputs": [],
   "source": [
    "rfm_data.to_excel(writer, sheet_name=\"6RFMscore\", index=False)"
   ]
  },
  {
   "cell_type": "code",
   "execution_count": 171,
   "metadata": {},
   "outputs": [],
   "source": [
    "writer.save()\n",
    "writer.close()"
   ]
  }
 ],
 "metadata": {
  "kernelspec": {
   "display_name": "Python 3",
   "language": "python",
   "name": "python3"
  },
  "language_info": {
   "codemirror_mode": {
    "name": "ipython",
    "version": 3
   },
   "file_extension": ".py",
   "mimetype": "text/x-python",
   "name": "python",
   "nbconvert_exporter": "python",
   "pygments_lexer": "ipython3",
   "version": "3.7.6"
  },
  "toc": {
   "base_numbering": 1,
   "nav_menu": {},
   "number_sections": true,
   "sideBar": true,
   "skip_h1_title": false,
   "title_cell": "Table of Contents",
   "title_sidebar": "Contents",
   "toc_cell": false,
   "toc_position": {
    "height": "calc(100% - 180px)",
    "left": "10px",
    "top": "150px",
    "width": "307.2px"
   },
   "toc_section_display": true,
   "toc_window_display": false
  }
 },
 "nbformat": 4,
 "nbformat_minor": 2
}
