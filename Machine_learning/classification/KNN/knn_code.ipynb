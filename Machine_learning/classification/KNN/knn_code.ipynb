{
 "cells": [
  {
   "cell_type": "markdown",
   "metadata": {
    "toc": true
   },
   "source": [
    "<h1>Table of Contents<span class=\"tocSkip\"></span></h1>\n",
    "<div class=\"toc\"><ul class=\"toc-item\"><li><span><a href=\"#逐步实现\" data-toc-modified-id=\"逐步实现-1\"><span class=\"toc-item-num\">1&nbsp;&nbsp;</span>逐步实现</a></span></li><li><span><a href=\"#封装类\" data-toc-modified-id=\"封装类-2\"><span class=\"toc-item-num\">2&nbsp;&nbsp;</span>封装类</a></span></li></ul></div>"
   ]
  },
  {
   "cell_type": "markdown",
   "metadata": {},
   "source": [
    "# 逐步实现"
   ]
  },
  {
   "cell_type": "code",
   "execution_count": 1,
   "metadata": {},
   "outputs": [
    {
     "data": {
      "text/plain": [
       "[0, 10, 0, 5]"
      ]
     },
     "execution_count": 1,
     "metadata": {},
     "output_type": "execute_result"
    },
    {
     "data": {
      "image/png": "[encoded data removed]",
      "text/plain": [
       "<Figure size 432x288 with 1 Axes>"
      ]
     },
     "metadata": {
      "needs_background": "light"
     },
     "output_type": "display_data"
    }
   ],
   "source": [
    "import numpy as np\n",
    "import matplotlib.pyplot as plt\n",
    "%matplotlib inline\n",
    "\n",
    "#准备数据\n",
    "# raw_data_x是特征，raw_data_y是标签，0为良性，1为恶性\n",
    "raw_data_X = [[3.393533211, 2.331273381],\n",
    "              [3.110073483, 1.781539638],\n",
    "              [1.343853454, 3.368312451],\n",
    "              [3.582294121, 4.679917921],\n",
    "              [2.280362211, 2.866990212],\n",
    "              [7.423436752, 4.685324231],\n",
    "              [5.745231231, 3.532131321],\n",
    "              [9.172112222, 2.511113104],\n",
    "              [7.927841231, 3.421455345],\n",
    "              [7.939831414, 0.791631213]\n",
    "             ]\n",
    "raw_data_y = [0, 0, 0, 0, 0, 1, 1, 1, 1, 1]\n",
    "\n",
    "#设置训练组\n",
    "X_train = np.array(raw_data_X)\n",
    "y_train = np.array(raw_data_y)\n",
    "#可视化\n",
    "plt.scatter(X_train[y_train==0,0], X_train[y_train==0, 1], color=\"g\", label=\"Tumor Size\")\n",
    "plt.scatter(X_train[y_train==1,0], X_train[y_train==1, 1], color=\"r\", label=\"Time\")\n",
    "plt.xlabel(\"Tumor size\")\n",
    "plt.ylabel(\"Time\")\n",
    "plt.axis([0,10,0,5])"
   ]
  },
  {
   "cell_type": "code",
   "execution_count": 2,
   "metadata": {},
   "outputs": [
    {
     "data": {
      "text/plain": [
       "1"
      ]
     },
     "execution_count": 2,
     "metadata": {},
     "output_type": "execute_result"
    }
   ],
   "source": [
    "#使用欧氏距离求距离\n",
    "from math import sqrt\n",
    "distances = [] #记录预测点x到样本中每个点的距离\n",
    "x = [8.90933607318, 3.365731514]\n",
    "#使用循环\n",
    "\"\"\"\n",
    "for x_train in X_train:\n",
    "    d = sqrt(np.sum((x_train-x) ** 2))\n",
    "    distances.append(d)\n",
    "\"\"\"\n",
    "#使用列表生成器\n",
    "distances = [sqrt(np.sum((x_train - x) **2)) for x_train in X_train]\n",
    "\n",
    "#排序：使用np.argsort(array)返回排序后结果的索引\n",
    "nearest = np.argsort(distances)\n",
    "\n",
    "#选k值，记录最近k个点的标签\n",
    "k = 6\n",
    "topK_y = [y_train[i] for i in nearest[:k]]\n",
    "\n",
    "#决策：投票统计数组中元素和元素出现的频次\n",
    "from collections import Counter\n",
    "votes = Counter(topK_y)\n",
    "\n",
    "#Counter.most_common(n)找出票数最多的n个元素，返回列表，\n",
    "#每个元素是一个元组，元组中第一个元素是对应的元素是谁，第二个元素是频次\n",
    "votes.most_common(1)\n",
    "\n",
    "predict_y = votes.most_common(1)[0][0]\n",
    "predict_y"
   ]
  },
  {
   "cell_type": "markdown",
   "metadata": {},
   "source": [
    "# 封装类"
   ]
  },
  {
   "cell_type": "code",
   "execution_count": 3,
   "metadata": {},
   "outputs": [],
   "source": [
    "import numpy as np\n",
    "from math import sqrt\n",
    "from collections import Counter\n",
    "\n",
    "class kNNClassifier:\n",
    "    \n",
    "    def __init__(self, k):\n",
    "        \"\"\"初始化分类器\"\"\"\n",
    "        assert k >= 1, \"k must be valid\"\n",
    "        self.k = k\n",
    "        self._X_train = None\n",
    "        self._y_train = None\n",
    "    \n",
    "    def fit(self, X_train, y_train):\n",
    "        \"\"\"根据训练集数据训练KNN分类器\"\"\"\n",
    "        assert X_train.shape[0] == y_train.shape[0], \\\n",
    "            \"the size of X_Train must be equal to the size of y_train\"\n",
    "        assert self.k <= X_train.shape[0], \\\n",
    "            \"the size of X_train must be at least k\"\n",
    "        self._X_train = X_train\n",
    "        self._y_train = y_train\n",
    "        return self\n",
    "    \n",
    "    def predict(self, X_predict):\n",
    "        \"\"\"给定带预测数据集X_predict, 返回表示X_predict结果的向量\"\"\"\n",
    "        assert self._X_train is not None and self._y_train is not None, \\\n",
    "            \"must fit before predict\"\n",
    "        assert X_predict.shape[1] == self._X_train.shape[1], \\\n",
    "            \"the feature number of X_predict must be equal to X_train\"\n",
    "        y_predict = [self._predict(x) for x in X_predict]\n",
    "        return np.array(y_predict)\n",
    "    \n",
    "    def _predict(self, x):\n",
    "        distances = [sqrt(np.sum((x_train-x)**2)) for x_train in self._X_train]\n",
    "        nearest = np.argsort(distances)\n",
    "        topK_y = [self._y_train[i] for i in nearest]\n",
    "        votes = Counter(topK_y)\n",
    "        return votes.most_common(1)[0][0]\n",
    "    \n",
    "    def __repr__(self):\n",
    "        return \"kNN(k=%d)\"%self.k"
   ]
  }
 ],
 "metadata": {
  "kernelspec": {
   "display_name": "Python 3",
   "language": "python",
   "name": "python3"
  },
  "language_info": {
   "codemirror_mode": {
    "name": "ipython",
    "version": 3
   },
   "file_extension": ".py",
   "mimetype": "text/x-python",
   "name": "python",
   "nbconvert_exporter": "python",
   "pygments_lexer": "ipython3",
   "version": "3.7.6"
  },
  "toc": {
   "base_numbering": 1,
   "nav_menu": {},
   "number_sections": true,
   "sideBar": true,
   "skip_h1_title": false,
   "title_cell": "Table of Contents",
   "title_sidebar": "Contents",
   "toc_cell": true,
   "toc_position": {},
   "toc_section_display": true,
   "toc_window_display": false
  }
 },
 "nbformat": 4,
 "nbformat_minor": 4
}
